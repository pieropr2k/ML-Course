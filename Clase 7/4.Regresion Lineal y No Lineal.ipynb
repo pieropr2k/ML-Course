{
 "cells": [
  {
   "cell_type": "markdown",
   "metadata": {},
   "source": [
    "---"
   ]
  },
  {
   "cell_type": "markdown",
   "metadata": {},
   "source": [
    "# Caso práctico: Predicción de Picos de Intensidad de impactos en un Molino SAG"
   ]
  },
  {
   "cell_type": "markdown",
   "metadata": {},
   "source": [
    "---"
   ]
  },
  {
   "cell_type": "markdown",
   "metadata": {},
   "source": [
    "# 1. Importación de Librerías"
   ]
  },
  {
   "cell_type": "code",
   "execution_count": null,
   "metadata": {
    "id": "tk0JFhO2uFE3",
    "outputId": "06014a86-a4f6-4679-e913-11f05747b3e9"
   },
   "outputs": [],
   "source": [
    "import matplotlib #.pyplot as plt1\n",
    "from matplotlib import pyplot as plt\n",
    "import numpy as np\n",
    "import pandas as pd\n",
    "import scipy as sp\n",
    "import seaborn as sns\n",
    "import scipy.stats as stats\n",
    "import statsmodels.api as sm\n",
    "import statsmodels.tsa.api as smt\n",
    "import warnings\n",
    "from sklearn.linear_model import LinearRegression\n",
    "from sklearn.model_selection import train_test_split\n",
    "from sklearn.metrics import mean_squared_error "
   ]
  },
  {
   "cell_type": "code",
   "execution_count": null,
   "metadata": {
    "id": "Eg10WQ4nuFE6"
   },
   "outputs": [],
   "source": [
    "warnings.filterwarnings(\"ignore\")\n",
    "%matplotlib inline"
   ]
  },
  {
   "cell_type": "markdown",
   "metadata": {},
   "source": [
    "# 2. Importación de Datos"
   ]
  },
  {
   "cell_type": "code",
   "execution_count": null,
   "metadata": {
    "id": "mSymoBUQuFFF",
    "outputId": "9bd928a6-133b-45ae-f85b-dc454228a583"
   },
   "outputs": [],
   "source": [
    "df = pd.read_csv('data/picos_intensidad_clase.csv',delimiter=';')\n",
    "df.head()"
   ]
  },
  {
   "cell_type": "markdown",
   "metadata": {},
   "source": [
    "# 3. Limpieza de Datos"
   ]
  },
  {
   "cell_type": "code",
   "execution_count": null,
   "metadata": {
    "id": "o8bINY4YmIsa",
    "outputId": "a1fbacca-4428-4434-fbbc-559c473f5834"
   },
   "outputs": [],
   "source": [
    "##Tratamiento de datos invalidos\n",
    "#-------------------------------------------\n",
    "titles=list(df)\n",
    "for col in titles:\n",
    "    #Eliminar filas cuyo valor en columna tenga un dato vacio\n",
    "    df=df.dropna(subset=[col])\n",
    "    #Eliminar valores invalidos\n",
    "    df = df.drop(df[(df[col]=='Bad') | (df[col]=='Shutdown') | (df[col]=='I/O Timeout')| (df[col]=='[-11059] No Good Data For Calculation') | (df[col]==' ')].index)\n",
    "#Filtro Sag encendido\n",
    "df = df.drop(df[df['SAG Run Sts']=='Stop'].index)\n",
    "df = df.drop(['SAG Run Sts'], axis=1)\n",
    "df.isnull().sum(axis=0)\n",
    "\n",
    "df = df.drop(['Fecha'], axis=1) # Igual a: df.drop(['Fecha'], axis='columns', inplace=True)\n",
    "df=df.astype(float).round(2)"
   ]
  },
  {
   "cell_type": "code",
   "execution_count": null,
   "metadata": {},
   "outputs": [],
   "source": [
    "#1. Analisis de Correlaciones de Pearson\n",
    "corr_mat=df.corr(method='pearson')\n",
    "plt.figure(figsize=(10,8))\n",
    "sns.heatmap(corr_mat,vmax=1,square=True,annot=True,center= 0,cmap='coolwarm') # other params: linewidths=3, linecolor='black'"
   ]
  },
  {
   "cell_type": "markdown",
   "metadata": {},
   "source": [
    "# 4. Modelamiento Predictivo"
   ]
  },
  {
   "cell_type": "code",
   "execution_count": null,
   "metadata": {
    "id": "l4UxYrzluFFq"
   },
   "outputs": [],
   "source": [
    "# Target: Variable que intentamos pronosticar\n",
    "target_col = \"Intensidad de impactos\"\n",
    "\n",
    "# Definicion de variables de estudio\n",
    "X = df.loc[:, df.columns != target_col]\n",
    "y = df.loc[:, target_col]\n",
    "\n",
    "#Realizamos una selección de muestra ENTRENAMIENTO Y VALIDACION aletoria y comparables muestras, con \n",
    "#fines de validar el aprendizaje de nuestro modelo\n",
    "X_train, X_test, y_train, y_test = train_test_split(X, y, \n",
    "                                                    test_size=0.30, \n",
    "                                                    random_state=42)"
   ]
  },
  {
   "cell_type": "code",
   "execution_count": null,
   "metadata": {},
   "outputs": [],
   "source": [
    "def indicadores_regresion(y_test,y_pred):\n",
    "    # Calculamos el Root Mean Square Error: Suma(Y_reales-Y_predichos)^2/n\n",
    "    mse = mean_squared_error(y_test, y_pred)\n",
    "    rmse = np.sqrt(mse)\n",
    "\n",
    "    # Definimos y calculamos el MAPE (mean_absolute_percentage_error)\n",
    "    y_test, y_pred = np.array(y_test), np.array(y_pred)\n",
    "    mape = np.mean(np.abs((y_test - y_pred) / y_test)) * 100\n",
    "\n",
    "    return rmse,mape"
   ]
  },
  {
   "cell_type": "code",
   "execution_count": null,
   "metadata": {},
   "outputs": [],
   "source": [
    "from sklearn.linear_model import LinearRegression\n",
    "from sklearn.preprocessing import PolynomialFeatures\n"
   ]
  },
  {
   "cell_type": "markdown",
   "metadata": {
    "id": "pC3oYYxsuFFy"
   },
   "source": [
    "## 4.1. Modelo de Regresion Lineal"
   ]
  },
  {
   "cell_type": "code",
   "execution_count": null,
   "metadata": {
    "id": "oGoVee9cuFFy"
   },
   "outputs": [],
   "source": [
    "# Entrenamiento del modelo\n",
    "model_regression_lineal = LinearRegression()\n",
    "model_regression_lineal.fit(X_train, y_train)\n",
    "\n",
    "# Predecir el conjunto de test\n",
    "y_pred = model_regression_lineal.predict(X_test)\n",
    "residual = y_test - y_pred\n",
    "\n",
    "# Mostrar indicadores de precision\n",
    "rmse, mape = indicadores_regresion(y_test,y_pred)\n",
    "print(f'RMSE: {rmse} - MAPE: {mape}')\n",
    "\n",
    "# Gráfico: Validación del Residual como una Distribución Normal\n",
    "ax = sns.distplot(residual)\n",
    "\n",
    "# Gráfico: Validación de Homocedasticidad\n",
    "fig, ax = plt.subplots(figsize=(20,10))\n",
    "ax.scatter(y_pred, residual)"
   ]
  },
  {
   "cell_type": "code",
   "execution_count": null,
   "metadata": {},
   "outputs": [],
   "source": [
    "# regression coefficients and R-squared value of model\n",
    "print(model_regression_lineal.intercept_, model_regression_lineal.coef_, model_regression_lineal.score(X_train, y_train))"
   ]
  },
  {
   "cell_type": "code",
   "execution_count": null,
   "metadata": {},
   "outputs": [],
   "source": [
    "ecuacion_regresion = dict(zip(X_train.columns, model_regression_lineal.coef_))\n",
    "ecuacion_regresion['INTERCEPTO'] = model_regression_lineal.intercept_\n",
    "ecuacion_regresion"
   ]
  },
  {
   "cell_type": "markdown",
   "metadata": {},
   "source": [
    "## 4.2 Modelo de Regresión Polinómica"
   ]
  },
  {
   "cell_type": "code",
   "execution_count": null,
   "metadata": {},
   "outputs": [],
   "source": [
    "# Transformación polinómica de datos\n",
    "poly_reg = PolynomialFeatures(degree = 2)\n",
    "X_train_poly = poly_reg.fit_transform(X_train)\n",
    "X_test_poly = poly_reg.fit_transform(X_test)\n",
    "\n",
    "# Entrenamiento de modelo\n",
    "model_regression_lineal_transform = LinearRegression()\n",
    "model_regression_lineal_transform.fit(X_train_poly, y_train)\n",
    "\n",
    "# Predecir el conjunto de test\n",
    "y_pred = model_regression_lineal_transform.predict(X_test_poly)\n",
    "residual = y_test - y_pred\n",
    "\n",
    "# Mostrar indicadores de precision\n",
    "rmse, mape = indicadores_regresion(y_test,y_pred)\n",
    "print(f'RMSE: {rmse} - MAPE: {mape}')\n",
    "\n",
    "# Gráfico: Validación del Residual como una Distribución Normal\n",
    "ax = sns.distplot(residual)\n",
    "\n",
    "# Gráfico: Validación de Homocedasticidad\n",
    "fig, ax = plt.subplots(figsize=(20,10))\n",
    "ax.scatter(y_pred, residual)"
   ]
  },
  {
   "cell_type": "code",
   "execution_count": null,
   "metadata": {},
   "outputs": [],
   "source": [
    "# Transformación polinómica de datos\n",
    "poly_reg = PolynomialFeatures(degree = 3)\n",
    "X_train_poly = poly_reg.fit_transform(X_train)\n",
    "X_test_poly = poly_reg.fit_transform(X_test)\n",
    "\n",
    "# Entrenamiento de modelo\n",
    "model_regression_lineal_transform = LinearRegression()\n",
    "model_regression_lineal_transform.fit(X_train_poly, y_train)\n",
    "\n",
    "# Predecir el conjunto de test\n",
    "y_pred = model_regression_lineal_transform.predict(X_test_poly)\n",
    "residual = y_test - y_pred\n",
    "\n",
    "# Mostrar indicadores de precision\n",
    "rmse, mape = indicadores_regresion(y_test,y_pred)\n",
    "print(f'RMSE: {rmse} - MAPE: {mape}')\n",
    "\n",
    "# Gráfico: Validación del Residual como una Distribución Normal\n",
    "ax = sns.distplot(residual)\n",
    "\n",
    "# Gráfico: Validación de Homocedasticidad\n",
    "fig, ax = plt.subplots(figsize=(20,10))\n",
    "ax.scatter(y_pred, residual)"
   ]
  },
  {
   "cell_type": "code",
   "execution_count": null,
   "metadata": {},
   "outputs": [],
   "source": [
    "# Transformación polinómica de datos\n",
    "poly_reg = PolynomialFeatures(degree = 4)\n",
    "X_train_poly = poly_reg.fit_transform(X_train)\n",
    "X_test_poly = poly_reg.fit_transform(X_test)\n",
    "\n",
    "# Entrenamiento de modelo\n",
    "model_regression_lineal_transform = LinearRegression()\n",
    "model_regression_lineal_transform.fit(X_train_poly, y_train)\n",
    "\n",
    "# Predecir el conjunto de test\n",
    "y_pred = model_regression_lineal_transform.predict(X_test_poly)\n",
    "residual = y_test - y_pred\n",
    "\n",
    "# Mostrar indicadores de precision\n",
    "rmse, mape = indicadores_regresion(y_test,y_pred)\n",
    "print(f'RMSE: {rmse} - MAPE: {mape}')\n",
    "\n",
    "# Gráfico: Validación del Residual como una Distribución Normal\n",
    "ax = sns.distplot(residual)\n",
    "\n",
    "# Gráfico: Validación de Homocedasticidad\n",
    "fig, ax = plt.subplots(figsize=(20,10))\n",
    "ax.scatter(y_pred, residual)"
   ]
  },
  {
   "cell_type": "code",
   "execution_count": null,
   "metadata": {},
   "outputs": [],
   "source": [
    "X_train_poly.shape"
   ]
  },
  {
   "cell_type": "code",
   "execution_count": null,
   "metadata": {},
   "outputs": [],
   "source": [
    "# R-squared value of model\n",
    "model_regression_lineal_transform.score(X_train_poly, y_train)"
   ]
  }
 ],
 "metadata": {
  "colab": {
   "collapsed_sections": [
    "rKCjJYE2uFF6",
    "iOTkIfuLuFGF",
    "ImIlgRPruFGF",
    "POEp5bB9uFGP",
    "VmwS14gFuFGW",
    "PpcAmIE8uFGj",
    "7_ozxUeouFGp",
    "Dc8pe8vCuFGt",
    "gqTZJhWVuFGx",
    "MVLwgegfuFHE"
   ],
   "name": "Ntb0 Regresion Lineal supuestos Intensidad de picos Molino vf.ipynb",
   "provenance": []
  },
  "kernelspec": {
   "display_name": "Python 3 (ipykernel)",
   "language": "python",
   "name": "python3"
  },
  "language_info": {
   "codemirror_mode": {
    "name": "ipython",
    "version": 3
   },
   "file_extension": ".py",
   "mimetype": "text/x-python",
   "name": "python",
   "nbconvert_exporter": "python",
   "pygments_lexer": "ipython3",
   "version": "3.11.4"
  },
  "vscode": {
   "interpreter": {
    "hash": "11938c6bc6919ae2720b4d5011047913343b08a43b18698fd82dedb0d4417594"
   }
  }
 },
 "nbformat": 4,
 "nbformat_minor": 1
}
