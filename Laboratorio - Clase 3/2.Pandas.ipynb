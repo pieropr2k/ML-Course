{
 "cells": [
  {
   "cell_type": "markdown",
   "metadata": {},
   "source": [
    "# <u>Librería Pandas</u>"
   ]
  },
  {
   "cell_type": "markdown",
   "metadata": {},
   "source": [
    " La librería Pandas desarrollada para el análisis. Fue desarrollada en NumPy. La librería Pandas trae la riqueza de R al mundo de Python. Tiene eficiente estructuras de datos para procesar los datos, unir datos y leerlos de varias fuentes.\n"
   ]
  },
  {
   "cell_type": "code",
   "execution_count": null,
   "metadata": {},
   "outputs": [],
   "source": [
    "# Importar la librería Pandas desde Python.\n",
    "import pandas as pd\n",
    "import numpy as np\n",
    "import matplotlib.pyplot as plt\n",
    "# para mostrar imágenes estáticas en Jupyter Notebook\n",
    "%matplotlib inline"
   ]
  },
  {
   "cell_type": "markdown",
   "metadata": {},
   "source": [
    "## Series"
   ]
  },
  {
   "cell_type": "markdown",
   "metadata": {},
   "source": [
    "Una **serie** en Pandas es un vector unidimensional con un índice que puede especificarse o no. \n",
    "\n",
    "El objeto `Series` es básicamente igual que un arreglo unidimensional NumPy. **La diferencia esencial es la presencia del índice**: mientras que el arreglo NumPy tiene un índice entero implícitamente definido, usado para acceder a los valores, la serie Pandas tiene un índice explícitamente definido con valores."
   ]
  },
  {
   "cell_type": "code",
   "execution_count": null,
   "metadata": {},
   "outputs": [],
   "source": [
    "# Creación de una serie a partir de 10 números aleatorios.\n",
    "pd.Series(np.random.randint(0,10,10))"
   ]
  },
  {
   "cell_type": "code",
   "execution_count": null,
   "metadata": {},
   "outputs": [],
   "source": [
    "ser_1 = pd.Series(np.random.randint(0,10,10), index=['a','b','c','d','e','f','g','h','i','j'])\n",
    "\n",
    "# también se puede crear una serie desde un diccionario pd.Series({'idx1': val1, 'idx2': val2}"
   ]
  },
  {
   "cell_type": "code",
   "execution_count": null,
   "metadata": {},
   "outputs": [],
   "source": [
    "ser_1"
   ]
  },
  {
   "cell_type": "markdown",
   "metadata": {
    "colab_type": "text",
    "id": "XkVEJbwblgBR"
   },
   "source": [
    "Como vemos en el resultado de la celda anterior, la Serie contiene una secuencia de valores y una secuencia de índices, a las cuales podemos acceder con los atributos `values` y `index`. Los valores son simplemente un arreglo de NumPy:"
   ]
  },
  {
   "cell_type": "code",
   "execution_count": null,
   "metadata": {
    "colab": {},
    "colab_type": "code",
    "id": "Z0ygUtHllgBS"
   },
   "outputs": [],
   "source": [
    "ser_1.values"
   ]
  },
  {
   "cell_type": "markdown",
   "metadata": {
    "colab_type": "text",
    "id": "9MjXdqmhlgBU"
   },
   "source": [
    "El índice es un objeto tipo arreglo."
   ]
  },
  {
   "cell_type": "code",
   "execution_count": null,
   "metadata": {
    "colab": {},
    "colab_type": "code",
    "id": "fYfdbnkXlgBV"
   },
   "outputs": [],
   "source": [
    "ser_1.index"
   ]
  },
  {
   "cell_type": "markdown",
   "metadata": {
    "colab_type": "text",
    "id": "5hK5gDdclgBY"
   },
   "source": [
    "Al igual que con un arreglo NumPy, los datos pueden ser accedidos por el índice asociado, haciendo uso de los corchetes:"
   ]
  },
  {
   "cell_type": "code",
   "execution_count": null,
   "metadata": {},
   "outputs": [],
   "source": [
    "ser_1[2] # indexing"
   ]
  },
  {
   "cell_type": "code",
   "execution_count": null,
   "metadata": {},
   "outputs": [],
   "source": [
    "ser_1[1:4] # slicing"
   ]
  },
  {
   "cell_type": "code",
   "execution_count": null,
   "metadata": {},
   "outputs": [],
   "source": [
    "print('Suma: ')\n",
    "print(ser_1.sum())\n",
    "print('Promedio: ')\n",
    "print(ser_1.mean())\n",
    "print('Mediana: ')\n",
    "print(ser_1.median())\n",
    "print('Mínimo: ')\n",
    "print(ser_1.min())\n",
    "print('Máximo: ')\n",
    "print(ser_1.max())\n",
    "print('Desviación estándar: ')\n",
    "print(ser_1.std())\n",
    "print('Cuantiles: ')\n",
    "print(ser_1.quantile([0.2, 0.4, 0.6,0.8]))\n",
    "print('Conteo de valores: ')\n",
    "print(ser_1.value_counts())\n",
    "print('Conteo de valores porcentuales: ')\n",
    "print(ser_1.value_counts(normalize=True)*100)\n",
    "print('Valores distintos listados: ')\n",
    "print(ser_1.unique())\n",
    "print('Valores distintos ordenados: ')\n",
    "print(np.sort(ser_1.unique()))"
   ]
  },
  {
   "cell_type": "code",
   "execution_count": null,
   "metadata": {},
   "outputs": [],
   "source": [
    "ser_1.sort_values()"
   ]
  },
  {
   "cell_type": "code",
   "execution_count": null,
   "metadata": {},
   "outputs": [],
   "source": [
    "ser_1.sort_values(ascending=False)"
   ]
  },
  {
   "cell_type": "code",
   "execution_count": null,
   "metadata": {},
   "outputs": [],
   "source": [
    "ser_1.sort_index()"
   ]
  },
  {
   "cell_type": "code",
   "execution_count": null,
   "metadata": {},
   "outputs": [],
   "source": [
    "ser_1.sort_index(ascending=False)"
   ]
  },
  {
   "cell_type": "code",
   "execution_count": null,
   "metadata": {},
   "outputs": [],
   "source": [
    "ser_1 + 1 #las series pueden ser tratadas como arrays"
   ]
  },
  {
   "cell_type": "code",
   "execution_count": null,
   "metadata": {},
   "outputs": [],
   "source": [
    "np.sqrt(ser_1) # se puede aplicarle funciones matemáticas"
   ]
  },
  {
   "cell_type": "code",
   "execution_count": null,
   "metadata": {},
   "outputs": [],
   "source": [
    "np.exp(ser_1)"
   ]
  },
  {
   "cell_type": "code",
   "execution_count": null,
   "metadata": {},
   "outputs": [],
   "source": [
    "ser_1.append(pd.Series(10))"
   ]
  },
  {
   "cell_type": "code",
   "execution_count": null,
   "metadata": {},
   "outputs": [],
   "source": [
    "ser_1 = ser_1.append(pd.Series(10, index=['k']))"
   ]
  },
  {
   "cell_type": "code",
   "execution_count": null,
   "metadata": {},
   "outputs": [],
   "source": [
    "ser_1"
   ]
  },
  {
   "cell_type": "code",
   "execution_count": null,
   "metadata": {},
   "outputs": [],
   "source": [
    "ser_x = pd.Series(np.random.randint(0,20,3), index=['a','b','c'])\n",
    "ser_y = pd.Series(np.random.randint(0,20,3), index=['b','c','d'])\n",
    "print(ser_x)\n",
    "print('--------------------------')\n",
    "print(ser_y)\n",
    "print('--------------------------')\n",
    "print(ser_x+ser_y)\n",
    "print('--------------------------')\n",
    "print(ser_x.add(ser_y, fill_value=0))  # también se puede aplicar sub, mul y div"
   ]
  },
  {
   "cell_type": "code",
   "execution_count": null,
   "metadata": {},
   "outputs": [],
   "source": [
    "ax = ser_1.plot()\n",
    "ax.set_xlabel('Index') # leyenda eje x\n",
    "ax.set_ylabel('Valor') # leyenda eje y\n",
    "ax.set_title('Mi primer gráfico') # título de gráfico\n",
    "plt.show()"
   ]
  },
  {
   "cell_type": "markdown",
   "metadata": {
    "colab_type": "text",
    "id": "p8Uf14fOlgBp"
   },
   "source": [
    "### Series como diccionario especializado"
   ]
  },
  {
   "cell_type": "markdown",
   "metadata": {
    "colab_type": "text",
    "id": "SlVoViQllgBq"
   },
   "source": [
    "De esta manera, se puede pensar en una `Serie` Pandas un como un diccionario especializado. \n",
    "\n",
    "Un diccionario es una estructura que mapea llaves arbitrarias a un conjunto de valores arbitrarios, y una serie es una estructura que mapea llaves de un mismo tipo a un conjunto de valores de un mismo tipo. Este tipado (la exigencia de un tipo definido de dato) es importante: la información del tipo de datos de una serie Pandas la hace mucho más eficiente que los diccionarios Python para ciertas operaciones."
   ]
  },
  {
   "cell_type": "code",
   "execution_count": null,
   "metadata": {
    "colab": {},
    "colab_type": "code",
    "id": "yfDW6whnlgBq"
   },
   "outputs": [],
   "source": [
    "goles_favor_dict = {'Perú': 2, \n",
    "         'Brasil': 5, \n",
    "         'Colombia': 5, \n",
    "         'Argentina': 3, \n",
    "         'Uruguay': 5, \n",
    "         'Chile': 0}\n",
    "\n",
    "goles_favor = pd.Series(goles_favor_dict)\n",
    "goles_favor"
   ]
  },
  {
   "cell_type": "code",
   "execution_count": null,
   "metadata": {
    "colab": {},
    "colab_type": "code",
    "id": "6Mz9ydOClgBt"
   },
   "outputs": [],
   "source": [
    "goles_favor.sort_values(ascending=False)"
   ]
  },
  {
   "cell_type": "markdown",
   "metadata": {
    "colab_type": "text",
    "id": "1XW83vXblgBv"
   },
   "source": [
    "Puedes notar que los índices han sido ordenados. Ese es el comportamiento por defecto de Pandas."
   ]
  },
  {
   "cell_type": "code",
   "execution_count": null,
   "metadata": {
    "colab": {},
    "colab_type": "code",
    "id": "qQA2P6sylgBv"
   },
   "outputs": [],
   "source": [
    "goles_favor[\"Perú\"]"
   ]
  },
  {
   "cell_type": "markdown",
   "metadata": {
    "colab_type": "text",
    "id": "lItVpI2YlgBy"
   },
   "source": [
    "A diferencia de los diccionarios, las `Series` pueden soportar operaciones del tipo array tal como el **slicing**:"
   ]
  },
  {
   "cell_type": "code",
   "execution_count": null,
   "metadata": {
    "colab": {},
    "colab_type": "code",
    "id": "mBcccCAylgBy"
   },
   "outputs": [],
   "source": [
    "goles_favor[\"Brasil\": \"Argentina\"]"
   ]
  },
  {
   "cell_type": "markdown",
   "metadata": {},
   "source": [
    "## Data Frames"
   ]
  },
  {
   "cell_type": "markdown",
   "metadata": {},
   "source": [
    "Un **DataFrame** son estructuras bidimensionales donde las columnas está etiquetadas con su valor y pueden ser de tipos distintos. Una analogía a un Dataframe podria ser una hoja de cálculo Excel o una tabla de una base de datos.\n",
    "\n",
    "De forma opcional un Dataframe puede tener un índice. Ese índice será el nombre de las filas."
   ]
  },
  {
   "cell_type": "markdown",
   "metadata": {
    "colab_type": "text",
    "id": "084d5F2HlgCA"
   },
   "source": [
    "### DataFrame como un arreglo NumPy generalizado\n",
    "\n",
    "Si una `Serie` es el análogo de un arreglo unidimensional con índices flexibles, un `DataFrame` es el análogo de un arreglo bidimensional con índices de fila y nombres de columna flexibles."
   ]
  },
  {
   "cell_type": "code",
   "execution_count": null,
   "metadata": {
    "colab": {},
    "colab_type": "code",
    "id": "MlNgdqNXlgCB"
   },
   "outputs": [],
   "source": [
    "# Goles en contra\n",
    "goles_contra_dict = {'Perú': 2, \n",
    "         'Brasil': 1, \n",
    "         'Colombia': 2, \n",
    "         'Argentina': 5, \n",
    "         'Uruguay': 0, \n",
    "         'Chile': 0}\n",
    "\n",
    "goles_contra = pd.Series(goles_contra_dict)\n",
    "goles_contra"
   ]
  },
  {
   "cell_type": "markdown",
   "metadata": {
    "colab_type": "text",
    "id": "AJOp7Z-plgCF"
   },
   "source": [
    "Ahora con estas 2 series podemos utilizar un diccionario para construir un único objeto bidimensional que contenga esta información:"
   ]
  },
  {
   "cell_type": "code",
   "execution_count": null,
   "metadata": {
    "colab": {},
    "colab_type": "code",
    "id": "rTWKw94LlgCG"
   },
   "outputs": [],
   "source": [
    "dfGoles = pd.DataFrame({'goles_a_favor': goles_favor,\n",
    "                       'goles_en_contra': goles_contra})\n",
    "dfGoles"
   ]
  },
  {
   "cell_type": "code",
   "execution_count": null,
   "metadata": {
    "colab": {},
    "colab_type": "code",
    "id": "ZMTuud5ZlgCJ"
   },
   "outputs": [],
   "source": [
    "dfGoles['diferencia_goles'] = dfGoles['goles_a_favor'] - dfGoles['goles_en_contra']"
   ]
  },
  {
   "cell_type": "code",
   "execution_count": null,
   "metadata": {
    "colab": {},
    "colab_type": "code",
    "id": "FE2YytF1lgCL"
   },
   "outputs": [],
   "source": [
    "dfGoles"
   ]
  },
  {
   "cell_type": "code",
   "execution_count": null,
   "metadata": {
    "colab": {},
    "colab_type": "code",
    "id": "BdxTJrj-lgCN"
   },
   "outputs": [],
   "source": [
    "# Ver sólo la diferencia de goles\n",
    "dfGoles[\"diferencia_goles\"]"
   ]
  },
  {
   "cell_type": "code",
   "execution_count": null,
   "metadata": {},
   "outputs": [],
   "source": [
    "dfGoles[[\"diferencia_goles\"]]"
   ]
  },
  {
   "cell_type": "code",
   "execution_count": null,
   "metadata": {
    "colab": {},
    "colab_type": "code",
    "id": "LmkBKayVlgCO"
   },
   "outputs": [],
   "source": [
    "# Ver la diferencia de goles de Perú\n",
    "dfGoles[\"diferencia_goles\"][\"Brasil\"]"
   ]
  },
  {
   "cell_type": "code",
   "execution_count": null,
   "metadata": {
    "colab": {},
    "colab_type": "code",
    "id": "pFEW3oMalgCQ"
   },
   "outputs": [],
   "source": [
    "# Índices\n",
    "dfGoles.index"
   ]
  },
  {
   "cell_type": "code",
   "execution_count": null,
   "metadata": {
    "colab": {},
    "colab_type": "code",
    "id": "3yeqNrkUlgCT"
   },
   "outputs": [],
   "source": [
    "# Columnas\n",
    "dfGoles.columns"
   ]
  },
  {
   "cell_type": "markdown",
   "metadata": {
    "colab_type": "text",
    "id": "fizb2xpIlgCY"
   },
   "source": [
    "### DataFrame como diccionario especializado\n",
    "\n",
    "De igual manera, podemos pensar en el `DataFrame` como la especialización de un diccionario. Tal como un diccionario asocia una llave a un valor, un `DataFrame` asocia un nombre de columna a una serie de datos. \n",
    "\n",
    "Por ejemplo, preguntar por el atributo **goles_a_favor** retorna el objeto `Serie` conteniendo las goles a favor que vimos antes:"
   ]
  },
  {
   "cell_type": "code",
   "execution_count": null,
   "metadata": {
    "colab": {},
    "colab_type": "code",
    "id": "rtmXg6h-lgCY"
   },
   "outputs": [],
   "source": [
    "dfGoles[\"goles_a_favor\"]"
   ]
  },
  {
   "cell_type": "code",
   "execution_count": null,
   "metadata": {
    "colab": {},
    "colab_type": "code",
    "id": "mNCHnZshlgCb"
   },
   "outputs": [],
   "source": [
    "dfGoles[\"goles_en_contra\"]"
   ]
  },
  {
   "cell_type": "code",
   "execution_count": null,
   "metadata": {},
   "outputs": [],
   "source": [
    "# Data Frames que provienen de diccionarios de series.\n",
    "d = {'c1': pd.Series(['A', 'B', 'C']),'c2': pd.Series([1., 2., 3., 4.])}\n",
    "data1 = pd.DataFrame(d)\n",
    "data1"
   ]
  },
  {
   "cell_type": "code",
   "execution_count": null,
   "metadata": {},
   "outputs": [],
   "source": [
    "# Data Frames que provienen de diccionarios de listas.\n",
    "d = {'c1': ['A', 'B', 'C', 'D'],'c2': [1.0, 2.0, 3.0, 4.0]}\n",
    "data2 = pd.DataFrame(d)\n",
    "data2"
   ]
  },
  {
   "cell_type": "markdown",
   "metadata": {},
   "source": [
    "#### Creación de un campo de fechas usando pandas"
   ]
  },
  {
   "cell_type": "code",
   "execution_count": null,
   "metadata": {},
   "outputs": [],
   "source": [
    "#date_range genera una lista de fechas.\n",
    "dates = pd.date_range(start = '20180101',periods=10)\n",
    "print(dates)"
   ]
  },
  {
   "cell_type": "code",
   "execution_count": null,
   "metadata": {},
   "outputs": [],
   "source": [
    "dates2 = pd.date_range(end = '20180101',periods=10)\n",
    "print(dates2)"
   ]
  },
  {
   "cell_type": "code",
   "execution_count": null,
   "metadata": {},
   "outputs": [],
   "source": [
    "dates3 = pd.date_range(start='2018-01-01', end='2018-02-01', periods=4)\n",
    "print(dates3)"
   ]
  },
  {
   "cell_type": "code",
   "execution_count": null,
   "metadata": {},
   "outputs": [],
   "source": [
    "dates4 = pd.date_range(start='1/1/2018', periods=5, freq='M')\n",
    "print(dates4)"
   ]
  },
  {
   "cell_type": "code",
   "execution_count": null,
   "metadata": {},
   "outputs": [],
   "source": [
    "dates5 = pd.date_range(start='1/1/2018', periods=20, freq='T')  #'min'\n",
    "print(dates5)"
   ]
  },
  {
   "cell_type": "code",
   "execution_count": null,
   "metadata": {},
   "outputs": [],
   "source": [
    "dates6 = pd.date_range(start='1/1/2018', periods=20, freq='5min')  #'min'\n",
    "print(dates6)"
   ]
  },
  {
   "cell_type": "markdown",
   "metadata": {},
   "source": [
    "https://pandas.pydata.org/docs/user_guide/timeseries.html#timeseries-offset-aliases"
   ]
  },
  {
   "cell_type": "markdown",
   "metadata": {},
   "source": [
    "#### Continuamos con creación de dataframes:\n",
    "\n",
    "Integramos el campo de fecha como índice de un dataframe"
   ]
  },
  {
   "cell_type": "code",
   "execution_count": null,
   "metadata": {},
   "outputs": [],
   "source": [
    "import pandas as pd\n",
    "import numpy as np"
   ]
  },
  {
   "cell_type": "code",
   "execution_count": null,
   "metadata": {},
   "outputs": [],
   "source": [
    "dates = pd.date_range(start = '20180101',periods=10)"
   ]
  },
  {
   "cell_type": "code",
   "execution_count": null,
   "metadata": {},
   "outputs": [],
   "source": [
    "#index=> es el índice y indica el nombre de cada fila. en este caso metemos\n",
    "#el array de dates del paso anterior. Columns identifica la etiqueta de las\n",
    "#columnas.\n",
    "df = pd.DataFrame(np.random.randint(0,100,(10,10)),index=dates,columns=list('ABCDEFGHIJ'))\n",
    "df   # alternativamente se puede usar display(df)"
   ]
  },
  {
   "cell_type": "code",
   "execution_count": null,
   "metadata": {},
   "outputs": [],
   "source": [
    "print(df)"
   ]
  },
  {
   "cell_type": "code",
   "execution_count": null,
   "metadata": {},
   "outputs": [],
   "source": [
    "display(df)  # solo para pandas dataframes"
   ]
  },
  {
   "cell_type": "markdown",
   "metadata": {},
   "source": [
    "Los tipos de datos de un dataframe pueden ser diferentes. Es la misma idea que una tabla de la base de datos. Cada columna puede ser de un tipo diferente."
   ]
  },
  {
   "cell_type": "code",
   "execution_count": null,
   "metadata": {},
   "outputs": [],
   "source": [
    "serie = pd.Series([42,46,15,12,67],index=list(range(5)))\n",
    "df2 = pd.DataFrame({'A':1.0,\n",
    "                    'B':pd.Timestamp('20130102'), ### 'YYYYMMDD'\n",
    "                    'C':serie,\n",
    "                    'D':2,\n",
    "                    'E':pd.Categorical(['test','train','test','train','test']),\n",
    "                    'F': \"foo\" \n",
    "                   })\n",
    "display(df2)\n",
    "print(df2.dtypes)"
   ]
  },
  {
   "cell_type": "markdown",
   "metadata": {},
   "source": [
    "Veamos algunas funciones útiles:\n",
    "* pd.Timestamp(): genera una campo de tipo timestamp.\n",
    "* pd.Series() Genera una serie de números. El index es el índice de la serie que es de tipo entero. Range genera los 4 primeros números.\n",
    "* pd.Categorical() genera una lista de categorías."
   ]
  },
  {
   "cell_type": "markdown",
   "metadata": {},
   "source": [
    "#### Principales funciones con dataframes:\n",
    "\n",
    "A continuación se muestran diversas funciones útiles para acceder a las \n",
    "características de un DataFrame"
   ]
  },
  {
   "cell_type": "code",
   "execution_count": null,
   "metadata": {},
   "outputs": [],
   "source": [
    "print(df.index)\n",
    "print('----------------------------------------')\n",
    "print(df.columns)\n",
    "print('----------------------------------------')\n",
    "print(df.values)\n",
    "print('----------------------------------------')\n",
    "display(df)   # solo funciona en jupyters notebooks\n",
    "print(\"=========================================\")\n",
    "print(df.describe())    #principales estadisticos de un dataframe"
   ]
  },
  {
   "cell_type": "code",
   "execution_count": null,
   "metadata": {},
   "outputs": [],
   "source": [
    "#dataframe transpuesto\n",
    "df.T"
   ]
  },
  {
   "cell_type": "code",
   "execution_count": null,
   "metadata": {},
   "outputs": [],
   "source": [
    "df.T.describe()"
   ]
  },
  {
   "cell_type": "code",
   "execution_count": null,
   "metadata": {},
   "outputs": [],
   "source": [
    "import matplotlib.pyplot as plt"
   ]
  },
  {
   "cell_type": "code",
   "execution_count": null,
   "metadata": {},
   "outputs": [],
   "source": [
    "# gráficas con pandas \n",
    "\n",
    "df.plot()\n",
    "plt.show()"
   ]
  },
  {
   "cell_type": "code",
   "execution_count": null,
   "metadata": {},
   "outputs": [],
   "source": [
    "# el corchete en un dataframe jala columnas\n",
    "df[['A','B']].plot()\n",
    "plt.show()"
   ]
  },
  {
   "cell_type": "code",
   "execution_count": null,
   "metadata": {},
   "outputs": [],
   "source": [
    "#diagrama de barras\n",
    "df['A'].plot.bar()\n",
    "plt.show()"
   ]
  },
  {
   "cell_type": "code",
   "execution_count": null,
   "metadata": {},
   "outputs": [],
   "source": [
    "#histograma\n",
    "df['A'].plot.hist()\n",
    "plt.show()"
   ]
  },
  {
   "cell_type": "code",
   "execution_count": null,
   "metadata": {},
   "outputs": [],
   "source": [
    "#diagrama de cajas\n",
    "df['A'].plot.box()\n",
    "plt.show()"
   ]
  },
  {
   "cell_type": "code",
   "execution_count": null,
   "metadata": {},
   "outputs": [],
   "source": [
    "#diagrama de barras de todas las variables\n",
    "df.plot.box()\n",
    "plt.show()"
   ]
  },
  {
   "cell_type": "code",
   "execution_count": null,
   "metadata": {},
   "outputs": [],
   "source": [
    "#gráfico de área\n",
    "df.plot.area()\n",
    "plt.show()"
   ]
  },
  {
   "cell_type": "code",
   "execution_count": null,
   "metadata": {},
   "outputs": [],
   "source": [
    "#diagrama de dispersión\n",
    "df.plot.scatter('A','B')\n",
    "plt.show()"
   ]
  },
  {
   "cell_type": "markdown",
   "metadata": {},
   "source": [
    "#### Ordenar un dataframe"
   ]
  },
  {
   "cell_type": "code",
   "execution_count": null,
   "metadata": {},
   "outputs": [],
   "source": [
    "#Ordenar por índices\n",
    "display(df)\n",
    "display(df.sort_index(axis=0,ascending=False)) # ordena las filas (axis 0)\n",
    "display(df.sort_index(axis=1,ascending=False)) # ordena las columnas (axis 1)\n",
    "display(df.sort_index(axis=1,ascending=False).sort_index(axis=0,ascending=False))"
   ]
  },
  {
   "cell_type": "code",
   "execution_count": null,
   "metadata": {},
   "outputs": [],
   "source": [
    "#Ordenar por columnas\n",
    "#display(df)\n",
    "display(df.sort_values(by=['C'],ascending=True)) \n",
    "# selecciona la columna que utilizaremos como criterio de ordenación"
   ]
  },
  {
   "cell_type": "code",
   "execution_count": null,
   "metadata": {},
   "outputs": [],
   "source": [
    "# ordenando por más de una variable a la vez\n",
    "display(df.sort_values(by=['B','C'],ascending=True)) "
   ]
  },
  {
   "cell_type": "markdown",
   "metadata": {},
   "source": [
    "Las funciones head y tail nos muestran los primeros y últimos elementos respectivamente. Útiles para resumir el dataframe cuando estos son muy grandes."
   ]
  },
  {
   "cell_type": "code",
   "execution_count": null,
   "metadata": {},
   "outputs": [],
   "source": [
    "display(df.head())  # por defecto muestra 5\n",
    "display(df.tail(2))"
   ]
  },
  {
   "cell_type": "code",
   "execution_count": null,
   "metadata": {},
   "outputs": [],
   "source": [
    "display(df.sort_values(by=['C'],ascending=False).head(4)) "
   ]
  },
  {
   "cell_type": "markdown",
   "metadata": {},
   "source": [
    "#### Acceder a una columna."
   ]
  },
  {
   "cell_type": "code",
   "execution_count": null,
   "metadata": {},
   "outputs": [],
   "source": [
    "display(df['B'])   # también es valido cuando la columna tiene espacios en blanco\n",
    "display(df.B) # Ojo con los nombres de las columnas que sea palabras con espacio\n",
    "display(df[['B']])  # devuelve un dataframe"
   ]
  },
  {
   "cell_type": "raw",
   "metadata": {},
   "source": [
    "df['nombre completo']    OK\n",
    "df.nombre completo       MAL!!!!"
   ]
  },
  {
   "cell_type": "markdown",
   "metadata": {},
   "source": [
    "#### Acceder a una fila."
   ]
  },
  {
   "cell_type": "code",
   "execution_count": null,
   "metadata": {},
   "outputs": [],
   "source": [
    "display(df[1:4])\n",
    "display(df['2018-01-02':'2018-01-04']) # selección por filas con un rango de numpy"
   ]
  },
  {
   "cell_type": "code",
   "execution_count": null,
   "metadata": {},
   "outputs": [],
   "source": [
    "df2 = df.sort_values(by=['C'],ascending=True)\n",
    "type(df2)\n",
    "df2[1:4]"
   ]
  },
  {
   "cell_type": "code",
   "execution_count": null,
   "metadata": {},
   "outputs": [],
   "source": [
    "display(df2)"
   ]
  },
  {
   "cell_type": "code",
   "execution_count": null,
   "metadata": {},
   "outputs": [],
   "source": [
    "display(df2['2018-01-02':'2018-01-04']) # solo vale cuando el index está ordenado"
   ]
  },
  {
   "cell_type": "code",
   "execution_count": null,
   "metadata": {},
   "outputs": [],
   "source": [
    "display(df2.sort_index()['2018-01-02':'2018-01-04'])"
   ]
  },
  {
   "cell_type": "markdown",
   "metadata": {},
   "source": [
    "La función **loc()** define una selección a traves de nombres de indices, ya sea por filas o columnas"
   ]
  },
  {
   "cell_type": "code",
   "execution_count": null,
   "metadata": {},
   "outputs": [],
   "source": [
    "print(dates)\n",
    "type(dates)\n",
    "print(dates[2])"
   ]
  },
  {
   "cell_type": "code",
   "execution_count": null,
   "metadata": {},
   "outputs": [],
   "source": [
    "display(df)\n",
    "print(dates[1])\n",
    "display(df.loc[[dates[1]]])   #el doble corchete convierte la salida en un dataframe, el corchete simple devuelve una serie\n",
    "display(df.loc[pd.Timestamp('2018-01-03')])\n",
    "display(df.loc[:,['A','B']]) #selecciona todas las filas y las columnas A y B en una lista\n",
    "display(df.loc['2018-01-01':'2018-01-02',['A','C']]) #selecciona las filas '2013-01-01' a '2013-01-02' y las columnas A y B"
   ]
  },
  {
   "cell_type": "markdown",
   "metadata": {},
   "source": [
    "**iloc()** es similar, pero utiliza enteros en vez de los nombres de los campos (podemos aplicar indexing y slicing)."
   ]
  },
  {
   "cell_type": "code",
   "execution_count": null,
   "metadata": {},
   "outputs": [],
   "source": [
    "display(df.iloc[3])    # devuelve como resultado una serie\n",
    "display(df.iloc[[3]])    # devuelve como resultado un dataframe\n",
    "display(df.iloc[0:2,0:2])\n",
    "display(df.iloc[[1,2,4],[0,2,3]])\n",
    "display(df.iloc[:,[0,2,3]])\n",
    "display(df.iloc[[0,2,4],:])"
   ]
  },
  {
   "cell_type": "code",
   "execution_count": null,
   "metadata": {},
   "outputs": [],
   "source": [
    "df.iloc[3].sum()"
   ]
  },
  {
   "cell_type": "code",
   "execution_count": null,
   "metadata": {},
   "outputs": [],
   "source": [
    "df.iloc[[3]]  # sugerencia: sólo para representaciones"
   ]
  },
  {
   "cell_type": "code",
   "execution_count": null,
   "metadata": {},
   "outputs": [],
   "source": [
    "display(df.loc['2018-01-01':'2018-01-02',['A','B']])"
   ]
  },
  {
   "cell_type": "code",
   "execution_count": null,
   "metadata": {},
   "outputs": [],
   "source": [
    "display(df.iloc[0:2,[0,1]])"
   ]
  },
  {
   "cell_type": "markdown",
   "metadata": {},
   "source": [
    "**Filtrado condicional:** Similar a select where condition de sql. Permite consular solo los valores que cumplan con la condición."
   ]
  },
  {
   "cell_type": "code",
   "execution_count": null,
   "metadata": {},
   "outputs": [],
   "source": [
    "display(df)\n",
    "display(df[df.B > 50]) # muestra los valores de la tabla en cuya columna B su valor sea mayor que 0\n",
    "display(df[(df['B']> 50) & (df.C < 50)])\n",
    "display(df[df > 50]) \n",
    "# muestra los elementos de la tabla que sean mayores que el valor. El resto serán NaN"
   ]
  },
  {
   "cell_type": "markdown",
   "metadata": {},
   "source": [
    "**Cruzado de datos (merge)** similar a la que se puede hacer en BBDD con join."
   ]
  },
  {
   "cell_type": "code",
   "execution_count": null,
   "metadata": {},
   "outputs": [],
   "source": [
    "tabla1 = pd.DataFrame({'key1' : ['A','B','C','D'], 'lval':[1,2,3,4]})\n",
    "tabla2 = pd.DataFrame({'key2' : ['C','D','E','F'], 'rval':[5,6,7,8]})\n",
    "display(tabla1)\n",
    "display(tabla2)\n",
    "new1 = pd.merge(tabla1,tabla2,left_on='key1',right_on='key2', how=\"left\")  \n",
    "# si el campo para fusionar se llam igual en ambas tablas, basta con poner on=\" \"\n",
    "#how : forma en la que combinamos con una intersección o con una unión, \n",
    "#sólo con la izquierda o sólo con la tabla de la derecha\n",
    "#left, right, inner o outer.\n",
    "display(new1)\n",
    "new2 = pd.merge(tabla1,tabla2,left_on='key1',right_on='key2', how=\"inner\") \n",
    "display(new2)"
   ]
  },
  {
   "cell_type": "markdown",
   "metadata": {},
   "source": [
    "Pero veo que existe un método llamado **join()**. ¿Tienen la misma funcionalidad?"
   ]
  },
  {
   "cell_type": "code",
   "execution_count": null,
   "metadata": {},
   "outputs": [],
   "source": [
    "tabla1.set_index('key1').join(tabla2.set_index('key2'))"
   ]
  },
  {
   "cell_type": "code",
   "execution_count": null,
   "metadata": {},
   "outputs": [],
   "source": [
    "tabla1.set_index('key1').join(tabla2.set_index('key2'),how=\"inner\")"
   ]
  },
  {
   "cell_type": "markdown",
   "metadata": {},
   "source": [
    "Pues la respuesta es que **No**. El método `join()` se usa cuando se quiere cruzar dos DataFrames en base a sus índices o en base al(a los) índice(s) de un DataFrame con la(s) columna(s) de la otra."
   ]
  },
  {
   "cell_type": "code",
   "execution_count": null,
   "metadata": {
    "scrolled": true
   },
   "outputs": [],
   "source": [
    "tabla1 = pd.DataFrame({'key1' : ['A','B','C','D'], 'valor':[1,2,3,4]})\n",
    "tabla2 = pd.DataFrame({'key1' : ['C','D','E','F'], 'valor':[5,6,7,8]})\n",
    "\n",
    "#para juntar 2 dataframes con la misma estructura\n",
    "tabla_conjunta = pd.concat([tabla1, tabla2])\n",
    "tabla_conjunta"
   ]
  },
  {
   "cell_type": "code",
   "execution_count": null,
   "metadata": {},
   "outputs": [],
   "source": [
    "tabla_conjunta.reset_index().drop(columns = 'index')"
   ]
  },
  {
   "cell_type": "markdown",
   "metadata": {},
   "source": [
    "#### Agrupaciones\n",
    "\n",
    "Para hacer agrupaciones, podemos usar **groupby**"
   ]
  },
  {
   "cell_type": "code",
   "execution_count": null,
   "metadata": {},
   "outputs": [],
   "source": [
    "f = pd.DataFrame({'A' : ['foo', 'bar'] * 12,\n",
    "                   'B' : ['one', 'two', 'three']*8,\n",
    "                   'val1' : np.random.rand(24),\n",
    "                   'val2' : np.random.rand(24)})\n",
    "display(f)"
   ]
  },
  {
   "cell_type": "code",
   "execution_count": null,
   "metadata": {},
   "outputs": [],
   "source": [
    "group = f.groupby(['A','B'])\n",
    "print(\"-------------\")\n",
    "display(group) \n",
    "# los grupos no se pueden mostrar directamente, \n",
    "# group está pensado para ejecutar posteriormente una acción\n",
    "# por ejemplo sumar\n",
    "print(\"-----suma agrupada------\")\n",
    "display(group.sum())\n",
    "print(\"-----estadisticos agrupados------\")\n",
    "display(group.describe())"
   ]
  },
  {
   "cell_type": "markdown",
   "metadata": {},
   "source": [
    "Una agrupación directa:"
   ]
  },
  {
   "cell_type": "code",
   "execution_count": null,
   "metadata": {},
   "outputs": [],
   "source": [
    "f.groupby(['A','B']).sum()"
   ]
  },
  {
   "cell_type": "markdown",
   "metadata": {},
   "source": [
    "Ahora aplicamos un filtro sobre una agrupación (similar al having de SQL):"
   ]
  },
  {
   "cell_type": "code",
   "execution_count": null,
   "metadata": {},
   "outputs": [],
   "source": [
    "agrup = f.groupby(['A','B']).sum()\n",
    "agrup[agrup.val1 > 2.0]"
   ]
  },
  {
   "cell_type": "markdown",
   "metadata": {},
   "source": [
    "¿Te acuerdas de las tablas dinámicas de Excel? Pues, DataFrame tiene una funcionalidad parecida, con la función ***pivot_table***"
   ]
  },
  {
   "cell_type": "code",
   "execution_count": null,
   "metadata": {},
   "outputs": [],
   "source": [
    "display(f)"
   ]
  },
  {
   "cell_type": "code",
   "execution_count": null,
   "metadata": {},
   "outputs": [],
   "source": [
    "# pivot_table tiene 3 partes: index, columns and values (similar a excel)\n",
    "# margins se refiere a los subtotales\n",
    "f_pivote = f.pivot_table(index=\"A\", columns=\"B\", values=\"val1\", aggfunc=\"mean\", margins=True, margins_name='Subtotal')\n",
    "f_pivote"
   ]
  },
  {
   "cell_type": "code",
   "execution_count": null,
   "metadata": {},
   "outputs": [],
   "source": [
    "f_pivote = f.pivot_table(index=\"A\", columns=\"B\", values=\"val1\", aggfunc=\"sum\", margins=False)\n",
    "f_pivote"
   ]
  },
  {
   "cell_type": "code",
   "execution_count": null,
   "metadata": {},
   "outputs": [],
   "source": [
    "# podemos haces uns tabla cruzada simple con 2 variables de un dataframe\n",
    "pd.crosstab(f.A, f.B)"
   ]
  },
  {
   "cell_type": "code",
   "execution_count": null,
   "metadata": {},
   "outputs": [],
   "source": [
    "f_pivote.stack()  #devuelve una serie con los datos apilados"
   ]
  },
  {
   "cell_type": "code",
   "execution_count": null,
   "metadata": {},
   "outputs": [],
   "source": [
    "a = f_pivote.stack()\n",
    "a[a>2]"
   ]
  },
  {
   "cell_type": "code",
   "execution_count": null,
   "metadata": {},
   "outputs": [],
   "source": [
    "f_pivote.stack().unstack()   #regresa al dataframe pivoteado"
   ]
  },
  {
   "cell_type": "code",
   "execution_count": null,
   "metadata": {},
   "outputs": [],
   "source": [
    "f.stack()"
   ]
  },
  {
   "cell_type": "markdown",
   "metadata": {},
   "source": [
    "### Programación Funcional con Pandas\n",
    "Las funciones `lambda`, `map` y `filter` vistas en los notebooks anteriores, son utilizadas por los DataFrames."
   ]
  },
  {
   "cell_type": "markdown",
   "metadata": {},
   "source": [
    "##### Lambda"
   ]
  },
  {
   "cell_type": "code",
   "execution_count": null,
   "metadata": {},
   "outputs": [],
   "source": [
    "# Defino una función lambda para poder sumar una unidad a un valor\n",
    "potencia = lambda x: x**3"
   ]
  },
  {
   "cell_type": "code",
   "execution_count": null,
   "metadata": {},
   "outputs": [],
   "source": [
    "# Sumar una unidad a una columna\n",
    "f[\"val1\"].apply(potencia)"
   ]
  },
  {
   "cell_type": "markdown",
   "metadata": {},
   "source": [
    "¿Puedo hacer operaciones con más de una columna?"
   ]
  },
  {
   "cell_type": "code",
   "execution_count": null,
   "metadata": {},
   "outputs": [],
   "source": [
    "fraccion = lambda row: round(row[\"val1\"] / row[\"val2\"], 2) if row[\"val2\"] > 0 else 0"
   ]
  },
  {
   "cell_type": "code",
   "execution_count": null,
   "metadata": {},
   "outputs": [],
   "source": [
    "# crear una nueva columna en mi dataframe que sea la división de los valores val1 y val2\n",
    "f[\"fraccion\"] = f.apply(fraccion, axis=1)\n",
    "f"
   ]
  },
  {
   "cell_type": "markdown",
   "metadata": {},
   "source": [
    "##### Map\n",
    "Nos permite asociar un valor con otro"
   ]
  },
  {
   "cell_type": "code",
   "execution_count": null,
   "metadata": {},
   "outputs": [],
   "source": [
    "f[\"B\"].unique().tolist()"
   ]
  },
  {
   "cell_type": "code",
   "execution_count": null,
   "metadata": {},
   "outputs": [],
   "source": [
    "ingreso_rng_dict = {v: k for k, v in enumerate(f[\"B\"].unique().tolist())}\n",
    "ingreso_rng_dict"
   ]
  },
  {
   "cell_type": "code",
   "execution_count": null,
   "metadata": {},
   "outputs": [],
   "source": [
    "f[\"B_COD\"] = f[\"B\"].map(ingreso_rng_dict)\n",
    "f\n",
    "\n",
    "# útil para recodificar variables"
   ]
  },
  {
   "cell_type": "code",
   "execution_count": null,
   "metadata": {},
   "outputs": [],
   "source": [
    "dict2 = {'one': 'uno', 'two': 'dos', 'three': 'tres'}"
   ]
  },
  {
   "cell_type": "code",
   "execution_count": null,
   "metadata": {},
   "outputs": [],
   "source": [
    "f[\"B_COD2\"] = f[\"B\"].map(dict2)\n",
    "f"
   ]
  },
  {
   "cell_type": "markdown",
   "metadata": {},
   "source": [
    "##### Filter\n",
    "Nos permite filtrar en base a los índices en cualquiera de los axis."
   ]
  },
  {
   "cell_type": "code",
   "execution_count": null,
   "metadata": {},
   "outputs": [],
   "source": [
    "f.filter(items=[\"A\", \"B\"], axis=1)"
   ]
  },
  {
   "cell_type": "code",
   "execution_count": null,
   "metadata": {},
   "outputs": [],
   "source": [
    "# Filtrar solo las columnas que contengan con B\n",
    "f.filter(like=\"B\", axis=1)"
   ]
  },
  {
   "cell_type": "markdown",
   "metadata": {},
   "source": [
    "***Un ejemplo adicional:***"
   ]
  },
  {
   "cell_type": "code",
   "execution_count": null,
   "metadata": {},
   "outputs": [],
   "source": [
    "df1 = pd.DataFrame({'col1': ['pizza', 'hamburger', 'hamburger', 'pizza', 'ice cream'], \n",
    "                    'col2': ['boy', 'boy', 'girl', 'girl', 'boy']}, index=range(1,6))\n",
    "df2 = pd.DataFrame({'col1': ['pizza', 'pizza', 'chicken', 'cake', 'cake', 'chicken', 'ice cream'], \n",
    "                    'col2': ['boy', 'girl', 'girl', 'boy', 'girl', 'boy', 'boy']}, index=range(10,17))"
   ]
  },
  {
   "cell_type": "code",
   "execution_count": null,
   "metadata": {},
   "outputs": [],
   "source": [
    "df1['indicator'] = df1['col1'].str.cat(df1['col2'])\n",
    "df2['indicator'] = df2['col1'].str.cat(df2['col2'])"
   ]
  },
  {
   "cell_type": "code",
   "execution_count": null,
   "metadata": {},
   "outputs": [],
   "source": [
    "df1"
   ]
  },
  {
   "cell_type": "code",
   "execution_count": null,
   "metadata": {},
   "outputs": [],
   "source": [
    "df2"
   ]
  },
  {
   "cell_type": "code",
   "execution_count": null,
   "metadata": {},
   "outputs": [],
   "source": [
    "# Primera forma de unir 2 tablas con merge:\n",
    "pd.merge(df2, df1, how='inner')   # realiza el merge de manera automatica por lo campos en comun"
   ]
  },
  {
   "cell_type": "code",
   "execution_count": null,
   "metadata": {},
   "outputs": [],
   "source": [
    "pd.merge(df2, df1, how='inner', on='indicator') "
   ]
  },
  {
   "cell_type": "code",
   "execution_count": null,
   "metadata": {},
   "outputs": [],
   "source": [
    "# Forma alternativa de unir 2 tablas con merge:\n",
    "df2.merge(df1, how='inner')"
   ]
  },
  {
   "cell_type": "code",
   "execution_count": null,
   "metadata": {},
   "outputs": [],
   "source": [
    "pd.crosstab(df1.col1, df1.col2)"
   ]
  },
  {
   "cell_type": "code",
   "execution_count": null,
   "metadata": {},
   "outputs": [],
   "source": [
    "# concat permite unir data frames que tengan la misma estructura:\n",
    "df3 = pd.concat([df1,df2])\n",
    "df3"
   ]
  },
  {
   "cell_type": "code",
   "execution_count": null,
   "metadata": {},
   "outputs": [],
   "source": [
    "df3.reset_index(drop=True)"
   ]
  },
  {
   "cell_type": "markdown",
   "metadata": {},
   "source": [
    "***isin*** es otro método que se utiliza para filtrar data frames. El método ayuda a seleccionar filas con un valor particular (o múltiple) en una columna en particular. Este método devuelve un data frame."
   ]
  },
  {
   "cell_type": "code",
   "execution_count": null,
   "metadata": {},
   "outputs": [],
   "source": [
    "df2.indicator.isin([\"pizzaboy\"])"
   ]
  },
  {
   "cell_type": "code",
   "execution_count": null,
   "metadata": {},
   "outputs": [],
   "source": [
    "df2.loc[df2.indicator.isin([\"pizzaboy\"])]"
   ]
  },
  {
   "cell_type": "code",
   "execution_count": null,
   "metadata": {},
   "outputs": [],
   "source": [
    "f.loc[f.B.isin([\"one\",\"three\"])]"
   ]
  },
  {
   "cell_type": "markdown",
   "metadata": {},
   "source": [
    "### Importar y exportar datos en formato csv y txt"
   ]
  },
  {
   "cell_type": "code",
   "execution_count": null,
   "metadata": {},
   "outputs": [],
   "source": [
    "# Importar datos en formato csv.\n",
    "# el parámetro encoding se usa para poder cargar texto con otra codificación\n",
    "# UTF-8(8-bit Unicode Transformation Format) permite cargar caracteres especiales \n",
    "# (tildes y la letra ñ)\n",
    "d_students = pd.read_csv('data/students.csv', sep=',', encoding = 'UTF-8')"
   ]
  },
  {
   "cell_type": "code",
   "execution_count": null,
   "metadata": {},
   "outputs": [],
   "source": [
    "# Leer los primeros registros\n",
    "d_students.head()"
   ]
  },
  {
   "cell_type": "code",
   "execution_count": null,
   "metadata": {},
   "outputs": [],
   "source": [
    "# Importar datos en formato txt.\n",
    "d_txt = pd.read_csv('data/students.txt', sep='|', encoding = 'UTF-8')"
   ]
  },
  {
   "cell_type": "code",
   "execution_count": null,
   "metadata": {},
   "outputs": [],
   "source": [
    "d_txt.head()"
   ]
  },
  {
   "cell_type": "markdown",
   "metadata": {},
   "source": [
    "### Exportar datos de un data frame a un csv y txt"
   ]
  },
  {
   "cell_type": "code",
   "execution_count": null,
   "metadata": {},
   "outputs": [],
   "source": [
    "display(f)"
   ]
  },
  {
   "cell_type": "code",
   "execution_count": null,
   "metadata": {},
   "outputs": [],
   "source": [
    "f.to_csv('data/prueba.csv', sep=',', index=False)"
   ]
  },
  {
   "cell_type": "code",
   "execution_count": null,
   "metadata": {},
   "outputs": [],
   "source": [
    "f.to_csv('data/prueba.txt', sep='|', index=False)"
   ]
  },
  {
   "cell_type": "markdown",
   "metadata": {},
   "source": [
    "### Ejemplo de uso de **read_csv** con *parse_dates*"
   ]
  },
  {
   "cell_type": "code",
   "execution_count": null,
   "metadata": {},
   "outputs": [],
   "source": [
    "import datetime as dt\n",
    "dateparse = lambda x: dt.datetime.strptime(x, '%Y %m') \n",
    "# depende del formato que tenga la fecha en tu archivo\n",
    "data = pd.read_csv(\"data/AirPassengers_2012_2016_2.csv\", \n",
    "                   parse_dates= {'yearmonth':['Year', 'Month']}, \n",
    "                   date_parser=dateparse,\n",
    "                   index_col='yearmonth')\n",
    "data.head()"
   ]
  },
  {
   "cell_type": "markdown",
   "metadata": {},
   "source": [
    "### Importar y exportar datos en formato xls/xlsx"
   ]
  },
  {
   "cell_type": "code",
   "execution_count": null,
   "metadata": {},
   "outputs": [],
   "source": [
    "# Importar datos en formato xls.\n",
    "d = pd.read_excel('data/students.xls') #, sheet_name = 'Hoja1'"
   ]
  },
  {
   "cell_type": "code",
   "execution_count": null,
   "metadata": {},
   "outputs": [],
   "source": [
    "d.shape"
   ]
  },
  {
   "cell_type": "code",
   "execution_count": null,
   "metadata": {},
   "outputs": [],
   "source": [
    "d.head()"
   ]
  },
  {
   "cell_type": "code",
   "execution_count": null,
   "metadata": {},
   "outputs": [],
   "source": [
    "# ordenando por algún campo específico\n",
    "d.sort_values('AREA NAME', ascending=False).head(3)"
   ]
  },
  {
   "cell_type": "code",
   "execution_count": null,
   "metadata": {},
   "outputs": [],
   "source": [
    "billboard = pd.read_excel(\"data/billboard.xlsx\")  #, sheet_name = 'Hoja1'\n",
    "# opcionalmente puedes colocar el nombre de la hoja con sheet_name\n",
    "billboard.head()"
   ]
  },
  {
   "cell_type": "code",
   "execution_count": null,
   "metadata": {},
   "outputs": [],
   "source": [
    "songs_cols = [\"year\", \"artist.inverted\", \"track\", \"time\", \"genre\"]"
   ]
  },
  {
   "cell_type": "code",
   "execution_count": null,
   "metadata": {},
   "outputs": [],
   "source": [
    "songs = billboard[songs_cols].drop_duplicates() # Eliminamos posibles duplicados\n",
    "songs.head(20)"
   ]
  },
  {
   "cell_type": "code",
   "execution_count": null,
   "metadata": {},
   "outputs": [],
   "source": [
    "songs = songs.reset_index(drop=True) # Se reinicia el índice eliminando el antiguo\n",
    "songs.head()"
   ]
  },
  {
   "cell_type": "code",
   "execution_count": null,
   "metadata": {},
   "outputs": [],
   "source": [
    "songs[\"song_id\"] = songs.index  #crea una variable a partir de un índice\n",
    "songs.head()"
   ]
  },
  {
   "cell_type": "markdown",
   "metadata": {},
   "source": [
    "### Exportar datos de un data frame a formato Excel"
   ]
  },
  {
   "cell_type": "code",
   "execution_count": null,
   "metadata": {},
   "outputs": [],
   "source": [
    "songs.head(10)"
   ]
  },
  {
   "cell_type": "code",
   "execution_count": null,
   "metadata": {},
   "outputs": [],
   "source": [
    "songs.to_excel(\"data/canciones.xlsx\", sheet_name = 'Canciones')"
   ]
  },
  {
   "cell_type": "markdown",
   "metadata": {},
   "source": [
    "### Juntar varias tablas con nombres consecutivos o parecidos"
   ]
  },
  {
   "cell_type": "code",
   "execution_count": null,
   "metadata": {},
   "outputs": [],
   "source": [
    "df1 = pd.read_csv('data/religion_income_1.csv')\n",
    "df1.head()"
   ]
  },
  {
   "cell_type": "code",
   "execution_count": null,
   "metadata": {},
   "outputs": [],
   "source": [
    "df2 = pd.read_csv('data/religion_income_2.csv')\n",
    "df2.head()"
   ]
  },
  {
   "cell_type": "code",
   "execution_count": null,
   "metadata": {},
   "outputs": [],
   "source": [
    "df3 = pd.read_csv('data/religion_income_3.csv')\n",
    "df3.head()"
   ]
  },
  {
   "cell_type": "code",
   "execution_count": null,
   "metadata": {},
   "outputs": [],
   "source": [
    "from glob import glob\n",
    "\n",
    "#permite juntar varias tablas con nombres consecutivos\n",
    "filenames = glob('data/religion_income_*.csv')\n",
    "dataframes = []\n",
    "dataframes = [pd.read_csv(f) for f in filenames]\n",
    "dff = pd.concat(dataframes)\n",
    "dff\n",
    "\n",
    "## para cargar todos los archivos de una carpeta sin importar el nombre\n",
    "## filenames = glob('data/*.csv')"
   ]
  },
  {
   "cell_type": "code",
   "execution_count": null,
   "metadata": {},
   "outputs": [],
   "source": [
    "type(dff)"
   ]
  },
  {
   "cell_type": "code",
   "execution_count": null,
   "metadata": {},
   "outputs": [],
   "source": [
    "# para comprobar que los datafarmes tengan la misma estructura\n",
    "for d in dataframes:\n",
    "    print(d.columns)"
   ]
  },
  {
   "cell_type": "code",
   "execution_count": null,
   "metadata": {},
   "outputs": [],
   "source": [
    "dff.reset_index(inplace=True,drop = True) # inplace hace que el cambio sea permanente\n",
    "dff"
   ]
  },
  {
   "cell_type": "code",
   "execution_count": null,
   "metadata": {},
   "outputs": [],
   "source": [
    "dff = dff.drop(columns = \"index\")"
   ]
  },
  {
   "cell_type": "code",
   "execution_count": null,
   "metadata": {},
   "outputs": [],
   "source": [
    "dff"
   ]
  },
  {
   "cell_type": "code",
   "execution_count": null,
   "metadata": {},
   "outputs": [],
   "source": [
    "# quiero cargar todos los archivos de una carpeta\n",
    "# filenames = glob('data/*.csv')  # todos los archivos csv\n",
    "# dataframes = [pd.read_csv(f) for f in filenames]\n",
    "# dff = pd.concat(dataframes)\n",
    "# dff"
   ]
  },
  {
   "cell_type": "markdown",
   "metadata": {},
   "source": [
    "### Importar datos en formato JSON"
   ]
  },
  {
   "cell_type": "code",
   "execution_count": null,
   "metadata": {},
   "outputs": [],
   "source": [
    "# Importar el paquete JSON.\n",
    "import json"
   ]
  },
  {
   "cell_type": "code",
   "execution_count": null,
   "metadata": {},
   "outputs": [],
   "source": [
    "json_data = open('data/students.json')"
   ]
  },
  {
   "cell_type": "code",
   "execution_count": null,
   "metadata": {},
   "outputs": [],
   "source": [
    "data = json.load(json_data)"
   ]
  },
  {
   "cell_type": "code",
   "execution_count": null,
   "metadata": {},
   "outputs": [],
   "source": [
    "data"
   ]
  },
  {
   "cell_type": "code",
   "execution_count": null,
   "metadata": {},
   "outputs": [],
   "source": [
    "json_data.close()"
   ]
  },
  {
   "cell_type": "markdown",
   "metadata": {},
   "source": [
    "### Exportar un diccionario en formato JSON"
   ]
  },
  {
   "cell_type": "code",
   "execution_count": null,
   "metadata": {},
   "outputs": [],
   "source": [
    "my_dict = { 'Ali': 9, 'Sid': 1, 'Luna': 7, 'Sim': 12, 'Pooja': 4, 'Jen': 2}"
   ]
  },
  {
   "cell_type": "code",
   "execution_count": null,
   "metadata": {},
   "outputs": [],
   "source": [
    "with open('data.json', 'w') as fp:\n",
    "    json.dump(my_dict, fp)"
   ]
  },
  {
   "cell_type": "code",
   "execution_count": null,
   "metadata": {},
   "outputs": [],
   "source": [
    "with open('data.json', 'r') as fp:\n",
    "    data = json.load(fp)"
   ]
  },
  {
   "cell_type": "code",
   "execution_count": null,
   "metadata": {},
   "outputs": [],
   "source": [
    "print(data)"
   ]
  },
  {
   "cell_type": "code",
   "execution_count": null,
   "metadata": {},
   "outputs": [],
   "source": [
    "print(type(data))"
   ]
  }
 ],
 "metadata": {
  "kernelspec": {
   "display_name": "Python 3",
   "language": "python",
   "name": "python3"
  },
  "language_info": {
   "codemirror_mode": {
    "name": "ipython",
    "version": 3
   },
   "file_extension": ".py",
   "mimetype": "text/x-python",
   "name": "python",
   "nbconvert_exporter": "python",
   "pygments_lexer": "ipython3",
   "version": "3.7.5"
  }
 },
 "nbformat": 4,
 "nbformat_minor": 4
}
