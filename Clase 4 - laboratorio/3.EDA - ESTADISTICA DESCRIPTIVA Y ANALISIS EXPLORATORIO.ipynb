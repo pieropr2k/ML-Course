{
 "cells": [
  {
   "attachments": {},
   "cell_type": "markdown",
   "metadata": {},
   "source": [
    "# EDA en el Desarrollo de un Proyecto de Machine Learning \n"
   ]
  },
  {
   "attachments": {},
   "cell_type": "markdown",
   "metadata": {},
   "source": [
    "# Entender el caso de Negocio"
   ]
  },
  {
   "attachments": {},
   "cell_type": "markdown",
   "metadata": {},
   "source": [
    "### Descripción\n",
    "\n",
    "Una empresa de telecomunicaciones en sus campañas del 2018 y 2019 tuvo una serie de problemas de fraude, unas de ellos fue la pérdida de equipos celulares en sus servicios postpago, debido a la usurpación de identidad y el no pago del servicio, todo generado por clientes fraudulentos. \n",
    "\n",
    "Por ello, se definió buscar una solución para detectar a dichas personas tempranamente y quitarles el servicio, dando de baja dicho equipo. Para reducir el tiempo de monitoreo, que usualmente lo hace el equipo de BI en 3 meses, se ha diseñado una solución analítica que detecte a dichos clientes en tan solo 7 a 15 dias, dicho proyecto fue llamado **FUGA DE TERMINALES**."
   ]
  },
  {
   "attachments": {},
   "cell_type": "markdown",
   "metadata": {},
   "source": [
    "## Instalamos librerías "
   ]
  },
  {
   "cell_type": "code",
   "execution_count": null,
   "metadata": {},
   "outputs": [],
   "source": [
    "# Import necessary libs\n",
    "\n",
    "import pandas as pd\n",
    "import numpy as np\n",
    "import scipy as scy\n",
    "\n",
    "import warnings\n",
    "warnings.filterwarnings('ignore')\n",
    "\n",
    "# visualization\n",
    "import seaborn as sns\n",
    "import matplotlib.pyplot as plt\n",
    "\n",
    "# Preprocesar label\n",
    "from sklearn import preprocessing\n",
    "\n",
    "# Crea una semilla cualesquiera\n",
    "seed = 16\n",
    "np.random.seed(seed)"
   ]
  },
  {
   "cell_type": "code",
   "execution_count": null,
   "metadata": {},
   "outputs": [],
   "source": [
    "pd.options.display.max_columns = 300\n",
    "pd.options.display.max_rows = 300"
   ]
  },
  {
   "attachments": {},
   "cell_type": "markdown",
   "metadata": {},
   "source": [
    "## Leer datos del negocio"
   ]
  },
  {
   "cell_type": "code",
   "execution_count": null,
   "metadata": {},
   "outputs": [],
   "source": [
    "## data \n",
    "dataset = pd.read_csv('telco.csv',sep=';')"
   ]
  },
  {
   "cell_type": "code",
   "execution_count": null,
   "metadata": {},
   "outputs": [],
   "source": [
    "dataset.shape"
   ]
  },
  {
   "cell_type": "code",
   "execution_count": null,
   "metadata": {},
   "outputs": [],
   "source": [
    "dataset.head()"
   ]
  },
  {
   "cell_type": "code",
   "execution_count": null,
   "metadata": {},
   "outputs": [],
   "source": [
    "dataset.tcsera.nunique()"
   ]
  },
  {
   "cell_type": "code",
   "execution_count": null,
   "metadata": {},
   "outputs": [],
   "source": [
    "dataset.Cod_Punto_Venta.nunique()"
   ]
  },
  {
   "attachments": {},
   "cell_type": "markdown",
   "metadata": {},
   "source": [
    "## Análisis Exploratorio de los Datos (EDA)"
   ]
  },
  {
   "cell_type": "code",
   "execution_count": null,
   "metadata": {},
   "outputs": [],
   "source": [
    "dataset.shape #Observamos la cantidad de datos que tenemos tanto en filas y columnas"
   ]
  },
  {
   "attachments": {},
   "cell_type": "markdown",
   "metadata": {},
   "source": [
    "Observamos el tipo de variables que tenemos"
   ]
  },
  {
   "cell_type": "code",
   "execution_count": null,
   "metadata": {},
   "outputs": [],
   "source": [
    "dataset.dtypes"
   ]
  },
  {
   "cell_type": "code",
   "execution_count": null,
   "metadata": {},
   "outputs": [],
   "source": [
    "dataset.info()"
   ]
  },
  {
   "attachments": {},
   "cell_type": "markdown",
   "metadata": {},
   "source": [
    "### Poner algunas características "
   ]
  },
  {
   "cell_type": "code",
   "execution_count": null,
   "metadata": {},
   "outputs": [],
   "source": [
    "print(\"Número de observaciones = {}\".format(dataset.shape[0]))\n",
    "print(\"Total de variables disponibles = {}\".format(dataset.columns.shape[0]))\n",
    "print(\"Columnas que cuentan con algún valor nulo-\")\n",
    "print(dataset.isnull().sum())"
   ]
  },
  {
   "cell_type": "code",
   "execution_count": null,
   "metadata": {},
   "outputs": [],
   "source": [
    "dataset.tcsera.nunique() #Observamos que esta bien porque debería ser un cliente único ya que es data del codmes 201912"
   ]
  },
  {
   "attachments": {},
   "cell_type": "markdown",
   "metadata": {},
   "source": [
    "#### Analizando el Target: 'riesgo_neto_imei'"
   ]
  },
  {
   "cell_type": "code",
   "execution_count": null,
   "metadata": {},
   "outputs": [],
   "source": [
    "print(dataset.riesgo_neto_imei.value_counts())\n",
    "print(dataset.riesgo_neto_imei.value_counts(normalize=True))"
   ]
  },
  {
   "attachments": {},
   "cell_type": "markdown",
   "metadata": {},
   "source": [
    "Observamos que la clase menor de fuga es mucho más pequeño ahora este sera el puntode partida para entender en base\n",
    "a esta variables objetivo los resultados"
   ]
  },
  {
   "attachments": {},
   "cell_type": "markdown",
   "metadata": {},
   "source": [
    "## Variables cuantitativas para un análisis descriptivo"
   ]
  },
  {
   "cell_type": "code",
   "execution_count": null,
   "metadata": {},
   "outputs": [],
   "source": [
    "#target\n",
    "target = ['riesgo_neto_imei']  \n",
    "\n",
    "# data continua comercial\n",
    "var_1 = [\"Ingresos\", \"Precio\",\"Costo_Equipo\"]\n",
    "\n",
    "# data continua trafico\n",
    "var_2 = [\"prom_llam_201908\",\"prom_llam_201909\",\"prom_llam_201910\",\"prom_llam_201911\",\"prom_llam_201912\"]   "
   ]
  },
  {
   "cell_type": "code",
   "execution_count": null,
   "metadata": {},
   "outputs": [],
   "source": [
    "var_1"
   ]
  },
  {
   "attachments": {},
   "cell_type": "markdown",
   "metadata": {},
   "source": [
    "Analizamos variables importantes para el negocio en este caso el **Ingreso** que se refiere con cuanto esta entrado como servicio el cliente, también el **Precio** de dicho equipo que adquiere y el **Costo del Equipo** para la empresa."
   ]
  },
  {
   "attachments": {},
   "cell_type": "markdown",
   "metadata": {},
   "source": [
    "## Medidas de tendencia central "
   ]
  },
  {
   "attachments": {},
   "cell_type": "markdown",
   "metadata": {},
   "source": [
    "- **La media aritmética** se define como la suma de N elementos dividida entre N. Se trata una medida bastante conocida entre la gente, aunque tiene el inconveniente de que es muy susceptible a valores extremos.\n",
    "\n",
    "- **La mediana** es el valor que dentro del conjunto de datos es menor que el 50% de los datos y mayor que el 50% restante.\n",
    "\n",
    "- **La moda** es el valor más repetido (solo aplicable a variables discretas)."
   ]
  },
  {
   "cell_type": "code",
   "execution_count": null,
   "metadata": {},
   "outputs": [],
   "source": [
    "dataset[var_1].describe()"
   ]
  },
  {
   "attachments": {},
   "cell_type": "markdown",
   "metadata": {},
   "source": [
    "Tambien por variable"
   ]
  },
  {
   "cell_type": "code",
   "execution_count": null,
   "metadata": {},
   "outputs": [],
   "source": [
    "media = dataset[\"Precio\"].mean()\n",
    "mediana = dataset[\"Precio\"].median()\n",
    "moda = dataset[\"Precio\"].mode()\n",
    "print(\"\"\"\n",
    "    Media: %d\n",
    "    Mediana: %d\n",
    "    Moda: %d\n",
    "\"\"\" % (media,mediana,moda))"
   ]
  },
  {
   "attachments": {},
   "cell_type": "markdown",
   "metadata": {},
   "source": [
    "## Medidas de posición: cuartiles y percentiles\n",
    "\n",
    "El concepto es igual al de mediana, salvo que aquí la división ya no es en el 50%. El 25% de las observaciones es menor que el primer cuartil. Los cuartiles abarcan el 25%, 50% y 75% de las observaciones. Los percentiles son una generalización con cualquier porcentaje."
   ]
  },
  {
   "cell_type": "code",
   "execution_count": null,
   "metadata": {},
   "outputs": [],
   "source": [
    "dataset[var_2].describe()"
   ]
  },
  {
   "cell_type": "code",
   "execution_count": null,
   "metadata": {},
   "outputs": [],
   "source": [
    "dataset[\"prom_llam_201908\"].quantile(0.75) "
   ]
  },
  {
   "attachments": {},
   "cell_type": "markdown",
   "metadata": {},
   "source": [
    "El resultado es que el 25% con más prom_llam_201908 es de un 2,8 llamadas como mínimo"
   ]
  },
  {
   "attachments": {},
   "cell_type": "markdown",
   "metadata": {},
   "source": [
    "## Medidas de dispersión: desviación típica\n",
    "\n",
    "La ^**desviación típica** mide la dispersión de los datos respecto a la media. Se trata de la raíz cuadrada de la varianza, que en sí misma no es una medida de dispersión. Para calcular la desviación típica usamos std y var para la varianza. (ddof=0 es necesario si quieres seguir la definición de desviación típica y varianza de algunas bibliografías, la razón es que hay un parámetro de ajuste que Pandas pone a 1, pero otras librerías ponen a 0). En Excel es la diferencia que hay entre DESVEST.M (ddof=1) y DESVEST.P (ddof=0)."
   ]
  },
  {
   "cell_type": "code",
   "execution_count": null,
   "metadata": {},
   "outputs": [],
   "source": [
    "std = dataset[\"prom_llam_201912\"].std(ddof=1)\n",
    "var = dataset[\"prom_llam_201912\"].var(ddof=1)\n",
    "print(std,var)"
   ]
  },
  {
   "attachments": {},
   "cell_type": "markdown",
   "metadata": {},
   "source": [
    "## Coeficiente de Correlación"
   ]
  },
  {
   "cell_type": "code",
   "execution_count": null,
   "metadata": {},
   "outputs": [],
   "source": [
    "corr_matrix = dataset[target+var_1+var_2].corr()\n",
    "corr_matrix"
   ]
  },
  {
   "attachments": {},
   "cell_type": "markdown",
   "metadata": {},
   "source": [
    "## Variables cualitativas para un análisis descriptivo\n",
    "\n",
    "Podemos organizar estos conteos en una tabla de frecuencia, que registra los totales y los nombres de las categorías utilizando la función value_counts que nos proporciona Pandas del siguiente modo:"
   ]
  },
  {
   "cell_type": "code",
   "execution_count": null,
   "metadata": {},
   "outputs": [],
   "source": [
    "dataset['Gama'].value_counts() "
   ]
  },
  {
   "attachments": {},
   "cell_type": "markdown",
   "metadata": {},
   "source": [
    "Una tabla de frecuencia relativa muestra los porcentajes, en lugar de los recuentos de los valores en cada categoría. Ambos tipos de tablas muestran cómo los casos se distribuyen a través de las categorías. De esta manera, ellas describen la distribución de una variable categórica, ya que enumeran las posibles categorías y nos dicen con qué frecuencia se produce cada una de ellas."
   ]
  },
  {
   "cell_type": "code",
   "execution_count": null,
   "metadata": {},
   "outputs": [],
   "source": [
    "dataset['Gama'].value_counts(normalize=True) "
   ]
  },
  {
   "cell_type": "code",
   "execution_count": null,
   "metadata": {},
   "outputs": [],
   "source": [
    "dataset['Segmento_Equipo'].mode()"
   ]
  },
  {
   "cell_type": "code",
   "execution_count": null,
   "metadata": {},
   "outputs": [],
   "source": [
    "dataset['Segmento_Equipo'].value_counts()"
   ]
  },
  {
   "attachments": {},
   "cell_type": "markdown",
   "metadata": {},
   "source": [
    "# EDA univariado gráfico"
   ]
  },
  {
   "attachments": {},
   "cell_type": "markdown",
   "metadata": {},
   "source": [
    "Usaremos plot de **Matplotlib**"
   ]
  },
  {
   "cell_type": "code",
   "execution_count": null,
   "metadata": {},
   "outputs": [],
   "source": [
    "plt.plot(dataset['Costo_Equipo'])\n",
    "plt.show();"
   ]
  },
  {
   "attachments": {},
   "cell_type": "markdown",
   "metadata": {},
   "source": [
    "Usaremos sns para usar la iterfaz de **Seaborn**"
   ]
  },
  {
   "cell_type": "code",
   "execution_count": null,
   "metadata": {},
   "outputs": [],
   "source": [
    "sns.set() \n",
    "# Grouped boxplot\n",
    "plt.figure(figsize=(12,8)) # Generamos una gráfica mas grande y visible\n",
    "\n",
    "plt.plot(dataset['Costo_Equipo']) \n",
    "plt.show();"
   ]
  },
  {
   "attachments": {},
   "cell_type": "markdown",
   "metadata": {},
   "source": [
    "Observamos como está distribuido de menor a mayor el **costo el equipo**"
   ]
  },
  {
   "attachments": {},
   "cell_type": "markdown",
   "metadata": {},
   "source": [
    "### Gráfico de Barras para ver la cantidad de Marcas de celular que prefiere el cliente"
   ]
  },
  {
   "cell_type": "code",
   "execution_count": null,
   "metadata": {},
   "outputs": [],
   "source": [
    "# Grouped boxplot\n",
    "plt.figure(figsize=(18,10))\n",
    "sns.countplot(x='Marca', data=dataset)\n",
    "plt.show();"
   ]
  },
  {
   "attachments": {},
   "cell_type": "markdown",
   "metadata": {},
   "source": [
    "### Histograma para entender la distribución de la Ingresos que se percibe por el servicio que se le da al cliente"
   ]
  },
  {
   "cell_type": "code",
   "execution_count": null,
   "metadata": {},
   "outputs": [],
   "source": [
    "# Grouped boxplot\n",
    "plt.figure(figsize=(16,8))\n",
    "sns.distplot(dataset[\"Ingresos\"] , label=\"Ingresos\")\n",
    "plt.legend()\n",
    "plt.show()"
   ]
  },
  {
   "attachments": {},
   "cell_type": "markdown",
   "metadata": {},
   "source": [
    "### Diagrama de Cajas para ver las distribución de los Precios por la venta del celular"
   ]
  },
  {
   "cell_type": "code",
   "execution_count": null,
   "metadata": {},
   "outputs": [],
   "source": [
    "# Grouped boxplot\n",
    "plt.figure(figsize=(12,6))\n",
    "sns.boxplot(x='Precio', data=dataset);"
   ]
  },
  {
   "attachments": {},
   "cell_type": "markdown",
   "metadata": {},
   "source": [
    "Observamos mucha dispersión y bastantes puntos fuera de la caja es decir se tiene una alta concretración de datos atípicos o **outliers**"
   ]
  },
  {
   "attachments": {},
   "cell_type": "markdown",
   "metadata": {},
   "source": [
    "## Análisis descriptivo multivariado"
   ]
  },
  {
   "attachments": {},
   "cell_type": "markdown",
   "metadata": {},
   "source": [
    "### Cualitativa - cualitativa\n"
   ]
  },
  {
   "attachments": {},
   "cell_type": "markdown",
   "metadata": {},
   "source": [
    "**Tablas de contingencia** "
   ]
  },
  {
   "attachments": {},
   "cell_type": "markdown",
   "metadata": {},
   "source": [
    "Observamos la cantidad de **Segmentos de Equipo** con respecto al **riesgo_neto_imei**"
   ]
  },
  {
   "cell_type": "code",
   "execution_count": null,
   "metadata": {},
   "outputs": [],
   "source": [
    "pd.crosstab(dataset['riesgo_neto_imei'], dataset['Segmento_Equipo'],margins=True)"
   ]
  },
  {
   "attachments": {},
   "cell_type": "markdown",
   "metadata": {},
   "source": [
    "Observamos la cantidad de **Segmentos de Equipo** con respecto al **riesgo_neto_imei** en porcentajes relativos total"
   ]
  },
  {
   "cell_type": "code",
   "execution_count": null,
   "metadata": {},
   "outputs": [],
   "source": [
    "pd.crosstab(dataset['riesgo_neto_imei'], dataset['Segmento_Equipo'],margins=True).apply(lambda r: r/len(dataset) *100,\n",
    "                                                                                        axis=1)\n"
   ]
  },
  {
   "attachments": {},
   "cell_type": "markdown",
   "metadata": {},
   "source": [
    "Observamos la cantidad de **Segmentos de Equipo** en porcentajes relativos con respecto al **riesgo_neto_imei**"
   ]
  },
  {
   "cell_type": "code",
   "execution_count": null,
   "metadata": {},
   "outputs": [],
   "source": [
    "pd.crosstab(dataset['riesgo_neto_imei'], dataset['Segmento_Equipo']).apply(lambda r: r/r.sum() *100,axis=0)"
   ]
  },
  {
   "attachments": {},
   "cell_type": "markdown",
   "metadata": {},
   "source": [
    "### Gráfico de Barras de los Ingresos con respecto al Segmento_Equipo"
   ]
  },
  {
   "cell_type": "code",
   "execution_count": null,
   "metadata": {},
   "outputs": [],
   "source": [
    "# Grouped boxplot\n",
    "plt.figure(figsize=(12,8))\n",
    "sns.barplot(x='Segmento_Equipo', y='Ingresos', data=dataset , ci = None)\n",
    "plt.title(\"Gráfico de Barra\",fontsize=30)\n",
    "plt.xlabel(\"Segmento_Equipo\",fontsize=20)\n",
    "plt.ylabel(\"Ingresos\",fontsize=20)\n",
    "plt.show()"
   ]
  },
  {
   "attachments": {},
   "cell_type": "markdown",
   "metadata": {},
   "source": [
    "### Cualitativa - cuantitativa"
   ]
  },
  {
   "attachments": {},
   "cell_type": "markdown",
   "metadata": {},
   "source": [
    "### Gráfico de Dispersión del Precio vs El Costo de Equipo"
   ]
  },
  {
   "cell_type": "code",
   "execution_count": null,
   "metadata": {},
   "outputs": [],
   "source": [
    "plt.figure(figsize=(12,8))\n",
    "sns.scatterplot(x='Precio', y='Costo_Equipo', data=dataset,hue='Gama')\n",
    "plt.show()"
   ]
  },
  {
   "attachments": {},
   "cell_type": "markdown",
   "metadata": {},
   "source": [
    "### Gráfico de Dispersión del Precio vs El Costo de Equipo filtrado por la Gama "
   ]
  },
  {
   "cell_type": "code",
   "execution_count": null,
   "metadata": {},
   "outputs": [],
   "source": [
    "plt.figure(figsize=(12,8))\n",
    "sns.lmplot(x='Costo_Equipo', y='Precio', data=dataset,\n",
    "           fit_reg=False,\n",
    "           col= 'Gama',\n",
    "           hue='Gama',\n",
    "           col_wrap=3,\n",
    "           size=7\n",
    "          )   \n",
    "plt.show()"
   ]
  },
  {
   "attachments": {},
   "cell_type": "markdown",
   "metadata": {},
   "source": [
    "### Gráfico de agrupamiento para ver la línea de tiempo del promedio ponderado de las llamadas de los ultimos 5 meses"
   ]
  },
  {
   "cell_type": "code",
   "execution_count": null,
   "metadata": {},
   "outputs": [],
   "source": [
    "dataset[var_2].median()"
   ]
  },
  {
   "cell_type": "code",
   "execution_count": null,
   "metadata": {},
   "outputs": [],
   "source": [
    "pd.DataFrame(dataset[var_2].median().reset_index())"
   ]
  },
  {
   "cell_type": "code",
   "execution_count": null,
   "metadata": {},
   "outputs": [],
   "source": [
    "df = pd.DataFrame(dataset[var_2].median().reset_index(),)\n",
    "df.rename(columns={'index': 'Mes de llamada', 0 : 'Promedio de llamada'},inplace=True)"
   ]
  },
  {
   "cell_type": "code",
   "execution_count": null,
   "metadata": {},
   "outputs": [],
   "source": [
    "df"
   ]
  },
  {
   "cell_type": "code",
   "execution_count": null,
   "metadata": {},
   "outputs": [],
   "source": [
    "plt.figure(figsize=(12,8))\n",
    "sns.lineplot(x='Mes de llamada',y='Promedio de llamada', data=df)"
   ]
  },
  {
   "attachments": {},
   "cell_type": "markdown",
   "metadata": {},
   "source": [
    "### Gráfico multivariado para ver el tráfico de los últimos 5  meses de llamadas promedio por cada clase del riesgo_neto_imei"
   ]
  },
  {
   "cell_type": "code",
   "execution_count": null,
   "metadata": {},
   "outputs": [],
   "source": [
    "var_2"
   ]
  },
  {
   "cell_type": "code",
   "execution_count": null,
   "metadata": {},
   "outputs": [],
   "source": [
    "var_3 = var_2.copy()\n",
    "var_3.append('riesgo_neto_imei')"
   ]
  },
  {
   "cell_type": "code",
   "execution_count": null,
   "metadata": {},
   "outputs": [],
   "source": [
    "var_3"
   ]
  },
  {
   "cell_type": "code",
   "execution_count": null,
   "metadata": {},
   "outputs": [],
   "source": [
    "sns.pairplot(dataset[var_3]);"
   ]
  },
  {
   "attachments": {},
   "cell_type": "markdown",
   "metadata": {},
   "source": [
    "### Histograma agrupado por el Costo de Equipo con respecto al riesgo_neto_imei"
   ]
  },
  {
   "cell_type": "code",
   "execution_count": null,
   "metadata": {},
   "outputs": [],
   "source": [
    "g = sns.FacetGrid(dataset, col='riesgo_neto_imei',size=5, aspect=1.2)\n",
    "g.map(plt.hist, 'Costo_Equipo', bins=10)\n",
    "plt.show()\n",
    "g.savefig(\"archivo.png\")"
   ]
  },
  {
   "attachments": {},
   "cell_type": "markdown",
   "metadata": {},
   "source": [
    "### Scaterplot agrupado por Departamento entre Costo de Equipo vs el Precio respecto al riesgo_neto_imei "
   ]
  },
  {
   "cell_type": "code",
   "execution_count": null,
   "metadata": {},
   "outputs": [],
   "source": [
    "g = sns.FacetGrid(dataset, col=\"Departamento\", hue=\"riesgo_neto_imei\",col_wrap=4)\n",
    "g.map(plt.scatter, \"Precio\",\"Costo_Equipo\" ,alpha=.7)\n",
    "g.add_legend();\n",
    "g.savefig(\"archivo1.png\")"
   ]
  },
  {
   "attachments": {},
   "cell_type": "markdown",
   "metadata": {},
   "source": [
    "### Diagrama de Cajas del Precio vs la Geografía con respecto al riesgo_neto_imei"
   ]
  },
  {
   "cell_type": "code",
   "execution_count": null,
   "metadata": {},
   "outputs": [],
   "source": [
    "# Grouped boxplot\n",
    "plt.figure(figsize=(16,8))\n",
    "sns.boxplot(x=\"Geografia\", y=\"Precio\", hue=\"riesgo_neto_imei\", data=dataset, palette=\"Set1\")"
   ]
  },
  {
   "attachments": {},
   "cell_type": "markdown",
   "metadata": {},
   "source": [
    "### Cuantitativa - cuantitativa\n"
   ]
  },
  {
   "attachments": {},
   "cell_type": "markdown",
   "metadata": {},
   "source": [
    "### Gráfico de regresión para determinar correlación entre prom_llam_201909 vs prom_llam_201912"
   ]
  },
  {
   "cell_type": "code",
   "execution_count": null,
   "metadata": {},
   "outputs": [],
   "source": [
    "plt.figure(figsize=(12,8))\n",
    "sns.regplot(dataset.prom_llam_201909, dataset.prom_llam_201912)\n",
    "plt.title('Promedio de llamadas del 201912 vs. Promedio de llamadas del 201909', fontsize = 18)\n",
    "plt.show()"
   ]
  },
  {
   "attachments": {},
   "cell_type": "markdown",
   "metadata": {},
   "source": [
    "### Grafíco de calor y tabla de la correlación de Pearson "
   ]
  },
  {
   "cell_type": "code",
   "execution_count": null,
   "metadata": {},
   "outputs": [],
   "source": [
    "dataset[var_2].corr(method= 'pearson')"
   ]
  },
  {
   "cell_type": "code",
   "execution_count": null,
   "metadata": {},
   "outputs": [],
   "source": [
    "sns.set(font_scale=2)\n",
    "corr_matrix = dataset[var_2].corr()\n",
    "plt.figure(figsize=(16, 10))\n",
    "ax = sns.heatmap(corr_matrix,annot=True, fmt=\".1f\",cmap=\"YlGnBu\") \n",
    "ax.set_ylim(sorted(ax.get_xlim(), reverse=True))\n",
    "## Gráfico de calor para las correlaciones"
   ]
  },
  {
   "attachments": {},
   "cell_type": "markdown",
   "metadata": {},
   "source": [
    "## Valores Atípicos"
   ]
  },
  {
   "cell_type": "code",
   "execution_count": null,
   "metadata": {},
   "outputs": [],
   "source": [
    "dataset_prop = pd.read_csv('propension_banca.csv')\n",
    "dataset_prop"
   ]
  },
  {
   "cell_type": "code",
   "execution_count": null,
   "metadata": {},
   "outputs": [],
   "source": [
    "data_prop_muestra = dataset_prop.loc[dataset_prop.codmes == 201901]"
   ]
  },
  {
   "cell_type": "code",
   "execution_count": null,
   "metadata": {},
   "outputs": [],
   "source": [
    "dataset1 = data_prop_muestra[['id_persona','codtarget','cem','ingreso_neto','linea_ofrecida','margen']]\n",
    "dataset1"
   ]
  },
  {
   "attachments": {},
   "cell_type": "markdown",
   "metadata": {},
   "source": [
    "### Métodos de detección de valores atípicos univariantes\n",
    "### IQR y la trama de Box-plot\n",
    "\n",
    "- Un método robusto para etiquetar valores atípicos es el método IQR (Inter Quartile Range) desarrollado por John Tukey, pionero del análisis exploratorio de datos. \n",
    "\n",
    "- El diagrama de caja y bigotes usa cuartiles para trazar la forma de una variable.\n",
    " \n",
    "- El rango intercuartil es el rango entre el primer y el tercer cuartil (los bordes de la caja). Cualquier punto de datos que esté fuera de 1,5 veces el IQR por debajo del primer cuartil o 1,5 veces el IQR por encima del tercer cuartil se considera un valor atípico.\n",
    "\n"
   ]
  },
  {
   "cell_type": "code",
   "execution_count": null,
   "metadata": {},
   "outputs": [],
   "source": [
    "r = dataset1[['ingreso_neto']]\n",
    "r"
   ]
  },
  {
   "cell_type": "code",
   "execution_count": null,
   "metadata": {},
   "outputs": [],
   "source": [
    "Q1 = r.quantile(0.25)\n",
    "Q3 = r.quantile(0.75)\n",
    "IQR = Q3 - Q1\n",
    "print(\"Q1 = {}\".format(Q1[0]))\n",
    "print(\"Q3 = {}\".format(Q3[0]))\n",
    "print(\"IQR = {}\".format(IQR[0]))\n",
    "Data_SO = r[~((r < (Q1 - 1.5 * IQR)) |(r > (Q3 + 1.5 * IQR))).any(axis=1)]\n",
    "Data_CO = r[((r < (Q1 - 1.5 * IQR)) |(r > (Q3 + 1.5 * IQR))).any(axis=1)]\n",
    "print(\"Datos con outliers en el Precio = {}\".format(Data_CO.shape[0]))\n",
    "print(\"Datos sin outliers en el Precio = {}\".format(Data_SO.shape[0]))"
   ]
  },
  {
   "cell_type": "code",
   "execution_count": null,
   "metadata": {},
   "outputs": [],
   "source": []
  }
 ],
 "metadata": {
  "kernelspec": {
   "display_name": "Python 3.9.2 64-bit",
   "language": "python",
   "name": "python3"
  },
  "language_info": {
   "codemirror_mode": {
    "name": "ipython",
    "version": 3
   },
   "file_extension": ".py",
   "mimetype": "text/x-python",
   "name": "python",
   "nbconvert_exporter": "python",
   "pygments_lexer": "ipython3",
   "version": "3.9.2"
  },
  "vscode": {
   "interpreter": {
    "hash": "11938c6bc6919ae2720b4d5011047913343b08a43b18698fd82dedb0d4417594"
   }
  }
 },
 "nbformat": 4,
 "nbformat_minor": 2
}
