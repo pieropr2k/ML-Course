{
 "cells": [
  {
   "cell_type": "markdown",
   "metadata": {},
   "source": [
    "## ETAPA 1: Entendimiento contextual del proyecto a desarrollar\n",
    "\n",
    "En esta etapa debemos plantear el contexto del problema, plantear los objetivos del proyecto y definir las variables y tipos de variables a utilizar"
   ]
  },
  {
   "cell_type": "code",
   "execution_count": null,
   "metadata": {
    "_cell_guid": "d56d5e71-4277-7a74-5306-7d5af4c7f263",
    "_execution_state": "idle",
    "_uuid": "827a72128cd211cf6af16b003e7c09951e3f2b1e",
    "colab": {
     "base_uri": "https://localhost:8080/",
     "height": 408
    },
    "colab_type": "code",
    "id": "u_A9QU-5t-Cp",
    "outputId": "98f4e429-1b37-49aa-b543-f0b0459b4e3e"
   },
   "outputs": [],
   "source": [
    "# Asigno los datos a un dataframe:\n",
    "import pandas as pd\n",
    "\n",
    "url = 'https://raw.githubusercontent.com/JBrianAlicorp/Business-Analytics/master/train.csv'\n",
    "df_train = pd.read_csv(url,encoding='latin1')\n",
    "df_train.head(10)"
   ]
  },
  {
   "cell_type": "markdown",
   "metadata": {
    "_cell_guid": "79d22981-dfd7-a25f-9a78-5436213207e2",
    "_uuid": "ba13c267e3aacbef23dfbcc0ab05f002d7835e0c",
    "colab_type": "text",
    "id": "1Pb3LFWct-Cv"
   },
   "source": [
    "### El problema\n",
    "\n",
    "En la competición de Kaggle 'House prices' se indica que el problema es la predicción del precio de las viviendas, por lo que la variable objetivo es 'SalePrice'. Las demás variables se describen de la siguiente manera:\n",
    "\n",
    "* <b>MSSubClass</b>: clase de construcción\n",
    "* <b>MSZoning</b>: clasificación de la zona\n",
    "* <b>LotFrontage</b>: pies lineales de calle de la parcela\n",
    "* <b>LotArea</b>: tamaño de la parcela en pies cuadrados\n",
    "* <b>Street</b>: tipo de acceso por carretera\n",
    "* <b>Alley</b>: tipo de acceso al callejón\n",
    "* <b>LotShape</b>: forma de la parcela\n",
    "* <b>LandContour</b>: planitud de la parcela\n",
    "* <b>Utilities</b>: servicios públicos disponibles\n",
    "* <b>LotConfig</b>: Configuración de parcela\n",
    "* <b>LandSlope</b>: pendiente de la parcela\n",
    "* <b>Neighborhood</b>: ubicación física dentro de los límites de la ciudad de Ames\n",
    "* <b>Condition1</b>: proximidad a la carretera principal o al ferrocarril\n",
    "* <b>Condition2</b>: proximidad a la carretera principal o al ferrocarril (si hay un segundo)\n",
    "* <b>BldgType</b>: tipo de vivienda\n",
    "* <b>HouseStyle</b>: estilo de vivienda\n",
    "* <b>OverallQual</b>: calidad general del material y del acabado\n",
    "* <b>OverallCond</b>: condición general\n",
    "* <b>YearBuilt</b>: fecha original de construcción\n",
    "* <b>YearRemodAdd</b>: fecha de remodelación\n",
    "* <b>RoofStyle</b>: tipo de cubierta\n",
    "* <b>RoofMatl</b>: material del techo\n",
    "* <b>Exterior1st</b>: revestimiento exterior de la casa\n",
    "* <b>Exterior2nd</b>: revestimiento exterior de la casa (si hay más de un material)\n",
    "* <b>MasVnrType</b>: tipo de revestimiento de mampostería\n",
    "* <b>MasVnrArea</b>: área de revestimiento de mampostería en pies cuadrados\n",
    "* <b>ExterQual</b>: calidad del material exterior\n",
    "* <b>ExterCond</b>: estado del material en el exterior\n",
    "* <b>Foundation</b>: tipo de cimentación\n",
    "* <b>BsmtQual</b>: altura del sótano\n",
    "* <b>BsmtCond</b>: estado general del sótano\n",
    "* <b>BsmtExposure</b>: paredes del sótano a nivel de calle o de jardín\n",
    "* <b>BsmtFinType1</b>: calidad del área acabada del sótano\n",
    "* <b>BsmtFinSF1</b>: pies cuadrados de la superficie acabada tipo 1\n",
    "* <b>BsmtFinType2</b>: calidad de la segunda superficie acabada (si existe)\n",
    "* <b>BsmtFinSF2</b>: Pies cuadrados de la superficie acabada tipo 2\n",
    "* <b>BsmtUnfSF</b>: pies cuadrados del área sin terminar del sótano\n",
    "* <b>TotalBsmtSF</b>: pies cuadrados totales del sótano\n",
    "* <b>Heating</b>: tipo de calefacción\n",
    "* <b>HeatingQC</b>: calidad y estado de la calefacción\n",
    "* <b>CentralAir</b>: aire acondicionado central\n",
    "* <b>Electrical</b>: sistema eléctrico\n",
    "* <b>1erFlrSF</b>: área en pies cuadrados de la primera planta (o planta baja)\n",
    "* <b>2ndFlrSF</b>: área en pies cuadrados de la segunda planta\n",
    "* <b>LowQualFinSF</b>: pies cuadrados acabados de baja calidad (todos los pisos)\n",
    "* <b>GrLivArea</b>: superficie habitable por encima del nivel del suelo en pies cuadrados\n",
    "* <b>BsmtFullBath</b>: cuartos de baño completos en el sótano\n",
    "* <b>BsmtHalfBath</b>: medio baño del sótano\n",
    "* <b>FullBath</b>: baños completos sobre el nivel del suelo\n",
    "* <b>HalfBath</b>: medios baños sobre el nivel del suelo\n",
    "* <b>Bedroom</b>: número de dormitorios por encima del nivel del sótano\n",
    "* <b>Kitchen</b>: número de cocinas\n",
    "* <b>KitchenQual</b>: calidad de la cocina\n",
    "* <b>TotRmsAbvGrd</b>: total de habitaciones por encima del nivel del suelo (no incluye baños)\n",
    "* <b>Functional</b>: valoración de la funcionalidad de la vivienda\n",
    "* <b>Fireplaces</b>: número de chimeneas\n",
    "* <b>FireplaceQu</b>: calidad de la chimenea\n",
    "* <b>GarageType</b>: ubicación del garaje\n",
    "* <b>GarageYrBlt</b>: año de construcción del garaje\n",
    "* <b>GarageFinish</b>: acabado interior del garaje\n",
    "* <b>GarageCars</b>: tamaño del garaje en capacidad de coches\n",
    "* <b>GarageArea</b>: tamaño del garaje en pies cuadrados\n",
    "* <b>GarageQual</b>: calidad de garaje\n",
    "* <b>GarageCond</b>: condición de garaje\n",
    "* <b>PavedDrive</b>: calzada asfaltada\n",
    "* <b>WoodDeckSF</b>: area de plataforma de madera en pies cuadrados\n",
    "* <b>OpenPorchSF</b>: área de porche abierto en pies cuadrados\n",
    "* <b>EnclosedPorch</b>: área de porche cerrada en pies cuadrados\n",
    "* <b>3SsnPorch</b>: área de porche de tres estaciones en pies cuadrados\n",
    "* <b>ScreenPorch</b>: superficie acristalada del porche en pies cuadrados\n",
    "* <b>PoolArea</b>: área de la piscina en pies cuadrados\n",
    "* <b>PoolQC</b>: calidad de la piscina\n",
    "* <b>Fence</b>: calidad de la valla\n",
    "* <b>MiscFeature</b>: característica miscelánea no cubierta en otras categorías\n",
    "* <b>MiscVal</b>: valor en dólares de la característica miscelánea\n",
    "* <b>MoSold</b>: mes de venta\n",
    "* <b>YrSold</b>: año de venta\n",
    "* <b>SaleType</b>: tipo de venta\n",
    "* <b>SaleCondition</b>: Condiciones de venta\n"
   ]
  },
  {
   "cell_type": "code",
   "execution_count": null,
   "metadata": {},
   "outputs": [],
   "source": [
    "df_train.info()"
   ]
  },
  {
   "cell_type": "markdown",
   "metadata": {},
   "source": [
    "Podemos observar que hay variables con casi el 100% de valores nulos, esas variables no deberían considerarse en nuestro análisis."
   ]
  },
  {
   "cell_type": "markdown",
   "metadata": {},
   "source": [
    "## ETAPA 2: Preparación y valor agregado de los datos\n",
    "\n",
    "En esta etapa revisaremos la data y la estructura de la información"
   ]
  },
  {
   "cell_type": "code",
   "execution_count": null,
   "metadata": {},
   "outputs": [],
   "source": [
    "df_train.shape"
   ]
  },
  {
   "cell_type": "code",
   "execution_count": null,
   "metadata": {
    "_cell_guid": "02250c81-7e15-c195-2e86-5adbd15c9d30",
    "_execution_state": "idle",
    "_uuid": "10814ba44786b5fea5e333324c6fe54729cabf33",
    "colab": {
     "base_uri": "https://localhost:8080/",
     "height": 323
    },
    "colab_type": "code",
    "id": "cI4S3F-at-Ct",
    "outputId": "84ceac91-d538-4b7f-fa32-25227a00f28d"
   },
   "outputs": [],
   "source": [
    "# Echo un vistazo las columnas:\n",
    "\n",
    "df_train.columns"
   ]
  },
  {
   "cell_type": "code",
   "execution_count": null,
   "metadata": {},
   "outputs": [],
   "source": [
    "df_train.head(20)"
   ]
  },
  {
   "cell_type": "code",
   "execution_count": null,
   "metadata": {},
   "outputs": [],
   "source": [
    "df_train[['Alley','PoolQC','Fence','MiscFeature']]"
   ]
  },
  {
   "cell_type": "code",
   "execution_count": null,
   "metadata": {},
   "outputs": [],
   "source": [
    "### hay que elminar variables con gran cantidad de nulos (>90%)\n",
    "df_train = df_train.drop(columns = ['Alley','PoolQC','Fence','MiscFeature'])"
   ]
  },
  {
   "cell_type": "code",
   "execution_count": null,
   "metadata": {},
   "outputs": [],
   "source": [
    "# guardamos un backup de la base\n",
    "df_train_bk = df_train\n",
    "\n",
    "# eliminamos la variable identificadora de la base\n",
    "df_train = df_train.drop(columns = ['Id'])"
   ]
  },
  {
   "cell_type": "markdown",
   "metadata": {},
   "source": [
    "En este caso no hay más configuraciones que hacer en la tabla de trabajo. Ya habiendo retirados esos campos con muchos valores nulos continuaremos con el análisis descriptivo."
   ]
  },
  {
   "cell_type": "markdown",
   "metadata": {},
   "source": [
    "## ETAPA 3 : Examen gráfico y descriptivo numérico"
   ]
  },
  {
   "cell_type": "markdown",
   "metadata": {
    "_cell_guid": "3ef87d93-0ea6-8cb2-aa2d-90d5b56a1ca1",
    "_uuid": "39d104c7e40b3f66a0f6e2330119332b301be7bf",
    "colab_type": "text",
    "id": "uw8hGnqlt-Cv"
   },
   "source": [
    "### Análisis univariado: 'SalePrice'\n",
    "\n",
    "La variable 'SalePrice' es la variable objetivo de este conjunto de datos. En pasos posteriores a este análisis exploratorio de datos se realizaría una predicción del valor de esta variable, por lo que voy a estudiarla con mayor detenimiento:"
   ]
  },
  {
   "cell_type": "code",
   "execution_count": null,
   "metadata": {
    "_cell_guid": "54452e23-f4d3-919f-c734-80a35dc9ae08",
    "_execution_state": "idle",
    "_uuid": "5c15e1bd10b8e71c0b1d62bdb260882585a35579",
    "colab": {
     "base_uri": "https://localhost:8080/",
     "height": 170
    },
    "colab_type": "code",
    "id": "ej3lvE5jt-Cw",
    "outputId": "b3c5dcd4-d76e-4e5d-87a0-3903b5802b0d"
   },
   "outputs": [],
   "source": [
    "# Resumen de estadística descriptiva:\n",
    "\n",
    "df_train['SalePrice'].describe()"
   ]
  },
  {
   "cell_type": "code",
   "execution_count": null,
   "metadata": {
    "_cell_guid": "6bbea362-77b6-5385-f0a8-fb53afd088b7",
    "_execution_state": "idle",
    "_uuid": "2f78c77caa7290298138caf167672e62d3bc5a67",
    "colab": {
     "base_uri": "https://localhost:8080/",
     "height": 290
    },
    "colab_type": "code",
    "id": "c0ds_Ugzt-Cy",
    "outputId": "7c45c0e3-7649-4be1-c361-ecb065357677"
   },
   "outputs": [],
   "source": [
    "import seaborn as sns\n",
    "import matplotlib.pyplot as plt\n",
    "# Histograma con seaborn:\n",
    "\n",
    "sns.histplot(df_train['SalePrice'])\n",
    "plt.show()"
   ]
  },
  {
   "cell_type": "code",
   "execution_count": null,
   "metadata": {},
   "outputs": [],
   "source": [
    "# Histograma con pandas:\n",
    "\n",
    "df_train['SalePrice'].plot(kind='hist',density=True, edgecolor = 'k')\n",
    "plt.show()"
   ]
  },
  {
   "cell_type": "code",
   "execution_count": null,
   "metadata": {},
   "outputs": [],
   "source": [
    "# Diagrama de cajas:\n",
    "\n",
    "df_train['SalePrice'].plot(kind='box')\n",
    "plt.show()"
   ]
  },
  {
   "cell_type": "markdown",
   "metadata": {
    "_cell_guid": "f4e257f0-1dfd-0774-b346-f2a1b2a068cc",
    "_uuid": "f84e60c8b934615e53af10823558fe42753ac25d",
    "colab_type": "text",
    "id": "d84Kplo1t-C4"
   },
   "source": [
    "A simple vista se pueden apreciar:\n",
    "\n",
    "* Una desviación con respecto a la distribución normal.\n",
    "* Una asimetría positiva.\n",
    "* Algunos picos.\n",
    "* Varios posibles datos atípicos"
   ]
  },
  {
   "cell_type": "code",
   "execution_count": null,
   "metadata": {
    "_cell_guid": "36766737-f1a3-fe40-dbec-63c31be4d5e0",
    "_execution_state": "idle",
    "_uuid": "2cb253768dcd75b9a450ee264626ce69c808096a",
    "colab": {
     "base_uri": "https://localhost:8080/",
     "height": 51
    },
    "colab_type": "code",
    "id": "ZW7Vscrdt-C4",
    "outputId": "c4c4f28f-1d27-4191-8781-94cbdebbe080"
   },
   "outputs": [],
   "source": [
    "# Rango intercuartílico y Coeficiente de variación:me permiten cuantificar la amplitud de los datos\n",
    "\n",
    "interquantile = lambda x: x.quantile(0.75)-x.quantile(0.25)\n",
    "cv = lambda x: x.std()/x.mean()\n",
    "\n",
    "f = {'SalePrice' : [interquantile, cv]}\n",
    "df_train.agg(f)"
   ]
  },
  {
   "cell_type": "markdown",
   "metadata": {},
   "source": [
    "Para una variable objetivo cualitativa\n",
    "\n",
    "* Hacer tablas de frecuencia (usando pandas group by)\n",
    "* Revisar la magnitud de la categoría de éxito (si es muy pequeño deberiamos muestrear)\n",
    "* Graficos recomendados circulares y grafico de barras (barplot)\n",
    "\n",
    "Si no hay variable objetivo, esta parte no se hace. Se realiza en este caso lo siguiente:\n",
    "\n",
    "* Revisión del problema y objetivos\n",
    "* Tipos de datos.\n",
    "* Revisión de nulos y atípicos"
   ]
  },
  {
   "cell_type": "markdown",
   "metadata": {},
   "source": [
    "### Revisando las variables explicactivas cuantitativas:"
   ]
  },
  {
   "cell_type": "code",
   "execution_count": null,
   "metadata": {},
   "outputs": [],
   "source": [
    "# extraemos las variables cuantitativas, quitando las variables Id\n",
    "list(df_train.describe().columns)"
   ]
  },
  {
   "cell_type": "code",
   "execution_count": null,
   "metadata": {},
   "outputs": [],
   "source": [
    "# describe solo sirve en un dataframe para variables cuantitantiva \n",
    "# si se usa en una cualitativa de manera directa, saca una tabla de frecuencia\n",
    "\n",
    "lista_cuantitativas = list(df_train.describe().columns)\n",
    "lista_cuantitativas"
   ]
  },
  {
   "cell_type": "code",
   "execution_count": null,
   "metadata": {},
   "outputs": [],
   "source": [
    "# realizamos histogramas para revisar la distribución de cada variable cuantitativa\n",
    "for var in lista_cuantitativas:\n",
    "    df_train[var].plot(kind='hist', title=var, bins=30)\n",
    "    plt.show()"
   ]
  },
  {
   "cell_type": "code",
   "execution_count": null,
   "metadata": {},
   "outputs": [],
   "source": [
    "# realizamos diagramas de cajas para revisar la distribución de cada variable cuantitativa\n",
    "for var in lista_cuantitativas:\n",
    "    df_train[var].plot(kind='box', title=var)\n",
    "    plt.show()"
   ]
  },
  {
   "cell_type": "markdown",
   "metadata": {},
   "source": [
    "Con estos gráficos podemos revisar la distribución de la variables cuantitativas y posibles outliers por variables."
   ]
  },
  {
   "cell_type": "markdown",
   "metadata": {},
   "source": [
    "### Revisando las variables explicactivas cualitativas:"
   ]
  },
  {
   "cell_type": "code",
   "execution_count": null,
   "metadata": {},
   "outputs": [],
   "source": [
    "# extraemos las listas de cuantitativas\n",
    "lista_cuantitativas = list(df_train.describe().columns)\n",
    "\n",
    "#ahora en la base total quitamos estas variables, quedandonos con las cualitativas\n",
    "lista_cualitativas = df_train.drop(columns = lista_cuantitativas).columns\n",
    "lista_cualitativas"
   ]
  },
  {
   "cell_type": "code",
   "execution_count": null,
   "metadata": {},
   "outputs": [],
   "source": [
    "df_train[lista_cualitativas]"
   ]
  },
  {
   "cell_type": "code",
   "execution_count": null,
   "metadata": {},
   "outputs": [],
   "source": [
    "# realizamos diagramas de barras para revisar la distribución de frecuencias de cada variable cualitativa\n",
    "for var in lista_cualitativas:\n",
    "    df_train.groupby(var)['SalePrice'].count().plot.bar()\n",
    "    plt.show()"
   ]
  },
  {
   "cell_type": "markdown",
   "metadata": {},
   "source": [
    "En este punto debemos revisar las variables que sólo tengan una categoría relevante y cuestionar si dejarlas o no para continuar nuestros análisis."
   ]
  },
  {
   "cell_type": "markdown",
   "metadata": {
    "_cell_guid": "73c1a953-aafd-96f6-c7bd-e2c79b3e5a0b",
    "_uuid": "08e034d70ed14ef0c4fb8cc1e9dd9e15f0d1c996",
    "colab_type": "text",
    "id": "A4ON_39it-C7"
   },
   "source": [
    "### Relación con variables numéricas"
   ]
  },
  {
   "cell_type": "code",
   "execution_count": null,
   "metadata": {},
   "outputs": [],
   "source": [
    "df_train = df_train.dropna(how='any')"
   ]
  },
  {
   "cell_type": "code",
   "execution_count": null,
   "metadata": {
    "_cell_guid": "db040973-0adc-e126-e657-1d8934b5a5c8",
    "_execution_state": "idle",
    "_uuid": "91160363898f5caeee965a1aa81eb3abb7dcd760",
    "colab": {
     "base_uri": "https://localhost:8080/",
     "height": 279
    },
    "colab_type": "code",
    "id": "Vdo6ZMSvt-C7",
    "outputId": "fe1d61c8-cd8a-4b2d-bcdd-49a6376615a5",
    "scrolled": false
   },
   "outputs": [],
   "source": [
    "# Diagrama de dispersión cada variable con la variable objetivo (saleprice):\n",
    "import numpy as np\n",
    "\n",
    "lista_cuantitativas = list(df_train.describe().columns)\n",
    "for var in lista_cuantitativas:\n",
    "    print(np.corrcoef(df_train['SalePrice'], df_train[var]))\n",
    "    data = pd.concat([df_train['SalePrice'], df_train[var]], axis=1)\n",
    "    data.plot.scatter(x=var, y='SalePrice', alpha = 0.5)\n",
    "    plt.show()"
   ]
  },
  {
   "cell_type": "markdown",
   "metadata": {},
   "source": [
    "**¿Qué podemos ver en estos gráficos?**\n",
    "\n",
    "* Relaciones entre la variable cuantitativa de interés con cada una de las demás, además de su coeficiente de correlación.\n",
    "* Si hay variables relacionadas donde haya sesgo con alguno de los extremos, lo que podría lllevar a eliminarla.\n",
    "* Eliminar variables poco correlacionadas para descartarlas.\n",
    "* Si vemos una relación con una variable discreta podemos revisarla con el siguiente gráfico para más detalle."
   ]
  },
  {
   "cell_type": "markdown",
   "metadata": {},
   "source": [
    "### Relación de variables numéricas continuas con numericas discretas"
   ]
  },
  {
   "cell_type": "code",
   "execution_count": null,
   "metadata": {
    "_cell_guid": "353def35-0f26-998d-b9a4-7356f95e80ad",
    "_execution_state": "idle",
    "_uuid": "3ac3db51311338fcdc16014a7c506cf3d5315af7",
    "colab": {
     "base_uri": "https://localhost:8080/",
     "height": 279
    },
    "colab_type": "code",
    "id": "TZdRVGset-C9",
    "outputId": "9e4f694b-41be-4299-d14a-dd6452624e3d"
   },
   "outputs": [],
   "source": [
    "# Diagrama de cajas Fullbath/saleprice:\n",
    "\n",
    "var = 'FullBath'\n",
    "data = pd.concat([df_train['SalePrice'], df_train[var]], axis=1)\n",
    "f, ax = plt.subplots(figsize=(8, 6))\n",
    "fig = sns.boxplot(x=var, y=\"SalePrice\", data=data)\n",
    "fig.axis(ymin=0, ymax=800000)\n",
    "plt.show()"
   ]
  },
  {
   "cell_type": "code",
   "execution_count": null,
   "metadata": {},
   "outputs": [],
   "source": [
    "# Diagrama de cajas GarageCars/saleprice:\n",
    "\n",
    "var = 'GarageCars'\n",
    "data = pd.concat([df_train['SalePrice'], df_train[var]], axis=1)\n",
    "f, ax = plt.subplots(figsize=(8, 6))\n",
    "fig = sns.boxplot(x=var, y=\"SalePrice\", data=data)\n",
    "fig.axis(ymin=0, ymax=800000)\n",
    "plt.show()"
   ]
  },
  {
   "cell_type": "code",
   "execution_count": null,
   "metadata": {},
   "outputs": [],
   "source": [
    "# Diagrama de cajas Years/saleprice:\n",
    "\n",
    "var = 'YearBuilt'\n",
    "data = pd.concat([df_train['SalePrice'], df_train[var]], axis=1)\n",
    "f, ax = plt.subplots(figsize=(8, 6))\n",
    "fig = sns.boxplot(x=var, y=\"SalePrice\", data=data)\n",
    "fig.axis(ymin=0, ymax=800000)\n",
    "plt.show()"
   ]
  },
  {
   "cell_type": "markdown",
   "metadata": {},
   "source": [
    "En este caso vemos que puede haber una relación significativa entre el FullBath y SalesPrice"
   ]
  },
  {
   "cell_type": "markdown",
   "metadata": {
    "_cell_guid": "b31bc890-46bf-618c-e668-17879763ad23",
    "_uuid": "5550d4df3c0ad48d8b2b9b0905f17daa3fc8d244",
    "colab_type": "text",
    "id": "IDmRITQGt-C_"
   },
   "source": [
    "### Relación de variables cuantitativas con variables categóricas\n",
    "\n",
    "Sirve para variables Target u objetivo cuantitativas y cualitativa"
   ]
  },
  {
   "cell_type": "code",
   "execution_count": null,
   "metadata": {
    "_cell_guid": "26d0fddc-cb09-af7d-9f03-a07233fa6c9e",
    "_execution_state": "idle",
    "_uuid": "e2b7aaccc3486a74a09996289a833ffb6acd0764",
    "colab": {
     "base_uri": "https://localhost:8080/",
     "height": 392
    },
    "colab_type": "code",
    "id": "MX8R7QEQt-DA",
    "outputId": "908469b7-4c0d-4156-e02c-00ba8953778a"
   },
   "outputs": [],
   "source": [
    "# Diagrama de cajas overallqual/saleprice:\n",
    "var = 'OverallQual'\n",
    "data = pd.concat([df_train['SalePrice'], df_train[var]], axis=1)\n",
    "f, ax = plt.subplots(figsize=(8, 6))\n",
    "fig = sns.boxplot(x=var, y=\"SalePrice\", data=data)\n",
    "fig.axis(ymin=0, ymax=800000)\n",
    "plt.show()"
   ]
  },
  {
   "cell_type": "code",
   "execution_count": null,
   "metadata": {
    "_cell_guid": "590da500-3e48-7059-4f0b-1ef1801dd1db",
    "_execution_state": "idle",
    "_uuid": "a78c64aeed1e48aa453ae4b7deef172cb2060b39",
    "colab": {
     "base_uri": "https://localhost:8080/",
     "height": 516
    },
    "colab_type": "code",
    "id": "XtOJ8wO0t-DC",
    "outputId": "cabc634d-d251-41d4-b39b-ab865d8da12b"
   },
   "outputs": [],
   "source": [
    "# Diagrama de cajas RoofMatl/saleprice:\n",
    "for var in lista_cualitativas:\n",
    "    data = pd.concat([df_train['SalePrice'], df_train[var]], axis=1)\n",
    "    f, ax = plt.subplots(figsize=(16, 8))\n",
    "    fig = sns.boxplot(x=var, y=\"SalePrice\", data=data)\n",
    "    fig.axis(ymin=0, ymax=800000)\n",
    "    plt.xticks(rotation=90)\n",
    "    plt.show()"
   ]
  },
  {
   "cell_type": "markdown",
   "metadata": {
    "_cell_guid": "9d2f4940-ee0c-edef-769d-65fead4f06f3",
    "_uuid": "1dc93d788b3cd2446afa41e7c06d05c6bbadb480",
    "colab_type": "text",
    "id": "cykYuwXct-DE"
   },
   "source": [
    "### Resumiendo:\n",
    "\n",
    "* 'GrLivArea' y 'TotalBsmtSF' mantienen una relación lineal positiva con 'SalePrice', aumentando en el mismo sentido. En el caso de 'TotalBsmtSF', la pendiente de esta relación es muy acentuada.\n",
    "* 'OverallQual' y 'YearBuilt' también parecen relacionadas con 'SalePrice' (más fuerte en el primer caso), tal y como se puede observar en los diagramas de cajas.\n",
    "\n",
    "Sólo he explorado cuatro variables, pero hay muchas otras a analizar."
   ]
  },
  {
   "cell_type": "markdown",
   "metadata": {},
   "source": [
    "### Relación de variables categóricas o cualitativas\n",
    "\n",
    "Sirve para variables Target cualitativa\n",
    "\n",
    "Asumiendo que la variable CentralAir es la variable target cualitativa.\n",
    "Validaremos si PavedDrive es significaiva"
   ]
  },
  {
   "cell_type": "code",
   "execution_count": null,
   "metadata": {},
   "outputs": [],
   "source": [
    "pd.crosstab(df_train['PavedDrive'],df_train['CentralAir'])"
   ]
  },
  {
   "cell_type": "code",
   "execution_count": null,
   "metadata": {},
   "outputs": [],
   "source": [
    "cruce = pd.crosstab(df_train['PavedDrive'],df_train['CentralAir'],margins = True,normalize = 'index')\n",
    "cruce"
   ]
  },
  {
   "cell_type": "code",
   "execution_count": null,
   "metadata": {
    "scrolled": false
   },
   "outputs": [],
   "source": [
    "cruce.plot.bar(stacked = True)\n",
    "plt.show()"
   ]
  },
  {
   "cell_type": "markdown",
   "metadata": {},
   "source": [
    "Como vemos diferencias entre la proporción de la variable de interés en cada categoría a diferencia del total, se puede afirmar que la variable PavedDrive afecta a la variable \"objetivo\" CentalAir\""
   ]
  },
  {
   "cell_type": "markdown",
   "metadata": {},
   "source": [
    "## ETAPA 4: Asociaciones Cualitativas y Cuantitativas"
   ]
  },
  {
   "cell_type": "markdown",
   "metadata": {
    "_cell_guid": "b75e5f62-307b-f5f4-79ac-38815a7a6da4",
    "_uuid": "aa4ed71a6d1003513b4e31adacd0e7a491671f0f",
    "colab_type": "text",
    "id": "LC-jUBRBt-DE"
   },
   "source": [
    "### Análisis multivariado"
   ]
  },
  {
   "cell_type": "markdown",
   "metadata": {
    "_cell_guid": "2ea2f896-48a6-db39-0684-6a029d8fda60",
    "_uuid": "d67e5bf6f2c4b6acb617c4cdcee0dc5c3f79d9b8",
    "colab_type": "text",
    "id": "h-TEYpl3t-DF"
   },
   "source": [
    "Hasta ahora sólo me he dejado llevar por la intuición para el análisis de las variables que he creído importantes. Es hora de un análisis más objetivo.\n",
    "\n",
    "Para ello voy a realizar las siguientes pruebas de correlación:\n",
    "* Matriz de correlación general.\n",
    "* Matriz de correlación centrada en la variable 'SalePrice'.\n",
    "* Diagramas de dispersión entre las variables más correladas."
   ]
  },
  {
   "cell_type": "markdown",
   "metadata": {
    "_cell_guid": "06f8d02c-d779-f8fd-7f48-ba3c5166eda8",
    "_uuid": "bf469f1030a8768f73a18e5ad59db43c4241c603",
    "colab_type": "text",
    "id": "iVHxPuW4t-DF"
   },
   "source": [
    "#### Matriz de correlación (en forma de mapa de calor)"
   ]
  },
  {
   "cell_type": "code",
   "execution_count": null,
   "metadata": {
    "_cell_guid": "4eb7a6ef-adf5-6abf-947d-c95afdc477b8",
    "_execution_state": "idle",
    "_uuid": "5dfee22210f5a126ea34ca6475bb4f365d41317b",
    "colab": {
     "base_uri": "https://localhost:8080/",
     "height": 607
    },
    "colab_type": "code",
    "id": "NI1M23bMt-DF",
    "outputId": "58f39832-2981-4a9d-b87e-a50d81d81ab6"
   },
   "outputs": [],
   "source": [
    "# Matriz de correlación:\n",
    "\n",
    "corrmat = df_train.corr()\n",
    "f, ax = plt.subplots(figsize=(12, 9))\n",
    "sns.heatmap(corrmat, vmax=.8, square=True)\n",
    "plt.show()"
   ]
  },
  {
   "cell_type": "markdown",
   "metadata": {
    "_cell_guid": "977fb7af-70e1-bfb8-e381-3176ec0321b0",
    "_uuid": "b6eb357b201b4d2a9e81f4373cadb9aeccc2482c",
    "colab_type": "text",
    "id": "cpW6UOzvt-DH"
   },
   "source": [
    "El mapa de calor es una forma visual muy útil para para conocer las variables y sus relaciones. A primera vista hay dos variables que llaman la atención: 'TotalBsmtSF' y '1stFlrSF', seguidas por las variables 'Garage*X*'. En ambos casos parece haber una correlación significativa; en realidad es tan fuerte que podría indicar multicolinealidad, es decir, que básicamente ofrecen la misma información.\n",
    "\n",
    "Con respecto a las correlaciones de la variable 'SalePrice', destacan las vistas anteriormente ('GrLivArea', 'TotalBsmtSF' y 'OverallQual'), pero hay otras que también deberían ser tenidas en cuenta."
   ]
  },
  {
   "cell_type": "markdown",
   "metadata": {
    "_cell_guid": "9b557956-df91-bab3-0e8b-d8ffc054470f",
    "_uuid": "6ef7d7b7747807431aa9827046c76bfa3d34ffe1",
    "colab_type": "text",
    "id": "iLdA4vSTt-DI"
   },
   "source": [
    "#### Matriz de correlación de 'SalePrice'"
   ]
  },
  {
   "cell_type": "code",
   "execution_count": null,
   "metadata": {
    "_cell_guid": "bc33db9e-9ee3-6cfe-7643-a2aff5a9234d",
    "_execution_state": "idle",
    "_uuid": "a6ee47c540ce9f3f1d2af6efe0b030e76e3a3f7f",
    "colab": {
     "base_uri": "https://localhost:8080/",
     "height": 365
    },
    "colab_type": "code",
    "id": "69HFe265t-DI",
    "outputId": "fd2f1303-3cd8-4060-d6e0-adf71f758f92"
   },
   "outputs": [],
   "source": [
    "fig = plt.figure(figsize=(16,12)) \n",
    "sns.heatmap(corrmat,annot=corrmat,fmt='.1f',linewidth=0.2,cmap='bwr')\n",
    "plt.show()"
   ]
  },
  {
   "cell_type": "code",
   "execution_count": null,
   "metadata": {
    "colab": {
     "base_uri": "https://localhost:8080/",
     "height": 838
    },
    "colab_type": "code",
    "id": "csc9d-_5t-DK",
    "outputId": "cb031552-daa5-4dec-896c-43cbf257dd95"
   },
   "outputs": [],
   "source": [
    "corr = df_train.corr()\n",
    "corr[['SalePrice']].sort_values(by = 'SalePrice',ascending = False).style.background_gradient()"
   ]
  },
  {
   "cell_type": "markdown",
   "metadata": {
    "_cell_guid": "f5c23b8a-aad9-809f-0fdf-f758f926f5c9",
    "_uuid": "c10a0a0bd55e55822726c78a59ab2bb6d9763f68",
    "colab_type": "text",
    "id": "TyXWAQk1t-DN"
   },
   "source": [
    "En estas matrices de correlación se puede observar:\n",
    "\n",
    "* 'OverallQual', 'GrLivArea' y 'TotalBsmtSF' están fuertemente correladas con 'SalePrice'.\n",
    "* 'GarageCars' y 'GarageArea' también están fuertemente correladas pero, como he comentado anteriormente, el número de coches que se pueden aparcar en un garaje es una consecuencia de su superficie. Es por esto que sólo voy a mantener una de estas variables en el análisis, 'GarageCars', ya que está más correlada con 'SalePrice'.\n",
    "* 'TotalBsmtSF' y '1stFloor' plantean la misma situación. En este caso mantendré 'TotalBsmtSF'.\n",
    "* 'FullBath' también está correlada con 'SalePrice'. Parece que a la gente le gusta darse un baño en casa...\n",
    "* 'TotRmsAbvGrd' y 'GrLivArea', otro caso de multicolinealidad.\n",
    "* 'YearBuilt' también está ligeramente correlada con 'SalePrice'. "
   ]
  },
  {
   "cell_type": "markdown",
   "metadata": {
    "_cell_guid": "3bdb34db-cf47-d8c8-b857-7031828808ed",
    "_uuid": "28e0b3f8ecee68390a40bd653d7370c20615ad5d",
    "colab_type": "text",
    "id": "ayHgSrO8t-DN"
   },
   "source": [
    "#### Diagramas de dispersión entre 'SalePrice' y sus variables correlacionadas"
   ]
  },
  {
   "cell_type": "code",
   "execution_count": null,
   "metadata": {
    "_cell_guid": "5a8db5de-d3f9-9a28-f220-bb05d51c53d0",
    "_execution_state": "idle",
    "_uuid": "cdafd230216fd04cc4ecf635967925da0bce9195",
    "colab": {
     "base_uri": "https://localhost:8080/",
     "height": 1000
    },
    "colab_type": "code",
    "id": "w6ty3udIt-DO",
    "outputId": "d9461647-e07e-4f8f-e3d4-0d8b2c59958c"
   },
   "outputs": [],
   "source": [
    "# Scatter plot:\n",
    "\n",
    "sns.set()\n",
    "cols = ['SalePrice', 'OverallQual', 'GrLivArea', 'GarageCars', 'TotalBsmtSF', 'FullBath', 'YearBuilt']\n",
    "sns.pairplot(df_train[cols], height = 2.5)\n",
    "plt.show()"
   ]
  },
  {
   "cell_type": "code",
   "execution_count": null,
   "metadata": {},
   "outputs": [],
   "source": [
    "cols = ['SalePrice', 'OverallQual', 'GrLivArea', 'GarageCars', 'TotalBsmtSF', 'FullBath', 'YearBuilt']\n",
    "pd.plotting.scatter_matrix(df_train[cols], diagonal='kde', figsize = (20,20))\n",
    "plt.show()"
   ]
  },
  {
   "cell_type": "markdown",
   "metadata": {
    "_cell_guid": "a61d0a23-e5e4-3190-41a7-03a5110dc967",
    "_uuid": "7dd622e414e1fda79d2d1f163b1d30d6c2de15eb",
    "colab_type": "text",
    "id": "HNjS-q5Dt-DQ"
   },
   "source": [
    "Aunque ya habíamos visto algunas de las figuras, este diagrama nos facilita una comprensión general sobre las relaciones entre las variables."
   ]
  },
  {
   "cell_type": "markdown",
   "metadata": {},
   "source": [
    "***Mapa de calor - heatmap***\n",
    "\n",
    "Los mapas de calor tienen gran número de aplicaciones en contexto de sistemas físicos, campo donde surgieron. Sin embargo en la actualidad y para nuestro proposito han encontrado una funcionalidad particular, analisis y representacion de correlaciones."
   ]
  },
  {
   "cell_type": "markdown",
   "metadata": {},
   "source": [
    "## ETAPA 5: Casos Atípicos Univariados y Multivariados"
   ]
  },
  {
   "cell_type": "markdown",
   "metadata": {
    "_cell_guid": "9ce00498-d5e6-9e35-debc-8d507002d461",
    "_uuid": "726efbb348d1022cabb171f622d7b4e01fe8c778",
    "colab_type": "text",
    "id": "ANfzzL3Dt-DQ"
   },
   "source": [
    "## Limpieza de datos\n",
    "\n",
    "### Datos desaparecidos\n",
    "\n",
    "Antes de tratar los datos faltantes, es importante determinar su prevalencia y su aleatoriedad, ya que pueden implicar una reducción del tamaño de la muestra. También hay que asegurarse que la gestión de los datos desaparecidos no esté sesgada o esconda una verdad incómoda."
   ]
  },
  {
   "cell_type": "code",
   "execution_count": null,
   "metadata": {},
   "outputs": [],
   "source": [
    "# recuperamos el backup de la base\n",
    "df_train = df_train_bk"
   ]
  },
  {
   "cell_type": "code",
   "execution_count": null,
   "metadata": {},
   "outputs": [],
   "source": [
    "df_train.info()"
   ]
  },
  {
   "cell_type": "code",
   "execution_count": null,
   "metadata": {
    "_cell_guid": "ca2f89e7-1c16-c3ae-6fe0-ab4eaf7e52a1",
    "_execution_state": "idle",
    "_uuid": "664e03dc1434fa2c4eb730ea36ab60e37f13cd3f",
    "colab": {
     "base_uri": "https://localhost:8080/",
     "height": 359
    },
    "colab_type": "code",
    "id": "UYENqE5Ht-DQ",
    "outputId": "82484c2c-87e8-47f6-c5f5-af5fcfc9430e"
   },
   "outputs": [],
   "source": [
    "# Missing data:\n",
    "\n",
    "total = df_train.isnull().sum().sort_values(ascending = False)\n",
    "percent = (df_train.isnull().sum() / df_train.isnull().count()).sort_values(ascending = False)\n",
    "missing_data = pd.concat([total, percent], axis = 1, keys = ['Total', 'Percent'])\n",
    "missing_data.head(15)"
   ]
  },
  {
   "cell_type": "markdown",
   "metadata": {
    "_cell_guid": "42bf6c61-9836-5c25-ff2f-1219e96f60a2",
    "_uuid": "c7607aaf8378eac11a8a8395dcd4a2346c22f5ea",
    "colab_type": "text",
    "id": "8kjlLSpit-DS"
   },
   "source": [
    "Por razones prácticas voy a eliminar las variables con más de un 15% de datos faltantes (p.ej. 'PoolQC', 'MiscFeature', 'Alley', etc.); no creo que las echemos de menos, no parecen aspectos importantes a considerar al comprar una casa.\n",
    "\n",
    "Con respecto a las variables 'Garage*X*', observo el mismo número de datos desaparecidos, hecho que quizás habría que estudiar con más detenimiento. Pero, dado que la información más relevante en cuanto al garaje ya está recogida por la variable 'GarageCars', y que sólo se trata de un 5% de datos faltantes, borraré las citadas variables 'Garage*X*', además de las 'Bsmt*X*' bajo la misma lógica.\n",
    "\n",
    "En cuanto a las variables 'MasVnrArea' y 'MasVnrType', se puede decir que no son esenciales y que, incluso, tienen una fuerte correlación con 'YearBuilt' y 'OverallQual'. No parece que se vaya a perder mucha información si elimino 'MasVnrArea' and 'MasVnrType'.\n",
    "\n",
    "Para finalizar, encuentro un dato faltante en la variable 'Electrical'. Ya que sólo se trata de una observación, voy a borrarla y a mantener la variable.\n",
    "\n",
    "En resumen, voy a borrar todas las variables con datos desaparecidos, excepto la variable 'Electrical'; en este caso sólo voy a borrar la observación con el dato faltante."
   ]
  },
  {
   "cell_type": "code",
   "execution_count": null,
   "metadata": {
    "_cell_guid": "f43f72c5-5457-1f47-e8ef-502db4355086",
    "_execution_state": "idle",
    "_uuid": "726617e295ee6bfe26ccf277323cc68ef52dc61b",
    "colab": {
     "base_uri": "https://localhost:8080/",
     "height": 34
    },
    "colab_type": "code",
    "id": "2vRCnylgt-DT",
    "outputId": "8387df3d-83de-42b6-bf47-9bc19689d403"
   },
   "outputs": [],
   "source": [
    "# Tratamiento de datos faltantes:\n",
    "\n",
    "df_train = df_train.drop((missing_data[missing_data['Total'] > 200]).index,1)\n",
    "df_train = df_train.drop(df_train.loc[df_train['Electrical'].isnull()].index)\n",
    "df_train.isnull().sum().max() # Para comprobar que no hay más datos desaparecidos."
   ]
  },
  {
   "cell_type": "code",
   "execution_count": null,
   "metadata": {},
   "outputs": [],
   "source": [
    "df_train.isnull().sum().max() "
   ]
  },
  {
   "cell_type": "code",
   "execution_count": null,
   "metadata": {},
   "outputs": [],
   "source": [
    "df_train.columns"
   ]
  },
  {
   "cell_type": "markdown",
   "metadata": {},
   "source": [
    "Sugerencia: eliminar cualquier variable adicional con un % de nulos mayor a 15%\n",
    "A lo demás, tratar los nulos como lo revisamos en el notebook anterior"
   ]
  },
  {
   "cell_type": "markdown",
   "metadata": {
    "_cell_guid": "bf77b1ad-c87b-0be1-7adc-02b0186e2c37",
    "_uuid": "402bab0012e6f60f3fd045788d9c60e02e43e46d",
    "colab_type": "text",
    "id": "t-sSe2kVt-DU"
   },
   "source": [
    "### Datos atípicos\n",
    "\n",
    "Los datos atípicos u outliers pueden afectar marcadamente el modelo, además de suponer una fuente de información en sí misma. Su tratamiento es un asunto complejo que requiere más atención; por ahora sólo voy a hacer un análisis rápido a través de la desviación estándar de la variable 'SalePrice' y a realizar un par de diagramas de dispersión."
   ]
  },
  {
   "cell_type": "markdown",
   "metadata": {
    "_cell_guid": "1553bf55-edb3-7c65-f505-227d34d018fb",
    "_uuid": "1c4f41a45aabef83aab703c4e9c0101db1d3c7f7",
    "colab_type": "text",
    "id": "yY1MNFIUt-DV"
   },
   "source": [
    "#### Análisis univariable\n",
    "\n",
    "La primera tarea en este caso es establecer un umbral que defina una observación como valor atípico. Para ello voy a estandarizar los datos, es decir, transformar los valores datos para que tengan una media de 0 y una desviación estándar de 1."
   ]
  },
  {
   "cell_type": "code",
   "execution_count": null,
   "metadata": {
    "_cell_guid": "49a133fb-b713-45bd-ca42-c1ca0eb4d3f6",
    "_execution_state": "idle",
    "_uuid": "09b3bc296d01936b3b6df7f3ea670499e926720e",
    "colab": {
     "base_uri": "https://localhost:8080/",
     "height": 408
    },
    "colab_type": "code",
    "id": "sVQUZ0N6t-DV",
    "outputId": "7e41b1ff-7f33-46ee-fa0a-f399f245b77f"
   },
   "outputs": [],
   "source": [
    "# Estandarización de datos:\n",
    "from sklearn.preprocessing import StandardScaler\n",
    "\n",
    "saleprice_scaled = StandardScaler().fit_transform(df_train['SalePrice'][:,np.newaxis]);\n",
    "low_range = saleprice_scaled[saleprice_scaled[:,0].argsort()][:10]\n",
    "high_range = saleprice_scaled[saleprice_scaled[:,0].argsort()][-10:]\n",
    "print('Fuera de la distribución (por debajo):')\n",
    "print(low_range)\n",
    "print('\\nFuera de la distribución (por arriba):')\n",
    "print(high_range)"
   ]
  },
  {
   "cell_type": "markdown",
   "metadata": {
    "_cell_guid": "4ae8ecbd-3236-7e32-fa2c-9c12a6ba53d3",
    "_uuid": "68d1465ef6f6da48d318868646741072eec73f0b",
    "colab_type": "text",
    "id": "tSBh94Mzt-DX"
   },
   "source": [
    "* Los valores bajos son similares y no muy alejados del 0.\n",
    "* Los valores altos están muy alejados del 0. Los valores superiores a 7 están realmente fuera de rango."
   ]
  },
  {
   "cell_type": "markdown",
   "metadata": {
    "_cell_guid": "ed741196-bc75-a4b5-dda9-417b6d8aa52b",
    "_uuid": "a4137453b99017b08ed6d433829e04160b6613d2",
    "colab_type": "text",
    "id": "n5e8e2oNt-DX"
   },
   "source": [
    "#### Análisis bivariable"
   ]
  },
  {
   "cell_type": "code",
   "execution_count": null,
   "metadata": {
    "_cell_guid": "a03b5ee8-0701-10f0-2d4c-06fcaf1fada5",
    "_execution_state": "idle",
    "_uuid": "4d3e3941ca62ce141f96d0fd2f3276cd80e03ed3",
    "colab": {
     "base_uri": "https://localhost:8080/",
     "height": 322
    },
    "colab_type": "code",
    "id": "4L4RaCmBt-DY",
    "outputId": "e62c6578-79fb-4e56-bb4e-b0f64602c3a7"
   },
   "outputs": [],
   "source": [
    "# Análisis bivariable SalePrice/GrLivArea:\n",
    "\n",
    "var = 'GrLivArea'\n",
    "data = pd.concat([df_train['SalePrice'], df_train[var]], axis = 1)\n",
    "data.plot.scatter(x = var, y = 'SalePrice', alpha = 0.5)\n",
    "plt.show()"
   ]
  },
  {
   "cell_type": "markdown",
   "metadata": {
    "_cell_guid": "48c2ad5c-b861-6b33-a292-9d6b7b58b1cc",
    "_uuid": "8ef88aabbea5235f920f0a12eba9cf9f640b5f6d",
    "colab_type": "text",
    "id": "OqMqmgJZt-Da"
   },
   "source": [
    "Este diagrama de dispersión muestra un par de cosas interesantes:\n",
    "\n",
    "* Los dos valores más altos de la variable 'GrLivArea' resultan extraños. Sólo puedo especular, pero podría tratarse de terrenos agrícolas o muy degradados, algo que explicaría su bajo precio. Lo que está claro es que estos dos puntos son atípicos, por lo que voy a proceder a eliminarlos.\n",
    "* Las dos observaciones más altas de la variable 'SalePrice' se corresponden con las que observamos en el análisis univariable anterior. Son casos especiales, pero parece que siguen la tendencia general, por lo que voy a mantenerlas."
   ]
  },
  {
   "cell_type": "code",
   "execution_count": null,
   "metadata": {
    "_cell_guid": "63a6517c-431f-c3fe-30cf-61034e54a5cb",
    "_execution_state": "idle",
    "_uuid": "ff34e1e620a89d16ecf35508e40e23b1d7a4771c",
    "colab": {},
    "colab_type": "code",
    "id": "8ta-aON9t-Da"
   },
   "outputs": [],
   "source": [
    "# Eliminación de valores:\n",
    "\n",
    "df_train.sort_values(by = 'GrLivArea', ascending = False)[:2]"
   ]
  },
  {
   "cell_type": "code",
   "execution_count": null,
   "metadata": {},
   "outputs": [],
   "source": [
    "df_train = df_train.drop(df_train[df_train.index == 1298].index)\n",
    "df_train = df_train.drop(df_train[df_train.index == 523].index)"
   ]
  },
  {
   "cell_type": "code",
   "execution_count": null,
   "metadata": {},
   "outputs": [],
   "source": [
    "df_train = df_train.reset_index()"
   ]
  },
  {
   "cell_type": "code",
   "execution_count": null,
   "metadata": {
    "_cell_guid": "1d4bf215-19d5-877e-1958-f5713009a94a",
    "_execution_state": "idle",
    "_uuid": "a48108966041d652f9fee571bf9ff08a7c73f6ef",
    "colab": {
     "base_uri": "https://localhost:8080/",
     "height": 322
    },
    "colab_type": "code",
    "id": "NEEIgil6t-Dc",
    "outputId": "3fcc589c-a44b-47c7-bd0b-be502c33c62b"
   },
   "outputs": [],
   "source": [
    "# Análisis bivariable SalePrice/TotalBsmtSF:\n",
    "\n",
    "var = 'TotalBsmtSF'\n",
    "data = pd.concat([df_train['SalePrice'], df_train[var]], axis = 1)\n",
    "data.plot.scatter(x = var, y = 'SalePrice', alpha = 0.5)"
   ]
  },
  {
   "cell_type": "markdown",
   "metadata": {
    "_cell_guid": "ff4b9944-30d2-834a-de2f-6ee1b54aefc6",
    "_uuid": "83b610acd7caee0f0ac5e82856bbeb17fb54ceee",
    "colab_type": "text",
    "id": "pA7yd6x7t-Dd"
   },
   "source": [
    "Aunque se pueden observar algunos valores bastante extremos (p.ej. TotalBsmtSF > 3000), parece que conservan la tendencia, por lo que voy a mantenerlos."
   ]
  },
  {
   "cell_type": "markdown",
   "metadata": {},
   "source": [
    "Vamos a hacer una función para la detección de Outliers, en este caso definimos como limite superior (e inferior) la media más (menos) `3 veces la desviación estándar` que muchas veces es tomada como máximos de tolerancia."
   ]
  },
  {
   "cell_type": "code",
   "execution_count": null,
   "metadata": {},
   "outputs": [],
   "source": [
    "# Funcion ejemplo para detección de outliers\n",
    "def find_anomalies(data):\n",
    "    anomalies = []\n",
    "    # Set upper and lower limit to 2 standard deviation\n",
    "    data_std = data.std()\n",
    "    data_mean = data.mean()\n",
    "    anomaly_cut_off = data_std * 3   # podemos cambiar este corte\n",
    "    lower_limit  = data_mean - anomaly_cut_off \n",
    "    upper_limit = data_mean + anomaly_cut_off\n",
    "    print(lower_limit.iloc[0])\n",
    "    print(upper_limit.iloc[0])\n",
    "\n",
    "    # Generate outliers\n",
    "    for index, row in data.iterrows():\n",
    "        outlier = row # # obtener primer columna\n",
    "        # print(outlier)\n",
    "        if (outlier.iloc[0] > upper_limit.iloc[0]) or (outlier.iloc[0] < lower_limit.iloc[0]):\n",
    "            anomalies.append(index)\n",
    "    return anomalies"
   ]
  },
  {
   "cell_type": "code",
   "execution_count": null,
   "metadata": {},
   "outputs": [],
   "source": [
    "anomalos = find_anomalies(df_train[['SalePrice']])\n",
    "print(anomalos)"
   ]
  },
  {
   "cell_type": "code",
   "execution_count": null,
   "metadata": {},
   "outputs": [],
   "source": [
    "anomalos"
   ]
  },
  {
   "cell_type": "code",
   "execution_count": null,
   "metadata": {},
   "outputs": [],
   "source": [
    "df_train.loc[anomalos]"
   ]
  },
  {
   "cell_type": "code",
   "execution_count": null,
   "metadata": {},
   "outputs": [],
   "source": [
    "anomalos = find_anomalies(df_train[['GrLivArea']])\n",
    "print(anomalos)"
   ]
  },
  {
   "cell_type": "code",
   "execution_count": null,
   "metadata": {},
   "outputs": [],
   "source": [
    "anomalos"
   ]
  },
  {
   "cell_type": "code",
   "execution_count": null,
   "metadata": {},
   "outputs": [],
   "source": [
    "df_train.loc[anomalos].sort_values(by = 'GrLivArea', ascending = False).drop_duplicates()"
   ]
  }
 ],
 "metadata": {
  "_change_revision": 0,
  "_is_fork": false,
  "colab": {
   "collapsed_sections": [],
   "name": "Sesión 2: Análisis descriptivo - correlación.ipynb",
   "provenance": []
  },
  "kernelspec": {
   "display_name": "Python 3 (ipykernel)",
   "language": "python",
   "name": "python3"
  },
  "language_info": {
   "codemirror_mode": {
    "name": "ipython",
    "version": 3
   },
   "file_extension": ".py",
   "mimetype": "text/x-python",
   "name": "python",
   "nbconvert_exporter": "python",
   "pygments_lexer": "ipython3",
   "version": "3.9.13"
  }
 },
 "nbformat": 4,
 "nbformat_minor": 1
}
