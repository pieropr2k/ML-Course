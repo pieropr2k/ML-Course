{
 "cells": [
  {
   "cell_type": "markdown",
   "metadata": {
    "id": "DOGa617qS5Ly"
   },
   "source": [
    "# <u>Métodos Supervisados para Clasificación - Parte 1</u>"
   ]
  },
  {
   "cell_type": "markdown",
   "metadata": {},
   "source": [
    "## Caso de uso"
   ]
  },
  {
   "cell_type": "markdown",
   "metadata": {
    "executionInfo": {
     "elapsed": 294,
     "status": "ok",
     "timestamp": 1631346500408,
     "user": {
      "displayName": "ANDRE OMAR CHAVEZ PANDURO",
      "photoUrl": "https://lh3.googleusercontent.com/a-/AOh14GhhoQ1kbFXrI1LHS5aCbnzbQoTSVMlrpsL1-iED=s64",
      "userId": "14331399592622880507"
     },
     "user_tz": 300
    },
    "id": "0YiISVrXTP5y"
   },
   "source": [
    "<img src = 'https://datahack-prod.s3.ap-south-1.amazonaws.com/__sized__/contest_cover/loanpre-thumbnail-1200x1200.png'>"
   ]
  },
  {
   "cell_type": "markdown",
   "metadata": {
    "id": "sUu4EsJ0b9y2"
   },
   "source": [
    "### Importación de librerías iniciales"
   ]
  },
  {
   "cell_type": "code",
   "execution_count": null,
   "metadata": {
    "executionInfo": {
     "elapsed": 783,
     "status": "ok",
     "timestamp": 1631341378824,
     "user": {
      "displayName": "ANDRE OMAR CHAVEZ PANDURO",
      "photoUrl": "https://lh3.googleusercontent.com/a-/AOh14GhhoQ1kbFXrI1LHS5aCbnzbQoTSVMlrpsL1-iED=s64",
      "userId": "14331399592622880507"
     },
     "user_tz": 300
    },
    "id": "AnIT4fBaS5MD"
   },
   "outputs": [],
   "source": [
    "import warnings\n",
    "warnings.filterwarnings(\"ignore\")\n",
    "\n",
    "#Importar las librerías necesarias en Python.\n",
    "import pandas as pd      ## Manejo de dataframes o set de datos\n",
    "import numpy as np       ## Todo lo referente a trabajar con vectores y matrices\n",
    "from scipy import stats  ## Herramientas y algoritmos matemáticos para python\n",
    "\n",
    "import seaborn as sns\n",
    "import matplotlib.pyplot as plt"
   ]
  },
  {
   "cell_type": "markdown",
   "metadata": {
    "id": "asQF3BoeS5MI"
   },
   "source": [
    "Usamos una semilla a lo largo de todo el notebook para los procesos aleatorios"
   ]
  },
  {
   "cell_type": "code",
   "execution_count": null,
   "metadata": {},
   "outputs": [],
   "source": [
    "seed = 2021"
   ]
  },
  {
   "cell_type": "code",
   "execution_count": null,
   "metadata": {},
   "outputs": [],
   "source": [
    "target = 'Loan_Status'"
   ]
  },
  {
   "cell_type": "markdown",
   "metadata": {
    "id": "UnPnopgUS5MN"
   },
   "source": [
    "### **Lectura Inicial de base de datos**"
   ]
  },
  {
   "cell_type": "markdown",
   "metadata": {},
   "source": [
    "Utilizaremos las bases de este caso ya preprocesadas en el notebook del Módulo 13. Estas bases ya recibieron el siguiente tratamiento previo:\n",
    "\n",
    "1. División train test 80/20\n",
    "2. Tratamiento de nulos\n",
    "3. Labeling de variables\n",
    "4. Encoding de variables categóricas (dummys)\n",
    "5. Tratamiento de valores extremos y outliers\n",
    "6. Creación de nuevas variables\n",
    "7. Reescalamiento final de la base\n",
    "\n",
    "¡OJO! No olvidar balancear la base de train si su target < 5% (no pasar de 15%-25% en el target balanceado)"
   ]
  },
  {
   "cell_type": "code",
   "execution_count": null,
   "metadata": {
    "executionInfo": {
     "elapsed": 1574,
     "status": "ok",
     "timestamp": 1631341381955,
     "user": {
      "displayName": "ANDRE OMAR CHAVEZ PANDURO",
      "photoUrl": "https://lh3.googleusercontent.com/a-/AOh14GhhoQ1kbFXrI1LHS5aCbnzbQoTSVMlrpsL1-iED=s64",
      "userId": "14331399592622880507"
     },
     "user_tz": 300
    },
    "id": "pJ3QaE1oS5MP"
   },
   "outputs": [],
   "source": [
    "train = pd.read_csv('data/train_preprocesed.csv')\n",
    "test = pd.read_csv('data/test_preprocesed.csv')"
   ]
  },
  {
   "cell_type": "code",
   "execution_count": null,
   "metadata": {
    "executionInfo": {
     "elapsed": 287,
     "status": "ok",
     "timestamp": 1631346514989,
     "user": {
      "displayName": "ANDRE OMAR CHAVEZ PANDURO",
      "photoUrl": "https://lh3.googleusercontent.com/a-/AOh14GhhoQ1kbFXrI1LHS5aCbnzbQoTSVMlrpsL1-iED=s64",
      "userId": "14331399592622880507"
     },
     "user_tz": 300
    },
    "id": "cS6x4KsDS5MV"
   },
   "outputs": [],
   "source": [
    "# Vemos la dimensionalidad de la base train\n",
    "train.shape"
   ]
  },
  {
   "cell_type": "code",
   "execution_count": null,
   "metadata": {},
   "outputs": [],
   "source": [
    "# Vemos la dimensionalidad de la base test\n",
    "test.shape"
   ]
  },
  {
   "cell_type": "code",
   "execution_count": null,
   "metadata": {
    "executionInfo": {
     "elapsed": 304,
     "status": "ok",
     "timestamp": 1631346519221,
     "user": {
      "displayName": "ANDRE OMAR CHAVEZ PANDURO",
      "photoUrl": "https://lh3.googleusercontent.com/a-/AOh14GhhoQ1kbFXrI1LHS5aCbnzbQoTSVMlrpsL1-iED=s64",
      "userId": "14331399592622880507"
     },
     "user_tz": 300
    },
    "id": "zm4WmZlxS5Me"
   },
   "outputs": [],
   "source": [
    "# Visualizacion Global de los datos train\n",
    "train.head()"
   ]
  },
  {
   "cell_type": "code",
   "execution_count": null,
   "metadata": {},
   "outputs": [],
   "source": [
    "# Visualizacion Global de los datos test\n",
    "test.head()"
   ]
  },
  {
   "cell_type": "code",
   "execution_count": null,
   "metadata": {},
   "outputs": [],
   "source": [
    "X_train = train.drop(target, axis =1)\n",
    "y_train = train[target]\n",
    "\n",
    "X_test = test.drop(target, axis =1)\n",
    "y_test = test[target]"
   ]
  },
  {
   "cell_type": "markdown",
   "metadata": {
    "collapsed": true,
    "id": "jcy9Ahd_S5QG"
   },
   "source": [
    "## Algoritmos Machine Learning"
   ]
  },
  {
   "cell_type": "markdown",
   "metadata": {
    "id": "D0QXbFmhWsHb"
   },
   "source": [
    "### 1. Regresion Logistica Binaria"
   ]
  },
  {
   "cell_type": "code",
   "execution_count": null,
   "metadata": {
    "executionInfo": {
     "elapsed": 9,
     "status": "ok",
     "timestamp": 1631345226016,
     "user": {
      "displayName": "ANDRE OMAR CHAVEZ PANDURO",
      "photoUrl": "https://lh3.googleusercontent.com/a-/AOh14GhhoQ1kbFXrI1LHS5aCbnzbQoTSVMlrpsL1-iED=s64",
      "userId": "14331399592622880507"
     },
     "user_tz": 300
    },
    "id": "wA9cWtSRWsKS"
   },
   "outputs": [],
   "source": [
    "# Paso N°01: Elegimos y entrenamos un algoritmo de ML\n",
    "from sklearn.linear_model import LogisticRegression\n",
    "lr = LogisticRegression()"
   ]
  },
  {
   "cell_type": "code",
   "execution_count": null,
   "metadata": {},
   "outputs": [],
   "source": [
    "#hiperparámetros del modelo estimado\n",
    "lr.get_params()"
   ]
  },
  {
   "cell_type": "code",
   "execution_count": null,
   "metadata": {
    "executionInfo": {
     "elapsed": 283,
     "status": "ok",
     "timestamp": 1631346665289,
     "user": {
      "displayName": "ANDRE OMAR CHAVEZ PANDURO",
      "photoUrl": "https://lh3.googleusercontent.com/a-/AOh14GhhoQ1kbFXrI1LHS5aCbnzbQoTSVMlrpsL1-iED=s64",
      "userId": "14331399592622880507"
     },
     "user_tz": 300
    },
    "id": "mOAJ8SHOYKZE"
   },
   "outputs": [],
   "source": [
    "lr.fit(X_train,y_train) # Entrenamiento!"
   ]
  },
  {
   "cell_type": "code",
   "execution_count": null,
   "metadata": {},
   "outputs": [],
   "source": [
    "# variables\n",
    "lr.feature_names_in_"
   ]
  },
  {
   "cell_type": "code",
   "execution_count": null,
   "metadata": {},
   "outputs": [],
   "source": [
    "# coeficientes del modelo\n",
    "lr.coef_"
   ]
  },
  {
   "cell_type": "code",
   "execution_count": null,
   "metadata": {
    "executionInfo": {
     "elapsed": 284,
     "status": "ok",
     "timestamp": 1631346669651,
     "user": {
      "displayName": "ANDRE OMAR CHAVEZ PANDURO",
      "photoUrl": "https://lh3.googleusercontent.com/a-/AOh14GhhoQ1kbFXrI1LHS5aCbnzbQoTSVMlrpsL1-iED=s64",
      "userId": "14331399592622880507"
     },
     "user_tz": 300
    },
    "id": "nahjL0c9YKcp"
   },
   "outputs": [],
   "source": [
    "lr.predict_proba(X_test)[:,1]   # Predicción de la probabilidad"
   ]
  },
  {
   "cell_type": "code",
   "execution_count": null,
   "metadata": {
    "executionInfo": {
     "elapsed": 255,
     "status": "ok",
     "timestamp": 1631346674475,
     "user": {
      "displayName": "ANDRE OMAR CHAVEZ PANDURO",
      "photoUrl": "https://lh3.googleusercontent.com/a-/AOh14GhhoQ1kbFXrI1LHS5aCbnzbQoTSVMlrpsL1-iED=s64",
      "userId": "14331399592622880507"
     },
     "user_tz": 300
    },
    "id": "LKtu523U5cH_"
   },
   "outputs": [],
   "source": [
    "lr.predict(X_test)  # Predicción de la categoría"
   ]
  },
  {
   "cell_type": "code",
   "execution_count": null,
   "metadata": {
    "executionInfo": {
     "elapsed": 357,
     "status": "ok",
     "timestamp": 1631341849100,
     "user": {
      "displayName": "ANDRE OMAR CHAVEZ PANDURO",
      "photoUrl": "https://lh3.googleusercontent.com/a-/AOh14GhhoQ1kbFXrI1LHS5aCbnzbQoTSVMlrpsL1-iED=s64",
      "userId": "14331399592622880507"
     },
     "user_tz": 300
    },
    "id": "3mPP_a_-BOc8"
   },
   "outputs": [],
   "source": [
    "# Paso N°02: Con el algoritmo entrenado predecimos sobre la data de train y test!\n",
    "\n",
    "y_pred_train=lr.predict(X_train) # Prediccion sobre el train\n",
    "y_pred_test= lr.predict(X_test) # Prediccion sobre el test\n",
    "\n",
    "y_proba_test= lr.predict_proba(X_test)[:,1]   #Prediccion de probabilidades del target"
   ]
  },
  {
   "cell_type": "code",
   "execution_count": null,
   "metadata": {
    "executionInfo": {
     "elapsed": 263,
     "status": "ok",
     "timestamp": 1631346687509,
     "user": {
      "displayName": "ANDRE OMAR CHAVEZ PANDURO",
      "photoUrl": "https://lh3.googleusercontent.com/a-/AOh14GhhoQ1kbFXrI1LHS5aCbnzbQoTSVMlrpsL1-iED=s64",
      "userId": "14331399592622880507"
     },
     "user_tz": 300
    },
    "id": "2kJoWEzyBOiZ"
   },
   "outputs": [],
   "source": [
    "# Paso N°03: Revisamos las metricas de validacion técnicas adecuadas!\n",
    "from sklearn import metrics as metrics\n",
    "\n",
    "def metricas_confusion(y_train,y_pred_train,y_test,y_pred_test):\n",
    "    # Matriz de confusion\n",
    "    print(\"Matriz confusion: Train\")\n",
    "    cm_train = metrics.confusion_matrix(y_train,y_pred_train)\n",
    "    print(cm_train)\n",
    "\n",
    "    print(\"Matriz confusion: Test\")\n",
    "    cm_test = metrics.confusion_matrix(y_test,y_pred_test)\n",
    "    print(cm_test)\n",
    "\n",
    "    # Accuracy\n",
    "    print(\"Accuracy: Train\")\n",
    "    accuracy_train=metrics.accuracy_score(y_train,y_pred_train)\n",
    "    print(accuracy_train)\n",
    "\n",
    "    print(\"Accuracy: Test\")\n",
    "    accuracy_test=metrics.accuracy_score(y_test,y_pred_test)\n",
    "    print(accuracy_test)\n",
    "\n",
    "    # Precision o Aporte del Modelo\n",
    "    print(\"Precision: Train\")\n",
    "    precision_train=metrics.precision_score(y_train,y_pred_train)\n",
    "    print(precision_train)\n",
    "\n",
    "    print(\"Precision: Test\")\n",
    "    precision_test=metrics.precision_score(y_test,y_pred_test)\n",
    "    print(precision_test)\n",
    "\n",
    "    # Recall o Sensibilidad \n",
    "    print(\"Recall: Train\")\n",
    "    recall_train=metrics.recall_score(y_train,y_pred_train)\n",
    "    print(recall_train)\n",
    "\n",
    "    print(\"Recall: Test\")\n",
    "    recall_test=metrics.recall_score(y_test,y_pred_test)\n",
    "    print(recall_test)"
   ]
  },
  {
   "cell_type": "code",
   "execution_count": null,
   "metadata": {},
   "outputs": [],
   "source": [
    "metricas_confusion(y_train,y_pred_train,y_test,y_pred_test)"
   ]
  },
  {
   "cell_type": "code",
   "execution_count": null,
   "metadata": {},
   "outputs": [],
   "source": [
    "from sklearn.metrics import classification_report\n",
    "\n",
    "print(metrics.classification_report(y_test, y_pred_test))"
   ]
  },
  {
   "cell_type": "code",
   "execution_count": null,
   "metadata": {},
   "outputs": [],
   "source": [
    "from sklearn.metrics import roc_auc_score, roc_curve\n",
    "\n",
    "def plot_roc_curve(y, y_proba, label = ''):\n",
    "    '''\n",
    "    dibujar la curva roc para las probabilidades y target entregados\n",
    "    \n",
    "    params:\n",
    "    y: etiquetas originales\n",
    "    y_proba: probabilidades resultado del modelo\n",
    "    '''\n",
    "    \n",
    "    auc_roc = roc_auc_score(y, y_proba)\n",
    "    fpr, tpr, thresholds = roc_curve(y, y_proba)\n",
    "    \n",
    "    plt.figure(figsize=(8,6))\n",
    "    plt.rcParams.update({'font.size': 12})\n",
    "    plt.plot(fpr, fpr, c = 'red')\n",
    "    plt.plot(fpr, tpr, label= (f\"Curva ROC {label} (AUC = {auc_roc:.4f})\"))\n",
    "    plt.xlabel(\"FPR\")\n",
    "    plt.ylabel(\"TPR\")\n",
    "    plt.title(f\"Curva ROC {label}\")\n",
    "    plt.legend(loc=4, numpoints=1)"
   ]
  },
  {
   "cell_type": "code",
   "execution_count": null,
   "metadata": {},
   "outputs": [],
   "source": [
    "# ROC AUC\n",
    "roc_auc_score(y_test, y_proba_test)"
   ]
  },
  {
   "cell_type": "code",
   "execution_count": null,
   "metadata": {},
   "outputs": [],
   "source": [
    "# Gráfica Curva ROC\n",
    "plot_roc_curve(y_test, y_proba_test, 'Regresión Logística')"
   ]
  },
  {
   "cell_type": "markdown",
   "metadata": {},
   "source": [
    "### Ejecutando con varios optimizadores y reguladores\n",
    "Construiremos el modelo de Regresión logística nuevamente para el mismo conjunto de datos, pero esta vez, usa diferentes valores de <b>solver</b> y <b>regularization</b>. Con esto podemos hacer comparaciones de varios modelos hasta encontrar el más adecuado:"
   ]
  },
  {
   "cell_type": "code",
   "execution_count": null,
   "metadata": {},
   "outputs": [],
   "source": [
    "solvers=['newton-cg', 'lbfgs', 'liblinear', 'sag', 'saga']\n",
    "Cs=[0.01,0.02,0.05,0.1]\n",
    "\n",
    "for s in solvers:\n",
    "    for c in Cs:\n",
    "        LR = LogisticRegression(C=c, solver=s).fit(X_train,y_train)\n",
    "        yhat = LR.predict(X_test)\n",
    "        yhat_prob = LR.predict_proba(X_test)[:,1]\n",
    "        print(\"Solver=\"+s+\", C=\"+str(c)+\n",
    "              \"->Accuracy: \"+str(metrics.accuracy_score(y_test, yhat)) +\n",
    "             \"->AUC : \"+str(roc_auc_score(y_test, yhat_prob)))"
   ]
  },
  {
   "cell_type": "markdown",
   "metadata": {},
   "source": [
    "### 2. Análisis Discriminante"
   ]
  },
  {
   "cell_type": "code",
   "execution_count": null,
   "metadata": {},
   "outputs": [],
   "source": [
    "# Análisis discriminante lineal y cuadrático\n",
    "from sklearn.discriminant_analysis import LinearDiscriminantAnalysis as LDA, QuadraticDiscriminantAnalysis as QDA\n",
    "\n",
    "lda = LDA()\n",
    "model_lda = lda.fit(X_train, y_train)\n",
    "\n",
    "qda = QDA()\n",
    "model_qda = qda.fit(X_train, y_train)"
   ]
  },
  {
   "cell_type": "code",
   "execution_count": null,
   "metadata": {},
   "outputs": [],
   "source": [
    "# Predecimos! LDA\n",
    "Y_pred_train = lda.predict(X_train) # realizando la predicción\n",
    "Y_pred_test  = lda.predict(X_test) # realizando la predicción\n",
    "\n",
    "Y_proba_test= lda.predict_proba(X_test)[:,1]   #Prediccion de probabilidades del target"
   ]
  },
  {
   "cell_type": "code",
   "execution_count": null,
   "metadata": {},
   "outputs": [],
   "source": [
    "#Cálculo de los indicadores mas relevantes!\n",
    "metricas_confusion(y_train,Y_pred_train,y_test,Y_pred_test)"
   ]
  },
  {
   "cell_type": "code",
   "execution_count": null,
   "metadata": {},
   "outputs": [],
   "source": [
    "print(metrics.classification_report(y_test, Y_pred_test))"
   ]
  },
  {
   "cell_type": "code",
   "execution_count": null,
   "metadata": {},
   "outputs": [],
   "source": [
    "# ROC AUC\n",
    "roc_auc_score(y_test, Y_proba_test)"
   ]
  },
  {
   "cell_type": "code",
   "execution_count": null,
   "metadata": {},
   "outputs": [],
   "source": [
    "# Gráfica Curva ROC\n",
    "plot_roc_curve(y_test, Y_proba_test, 'Análisis Discriminante Lineal')"
   ]
  },
  {
   "cell_type": "code",
   "execution_count": null,
   "metadata": {},
   "outputs": [],
   "source": [
    "# Predecimos! QDA\n",
    "Y_pred_train = qda.predict(X_train) # realizando la predicción\n",
    "Y_pred_test  = qda.predict(X_test) # realizando la predicción\n",
    "\n",
    "Y_proba_test= qda.predict_proba(X_test)[:,1]   #Prediccion de probabilidades del target"
   ]
  },
  {
   "cell_type": "code",
   "execution_count": null,
   "metadata": {},
   "outputs": [],
   "source": [
    "#Cálculo de los indicadores mas relevantes!\n",
    "metricas_confusion(y_train,Y_pred_train,y_test,Y_pred_test)"
   ]
  },
  {
   "cell_type": "code",
   "execution_count": null,
   "metadata": {},
   "outputs": [],
   "source": [
    "print(metrics.classification_report(y_test, Y_pred_test))"
   ]
  },
  {
   "cell_type": "code",
   "execution_count": null,
   "metadata": {},
   "outputs": [],
   "source": [
    "# ROC AUC\n",
    "roc_auc_score(y_test, Y_proba_test)"
   ]
  },
  {
   "cell_type": "code",
   "execution_count": null,
   "metadata": {},
   "outputs": [],
   "source": [
    "# Gráfica Curva ROC\n",
    "plot_roc_curve(y_test, Y_proba_test, 'Análisis Discriminante Lineal')"
   ]
  },
  {
   "cell_type": "markdown",
   "metadata": {},
   "source": [
    "### 3. Árbol de Clasificación CART"
   ]
  },
  {
   "cell_type": "code",
   "execution_count": null,
   "metadata": {
    "executionInfo": {
     "elapsed": 276,
     "status": "ok",
     "timestamp": 1631341892068,
     "user": {
      "displayName": "ANDRE OMAR CHAVEZ PANDURO",
      "photoUrl": "https://lh3.googleusercontent.com/a-/AOh14GhhoQ1kbFXrI1LHS5aCbnzbQoTSVMlrpsL1-iED=s64",
      "userId": "14331399592622880507"
     },
     "user_tz": 300
    },
    "id": "Hy_DedxDBOqn"
   },
   "outputs": [],
   "source": [
    "# Arbol de Clasificacion CART\n",
    "from sklearn.tree import DecisionTreeClassifier\n",
    "tree_bonsai = DecisionTreeClassifier(\n",
    "                       ccp_alpha=0.0, \n",
    "                       class_weight=None, \n",
    "                       criterion='gini',\n",
    "                       max_depth=2,           # Profundidad del arbol\n",
    "                       max_features=3,        # Numero maximo de variables\n",
    "                       max_leaf_nodes=None,   # Numero de nodos\n",
    "                       min_samples_leaf=100, \n",
    "                       min_samples_split=200,\n",
    "                       min_weight_fraction_leaf=0.0, \n",
    "                       random_state=None, \n",
    "                       splitter='best')"
   ]
  },
  {
   "cell_type": "code",
   "execution_count": null,
   "metadata": {
    "executionInfo": {
     "elapsed": 313,
     "status": "ok",
     "timestamp": 1631341894939,
     "user": {
      "displayName": "ANDRE OMAR CHAVEZ PANDURO",
      "photoUrl": "https://lh3.googleusercontent.com/a-/AOh14GhhoQ1kbFXrI1LHS5aCbnzbQoTSVMlrpsL1-iED=s64",
      "userId": "14331399592622880507"
     },
     "user_tz": 300
    },
    "id": "wQNG3kpi-A8a"
   },
   "outputs": [],
   "source": [
    "# Arbol de Clasificacion CART\n",
    "from sklearn.tree import DecisionTreeClassifier\n",
    "tree_complete = DecisionTreeClassifier()"
   ]
  },
  {
   "cell_type": "code",
   "execution_count": null,
   "metadata": {
    "executionInfo": {
     "elapsed": 277,
     "status": "ok",
     "timestamp": 1631341897702,
     "user": {
      "displayName": "ANDRE OMAR CHAVEZ PANDURO",
      "photoUrl": "https://lh3.googleusercontent.com/a-/AOh14GhhoQ1kbFXrI1LHS5aCbnzbQoTSVMlrpsL1-iED=s64",
      "userId": "14331399592622880507"
     },
     "user_tz": 300
    },
    "id": "b2uhqVr4_C7w"
   },
   "outputs": [],
   "source": [
    "# Arbol de Clasificacion CART (Experto)\n",
    "from sklearn.tree import DecisionTreeClassifier\n",
    "tree_expert = DecisionTreeClassifier(\n",
    "                       ccp_alpha=0.0, \n",
    "                       class_weight=None, \n",
    "                       criterion='gini',\n",
    "                       max_depth=3,         # Profundidad del arbol (4)\n",
    "                       max_features=6,     # Numero maximo de variables\n",
    "                       max_leaf_nodes=None, # Numero de nodos\n",
    "                       min_samples_leaf=20, \n",
    "                       min_samples_split=40,\n",
    "                       min_weight_fraction_leaf=0.0, \n",
    "                       random_state=None, \n",
    "                       splitter='best')"
   ]
  },
  {
   "cell_type": "code",
   "execution_count": null,
   "metadata": {
    "executionInfo": {
     "elapsed": 392,
     "status": "ok",
     "timestamp": 1631341904266,
     "user": {
      "displayName": "ANDRE OMAR CHAVEZ PANDURO",
      "photoUrl": "https://lh3.googleusercontent.com/a-/AOh14GhhoQ1kbFXrI1LHS5aCbnzbQoTSVMlrpsL1-iED=s64",
      "userId": "14331399592622880507"
     },
     "user_tz": 300
    },
    "id": "pgdWvZlTBumY"
   },
   "outputs": [],
   "source": [
    "# Entrenamos!\n",
    "tree_bonsai = tree_bonsai.fit(X_train,y_train) # ajustando el modelo a mis datos\n",
    "tree_complete = tree_complete.fit(X_train,y_train) # ajustando el modelo a mis datos\n",
    "tree_expert = tree_expert.fit(X_train,y_train) # ajustando el modelo a mis datos"
   ]
  },
  {
   "cell_type": "code",
   "execution_count": null,
   "metadata": {
    "executionInfo": {
     "elapsed": 270,
     "status": "ok",
     "timestamp": 1631346705249,
     "user": {
      "displayName": "ANDRE OMAR CHAVEZ PANDURO",
      "photoUrl": "https://lh3.googleusercontent.com/a-/AOh14GhhoQ1kbFXrI1LHS5aCbnzbQoTSVMlrpsL1-iED=s64",
      "userId": "14331399592622880507"
     },
     "user_tz": 300
    },
    "id": "zHm5dByTBurj"
   },
   "outputs": [],
   "source": [
    "# Visualizando el arbol!\n",
    "from sklearn.tree import plot_tree\n",
    "_ = plot_tree(tree_bonsai, feature_names = X_train.columns, rounded = True, filled = True)"
   ]
  },
  {
   "cell_type": "code",
   "execution_count": null,
   "metadata": {
    "id": "KUmCIJLgejVl"
   },
   "outputs": [],
   "source": [
    "plt.figure(figsize=(12,12))\n",
    "_ = plot_tree(tree_complete, feature_names = X_train.columns, rounded = True, filled = True)\n",
    "plt.show()"
   ]
  },
  {
   "cell_type": "code",
   "execution_count": null,
   "metadata": {},
   "outputs": [],
   "source": [
    "plt.figure(figsize=(12,12))\n",
    "_ = plot_tree(tree_expert, fontsize= 10, feature_names = X_train.columns, rounded = True, filled = True)\n",
    "plt.show()"
   ]
  },
  {
   "cell_type": "code",
   "execution_count": null,
   "metadata": {
    "executionInfo": {
     "elapsed": 271,
     "status": "ok",
     "timestamp": 1631341911130,
     "user": {
      "displayName": "ANDRE OMAR CHAVEZ PANDURO",
      "photoUrl": "https://lh3.googleusercontent.com/a-/AOh14GhhoQ1kbFXrI1LHS5aCbnzbQoTSVMlrpsL1-iED=s64",
      "userId": "14331399592622880507"
     },
     "user_tz": 300
    },
    "id": "APf2RjGhButx"
   },
   "outputs": [],
   "source": [
    "# Predecimos!\n",
    "Y_pred_train = tree_expert.predict(X_train) # realizando la predicción\n",
    "Y_pred_test  = tree_expert.predict(X_test) # realizando la predicción\n",
    "\n",
    "Y_proba_test= tree_expert.predict_proba(X_test)[:,1]   #Prediccion de probabilidades del target"
   ]
  },
  {
   "cell_type": "code",
   "execution_count": null,
   "metadata": {
    "executionInfo": {
     "elapsed": 334,
     "status": "ok",
     "timestamp": 1631346713863,
     "user": {
      "displayName": "ANDRE OMAR CHAVEZ PANDURO",
      "photoUrl": "https://lh3.googleusercontent.com/a-/AOh14GhhoQ1kbFXrI1LHS5aCbnzbQoTSVMlrpsL1-iED=s64",
      "userId": "14331399592622880507"
     },
     "user_tz": 300
    },
    "id": "WSfw-A8dCY4Y"
   },
   "outputs": [],
   "source": [
    "#Cálculo de los indicadores mas relevantes!\n",
    "metricas_confusion(y_train,Y_pred_train,y_test,Y_pred_test)"
   ]
  },
  {
   "cell_type": "code",
   "execution_count": null,
   "metadata": {},
   "outputs": [],
   "source": [
    "print(metrics.classification_report(y_test, Y_pred_test))"
   ]
  },
  {
   "cell_type": "code",
   "execution_count": null,
   "metadata": {},
   "outputs": [],
   "source": [
    "# ROC AUC\n",
    "roc_auc_score(y_test, Y_proba_test)"
   ]
  },
  {
   "cell_type": "code",
   "execution_count": null,
   "metadata": {},
   "outputs": [],
   "source": [
    "# Gráfica Curva ROC\n",
    "plot_roc_curve(y_test, Y_proba_test, 'Árbol de clasificación')"
   ]
  },
  {
   "cell_type": "markdown",
   "metadata": {
    "id": "g9sZo4YOCY7H"
   },
   "source": [
    "### 4. KNN"
   ]
  },
  {
   "cell_type": "code",
   "execution_count": null,
   "metadata": {
    "executionInfo": {
     "elapsed": 279,
     "status": "ok",
     "timestamp": 1631345248546,
     "user": {
      "displayName": "ANDRE OMAR CHAVEZ PANDURO",
      "photoUrl": "https://lh3.googleusercontent.com/a-/AOh14GhhoQ1kbFXrI1LHS5aCbnzbQoTSVMlrpsL1-iED=s64",
      "userId": "14331399592622880507"
     },
     "user_tz": 300
    },
    "id": "hFbWtD0HlncS"
   },
   "outputs": [],
   "source": [
    "from sklearn.preprocessing import StandardScaler\n",
    "scaler = StandardScaler()   #se recomienda reescalar la base antes de usar esta técnica\n",
    "scaler.fit(X_train)\n",
    "\n",
    "X_train_ss = scaler.transform(X_train)\n",
    "X_test_ss = scaler.transform(X_test)"
   ]
  },
  {
   "cell_type": "code",
   "execution_count": null,
   "metadata": {
    "executionInfo": {
     "elapsed": 272,
     "status": "ok",
     "timestamp": 1631346721455,
     "user": {
      "displayName": "ANDRE OMAR CHAVEZ PANDURO",
      "photoUrl": "https://lh3.googleusercontent.com/a-/AOh14GhhoQ1kbFXrI1LHS5aCbnzbQoTSVMlrpsL1-iED=s64",
      "userId": "14331399592622880507"
     },
     "user_tz": 300
    },
    "id": "EJnhi-iVkBJK"
   },
   "outputs": [],
   "source": [
    "from sklearn.neighbors import KNeighborsClassifier\n",
    "knn = KNeighborsClassifier(n_neighbors=9)\n",
    "knn.fit(X_train_ss, y_train)"
   ]
  },
  {
   "cell_type": "code",
   "execution_count": null,
   "metadata": {
    "executionInfo": {
     "elapsed": 272,
     "status": "ok",
     "timestamp": 1631345265134,
     "user": {
      "displayName": "ANDRE OMAR CHAVEZ PANDURO",
      "photoUrl": "https://lh3.googleusercontent.com/a-/AOh14GhhoQ1kbFXrI1LHS5aCbnzbQoTSVMlrpsL1-iED=s64",
      "userId": "14331399592622880507"
     },
     "user_tz": 300
    },
    "id": "zliq28yhlwIi"
   },
   "outputs": [],
   "source": [
    "# Predecimos!\n",
    "Y_pred_train = knn.predict(X_train_ss) # realizando la predicción\n",
    "Y_pred_test  = knn.predict(X_test_ss) # realizando la predicción\n",
    "\n",
    "Y_proba_test= knn.predict_proba(X_test_ss)[:,1]   #Prediccion de probabilidades del target"
   ]
  },
  {
   "cell_type": "code",
   "execution_count": null,
   "metadata": {
    "executionInfo": {
     "elapsed": 310,
     "status": "ok",
     "timestamp": 1631346730329,
     "user": {
      "displayName": "ANDRE OMAR CHAVEZ PANDURO",
      "photoUrl": "https://lh3.googleusercontent.com/a-/AOh14GhhoQ1kbFXrI1LHS5aCbnzbQoTSVMlrpsL1-iED=s64",
      "userId": "14331399592622880507"
     },
     "user_tz": 300
    },
    "id": "DWHno_PilwM0"
   },
   "outputs": [],
   "source": [
    "#Cálculo de los indicadores mas relevantes!\n",
    "metricas_confusion(y_train,Y_pred_train,y_test,Y_pred_test)"
   ]
  },
  {
   "cell_type": "code",
   "execution_count": null,
   "metadata": {
    "id": "rdkd85fil8CR"
   },
   "outputs": [],
   "source": [
    "print(metrics.classification_report(y_test, Y_pred_test))"
   ]
  },
  {
   "cell_type": "code",
   "execution_count": null,
   "metadata": {
    "id": "OpsrdaM2l8Ia"
   },
   "outputs": [],
   "source": [
    "# ROC AUC\n",
    "roc_auc_score(y_test, Y_proba_test)"
   ]
  },
  {
   "cell_type": "code",
   "execution_count": null,
   "metadata": {
    "scrolled": true
   },
   "outputs": [],
   "source": [
    "# Gráfica Curva ROC\n",
    "plot_roc_curve(y_test, Y_proba_test, 'KNN')"
   ]
  },
  {
   "cell_type": "markdown",
   "metadata": {
    "id": "LFR0GP-ckBL9"
   },
   "source": [
    "### 5. SVM"
   ]
  },
  {
   "cell_type": "code",
   "execution_count": null,
   "metadata": {
    "executionInfo": {
     "elapsed": 277,
     "status": "ok",
     "timestamp": 1631345283469,
     "user": {
      "displayName": "ANDRE OMAR CHAVEZ PANDURO",
      "photoUrl": "https://lh3.googleusercontent.com/a-/AOh14GhhoQ1kbFXrI1LHS5aCbnzbQoTSVMlrpsL1-iED=s64",
      "userId": "14331399592622880507"
     },
     "user_tz": 300
    },
    "id": "lt5mYlOCkBOb"
   },
   "outputs": [],
   "source": [
    "from sklearn.preprocessing import StandardScaler\n",
    "sc = StandardScaler().fit(X_train)   #se recomienda reescalar la base antes de usar esta tecnica\n",
    "X_train_ss = sc.transform(X_train)\n",
    "X_test_ss = sc.transform(X_test)"
   ]
  },
  {
   "cell_type": "code",
   "execution_count": null,
   "metadata": {
    "executionInfo": {
     "elapsed": 284,
     "status": "ok",
     "timestamp": 1631346736465,
     "user": {
      "displayName": "ANDRE OMAR CHAVEZ PANDURO",
      "photoUrl": "https://lh3.googleusercontent.com/a-/AOh14GhhoQ1kbFXrI1LHS5aCbnzbQoTSVMlrpsL1-iED=s64",
      "userId": "14331399592622880507"
     },
     "user_tz": 300
    },
    "id": "f2A_Njx-oPKO"
   },
   "outputs": [],
   "source": [
    "from sklearn import svm\n",
    "svml = svm.SVC(kernel='linear', C=0.01, probability=True)\n",
    "svml.fit(X_train_ss, y_train)"
   ]
  },
  {
   "cell_type": "code",
   "execution_count": null,
   "metadata": {
    "executionInfo": {
     "elapsed": 595,
     "status": "ok",
     "timestamp": 1631345297581,
     "user": {
      "displayName": "ANDRE OMAR CHAVEZ PANDURO",
      "photoUrl": "https://lh3.googleusercontent.com/a-/AOh14GhhoQ1kbFXrI1LHS5aCbnzbQoTSVMlrpsL1-iED=s64",
      "userId": "14331399592622880507"
     },
     "user_tz": 300
    },
    "id": "3NnmoksloPMx"
   },
   "outputs": [],
   "source": [
    "# Predecimos!\n",
    "Y_pred_train = svml.predict(X_train_ss) # realizando la predicción\n",
    "Y_pred_test  = svml.predict(X_test_ss) # realizando la predicción\n",
    "\n",
    "Y_proba_test= svml.predict_proba(X_test_ss)[:,1]   #Prediccion de probabilidades del target"
   ]
  },
  {
   "cell_type": "code",
   "execution_count": null,
   "metadata": {
    "executionInfo": {
     "elapsed": 278,
     "status": "ok",
     "timestamp": 1631346743235,
     "user": {
      "displayName": "ANDRE OMAR CHAVEZ PANDURO",
      "photoUrl": "https://lh3.googleusercontent.com/a-/AOh14GhhoQ1kbFXrI1LHS5aCbnzbQoTSVMlrpsL1-iED=s64",
      "userId": "14331399592622880507"
     },
     "user_tz": 300
    },
    "id": "JVbWyonhoPQG"
   },
   "outputs": [],
   "source": [
    "#Cálculo de los indicadores mas relevantes!\n",
    "metricas_confusion(y_train,Y_pred_train,y_test,Y_pred_test)"
   ]
  },
  {
   "cell_type": "code",
   "execution_count": null,
   "metadata": {
    "id": "GtIey_bWoPVb"
   },
   "outputs": [],
   "source": [
    "print(metrics.classification_report(y_test, Y_pred_test))"
   ]
  },
  {
   "cell_type": "code",
   "execution_count": null,
   "metadata": {},
   "outputs": [],
   "source": [
    "# ROC AUC\n",
    "roc_auc_score(y_test, Y_proba_test)"
   ]
  },
  {
   "cell_type": "code",
   "execution_count": null,
   "metadata": {},
   "outputs": [],
   "source": [
    "# Gráfica Curva ROC\n",
    "plot_roc_curve(y_test, Y_proba_test, 'SVM')"
   ]
  },
  {
   "cell_type": "markdown",
   "metadata": {},
   "source": [
    "### Búsqueda de hiperparpametros con GridSearch\n",
    "Este procedimiento permite encontrar los mejores hiperparámetros de un modelo mediante una búsqueda exhaustiva.\n",
    "Se entrega una lista de valores para distintos hiperparámetros del algoritmo.\n",
    "Se evalúa el modelo para cada combinación de hiperparámetros y se selecciona la que obtenga mejores valores en la métrica de evaluación.\n",
    "\n",
    "Construiremos el modelo SVM nuevamente para el mismo conjunto de datos, pero esta vez, con un algoritmo que busca los mejores hiperparámetros y utilizando Kernels Lineal y Radial."
   ]
  },
  {
   "cell_type": "code",
   "execution_count": null,
   "metadata": {},
   "outputs": [],
   "source": [
    "from sklearn.model_selection import cross_val_score\n",
    "from sklearn.model_selection import RepeatedKFold\n",
    "from sklearn.model_selection import GridSearchCV\n",
    "from sklearn.model_selection import ParameterGrid\n",
    "import multiprocessing"
   ]
  },
  {
   "cell_type": "code",
   "execution_count": null,
   "metadata": {},
   "outputs": [],
   "source": [
    "import sklearn\n",
    "sorted(sklearn.metrics.SCORERS.keys())"
   ]
  },
  {
   "cell_type": "code",
   "execution_count": null,
   "metadata": {},
   "outputs": [],
   "source": [
    "# Grid de hiperparámetros evaluados - KERNEL LINEAL\n",
    "# ==============================================================================\n",
    "param_grid = {'C': [0.1,1,10,100],\n",
    "              'tol': [2**-2,2**-1,2**0]\n",
    "             }\n",
    "\n",
    "# Búsqueda por grid search con validación cruzada\n",
    "# ==============================================================================\n",
    "grid = GridSearchCV(\n",
    "        estimator  = svm.SVC(kernel = 'linear',gamma='scale'),\n",
    "        param_grid = param_grid,\n",
    "        scoring    = 'roc_auc',\n",
    "        n_jobs     = multiprocessing.cpu_count() - 1,\n",
    "        cv         = RepeatedKFold(n_splits=5, n_repeats=3, random_state=123), \n",
    "        refit      = True,\n",
    "        verbose    = 0,\n",
    "        return_train_score = True\n",
    "       )\n",
    "\n",
    "grid.fit(X = X_train, y = y_train)\n",
    "\n",
    "# Resultados\n",
    "# ==============================================================================\n",
    "resultados = pd.DataFrame(grid.cv_results_)\n",
    "resultados.filter(regex = '(param*|mean_t|std_t)') \\\n",
    "    .drop(columns = 'params') \\\n",
    "    .sort_values('mean_test_score', ascending = False) \\\n",
    "    .head(10)"
   ]
  },
  {
   "cell_type": "code",
   "execution_count": null,
   "metadata": {},
   "outputs": [],
   "source": [
    "# Grid de hiperparámetros evaluados - KERNEL RADIAL\n",
    "# ==============================================================================\n",
    "param_grid = {'C': [0.1,1,10,100],\n",
    "              'tol': [2**-2,2**-1,2**0],\n",
    "              'gamma': [10**-4,10**-3,10**-2,10**-1]\n",
    "             }\n",
    "\n",
    "# Búsqueda por grid search con validación cruzada\n",
    "# ==============================================================================\n",
    "grid = GridSearchCV(\n",
    "        estimator  = svm.SVC(kernel = 'rbf',gamma='scale'),\n",
    "        param_grid = param_grid,\n",
    "        scoring    = 'roc_auc',\n",
    "        n_jobs     = multiprocessing.cpu_count() - 1,\n",
    "        cv         = RepeatedKFold(n_splits=5, n_repeats=3, random_state=123), \n",
    "        refit      = True,\n",
    "        verbose    = 0,\n",
    "        return_train_score = True\n",
    "       )\n",
    "\n",
    "grid.fit(X = X_train, y = y_train)\n",
    "\n",
    "# Resultados\n",
    "# ==============================================================================\n",
    "resultados = pd.DataFrame(grid.cv_results_)\n",
    "resultados.filter(regex = '(param*|mean_t|std_t)') \\\n",
    "    .drop(columns = 'params') \\\n",
    "    .sort_values('mean_test_score', ascending = False) \\\n",
    "    .head(10)"
   ]
  },
  {
   "cell_type": "markdown",
   "metadata": {},
   "source": [
    "Probemos esta búsqueda codiciosa con un árbol de decisión, haciendo búsquedas sobre varios parámetros importantes:"
   ]
  },
  {
   "cell_type": "code",
   "execution_count": null,
   "metadata": {},
   "outputs": [],
   "source": [
    "from sklearn.tree import DecisionTreeClassifier"
   ]
  },
  {
   "cell_type": "code",
   "execution_count": null,
   "metadata": {},
   "outputs": [],
   "source": [
    "# Grid de hiperparámetros evaluados - ARBOL CART\n",
    "# ==============================================================================\n",
    "param_grid = {'max_depth': [1,2,3,4,5,6,7,8,9,10],\n",
    "              'max_features': [3,4,5,6,7,8,9],\n",
    "              'min_samples_leaf': [20,50,100],\n",
    "              'min_samples_split': [40,100,200]\n",
    "             }\n",
    "\n",
    "# Búsqueda por grid search con validación cruzada\n",
    "# ==============================================================================\n",
    "grid = GridSearchCV(\n",
    "        estimator  = DecisionTreeClassifier(\n",
    "                       ccp_alpha=0.0, \n",
    "                       class_weight=None, \n",
    "                       criterion='gini',\n",
    "                       max_leaf_nodes=None,\n",
    "                       min_weight_fraction_leaf=0.0, \n",
    "                       random_state=None, \n",
    "                       splitter='best'),\n",
    "        param_grid = param_grid,\n",
    "        scoring    = 'roc_auc',\n",
    "        n_jobs     = multiprocessing.cpu_count() - 1,\n",
    "        cv         = RepeatedKFold(n_splits=5, n_repeats=3, random_state=123), \n",
    "        refit      = True,\n",
    "        verbose    = 0,\n",
    "        return_train_score = True\n",
    "       )\n",
    "\n",
    "grid.fit(X = X_train, y = y_train)\n",
    "\n",
    "# Resultados\n",
    "# ==============================================================================\n",
    "resultados = pd.DataFrame(grid.cv_results_)\n",
    "resultados.filter(regex = '(param*|mean_t|std_t)') \\\n",
    "    .drop(columns = 'params') \\\n",
    "    .sort_values('mean_test_score', ascending = False) \\\n",
    "    .head(10)"
   ]
  },
  {
   "cell_type": "code",
   "execution_count": null,
   "metadata": {},
   "outputs": [],
   "source": [
    "# Arbol de Clasificacion CART (mejores parámetros)\n",
    "from sklearn.tree import DecisionTreeClassifier\n",
    "tree_final = DecisionTreeClassifier(\n",
    "                       ccp_alpha=0.0, \n",
    "                       class_weight=None, \n",
    "                       criterion='gini',\n",
    "                       max_depth=10,         # Profundidad del arbol (4)\n",
    "                       max_features=8,     # Numero maximo de variables\n",
    "                       max_leaf_nodes=None, # Numero de nodos\n",
    "                       min_samples_leaf=20, \n",
    "                       min_samples_split=100,\n",
    "                       min_weight_fraction_leaf=0.0, \n",
    "                       random_state=None, \n",
    "                       splitter='best')\n",
    "\n",
    "tree_final = tree_final.fit(X_train,y_train) # ajustando el modelo a mis datos"
   ]
  },
  {
   "cell_type": "code",
   "execution_count": null,
   "metadata": {},
   "outputs": [],
   "source": [
    "plt.figure(figsize=(12,12))\n",
    "_ = plot_tree(tree_final, fontsize= 10, feature_names = X_train.columns, rounded = True, filled = True)\n",
    "plt.show()"
   ]
  },
  {
   "cell_type": "markdown",
   "metadata": {},
   "source": [
    "### 6. MODELOS ENSAMBLADOS: TECNICAS BASICAS"
   ]
  },
  {
   "cell_type": "markdown",
   "metadata": {
    "id": "PtDPQhrfkBUP"
   },
   "source": [
    "### Max Voting"
   ]
  },
  {
   "cell_type": "code",
   "execution_count": null,
   "metadata": {
    "executionInfo": {
     "elapsed": 288,
     "status": "ok",
     "timestamp": 1631345307865,
     "user": {
      "displayName": "ANDRE OMAR CHAVEZ PANDURO",
      "photoUrl": "https://lh3.googleusercontent.com/a-/AOh14GhhoQ1kbFXrI1LHS5aCbnzbQoTSVMlrpsL1-iED=s64",
      "userId": "14331399592622880507"
     },
     "user_tz": 300
    },
    "id": "HOD4XXCCkBWi"
   },
   "outputs": [],
   "source": [
    "from sklearn.tree import DecisionTreeClassifier\n",
    "from sklearn.neighbors import KNeighborsClassifier\n",
    "from sklearn.linear_model import LogisticRegression\n",
    "\n",
    "model1 = DecisionTreeClassifier()\n",
    "model2 = KNeighborsClassifier()\n",
    "model3= LogisticRegression()"
   ]
  },
  {
   "cell_type": "code",
   "execution_count": null,
   "metadata": {
    "executionInfo": {
     "elapsed": 271,
     "status": "ok",
     "timestamp": 1631346753032,
     "user": {
      "displayName": "ANDRE OMAR CHAVEZ PANDURO",
      "photoUrl": "https://lh3.googleusercontent.com/a-/AOh14GhhoQ1kbFXrI1LHS5aCbnzbQoTSVMlrpsL1-iED=s64",
      "userId": "14331399592622880507"
     },
     "user_tz": 300
    },
    "id": "5L7HTiWfqDDy"
   },
   "outputs": [],
   "source": [
    "model1.fit(X_train,y_train)\n",
    "model2.fit(X_train,y_train)\n",
    "model3.fit(X_train,y_train)\n",
    "\n",
    "pred1=model1.predict(X_test)\n",
    "pred2=model2.predict(X_test)\n",
    "pred3=model3.predict(X_test)"
   ]
  },
  {
   "cell_type": "code",
   "execution_count": null,
   "metadata": {
    "executionInfo": {
     "elapsed": 287,
     "status": "ok",
     "timestamp": 1631346758368,
     "user": {
      "displayName": "ANDRE OMAR CHAVEZ PANDURO",
      "photoUrl": "https://lh3.googleusercontent.com/a-/AOh14GhhoQ1kbFXrI1LHS5aCbnzbQoTSVMlrpsL1-iED=s64",
      "userId": "14331399592622880507"
     },
     "user_tz": 300
    },
    "id": "w6EM41usqDJ8"
   },
   "outputs": [],
   "source": [
    "from statistics import mode\n",
    "final_pred = np.array([])\n",
    "for i in range(0,len(X_test)):\n",
    "    final_pred = np.append(final_pred, mode([pred1[i], pred2[i], pred3[i]]))"
   ]
  },
  {
   "cell_type": "code",
   "execution_count": null,
   "metadata": {
    "executionInfo": {
     "elapsed": 296,
     "status": "ok",
     "timestamp": 1631346761430,
     "user": {
      "displayName": "ANDRE OMAR CHAVEZ PANDURO",
      "photoUrl": "https://lh3.googleusercontent.com/a-/AOh14GhhoQ1kbFXrI1LHS5aCbnzbQoTSVMlrpsL1-iED=s64",
      "userId": "14331399592622880507"
     },
     "user_tz": 300
    },
    "id": "kBVBqVDlqxLP"
   },
   "outputs": [],
   "source": [
    "final_pred"
   ]
  },
  {
   "cell_type": "code",
   "execution_count": null,
   "metadata": {
    "executionInfo": {
     "elapsed": 325,
     "status": "ok",
     "timestamp": 1631346769294,
     "user": {
      "displayName": "ANDRE OMAR CHAVEZ PANDURO",
      "photoUrl": "https://lh3.googleusercontent.com/a-/AOh14GhhoQ1kbFXrI1LHS5aCbnzbQoTSVMlrpsL1-iED=s64",
      "userId": "14331399592622880507"
     },
     "user_tz": 300
    },
    "id": "wLrTLJl-qxOJ"
   },
   "outputs": [],
   "source": [
    "#Cálculo de los indicadores mas relevantes!\n",
    "print(metrics.classification_report(y_test, final_pred))"
   ]
  },
  {
   "cell_type": "markdown",
   "metadata": {
    "id": "p5UwfoKAkBZA"
   },
   "source": [
    "### Averaging"
   ]
  },
  {
   "cell_type": "code",
   "execution_count": null,
   "metadata": {
    "executionInfo": {
     "elapsed": 270,
     "status": "ok",
     "timestamp": 1631343981407,
     "user": {
      "displayName": "ANDRE OMAR CHAVEZ PANDURO",
      "photoUrl": "https://lh3.googleusercontent.com/a-/AOh14GhhoQ1kbFXrI1LHS5aCbnzbQoTSVMlrpsL1-iED=s64",
      "userId": "14331399592622880507"
     },
     "user_tz": 300
    },
    "id": "4IDuZ2TDpMgx"
   },
   "outputs": [],
   "source": [
    "from sklearn.tree import DecisionTreeClassifier\n",
    "from sklearn.neighbors import KNeighborsClassifier\n",
    "from sklearn.linear_model import LogisticRegression\n",
    "\n",
    "model1 = DecisionTreeClassifier()\n",
    "model2 = KNeighborsClassifier()\n",
    "model3= LogisticRegression()"
   ]
  },
  {
   "cell_type": "code",
   "execution_count": null,
   "metadata": {
    "executionInfo": {
     "elapsed": 285,
     "status": "ok",
     "timestamp": 1631346777351,
     "user": {
      "displayName": "ANDRE OMAR CHAVEZ PANDURO",
      "photoUrl": "https://lh3.googleusercontent.com/a-/AOh14GhhoQ1kbFXrI1LHS5aCbnzbQoTSVMlrpsL1-iED=s64",
      "userId": "14331399592622880507"
     },
     "user_tz": 300
    },
    "id": "3BpwjgkGrb5m"
   },
   "outputs": [],
   "source": [
    "model1.fit(X_train,y_train)\n",
    "model2.fit(X_train,y_train)\n",
    "model3.fit(X_train,y_train)"
   ]
  },
  {
   "cell_type": "code",
   "execution_count": null,
   "metadata": {
    "executionInfo": {
     "elapsed": 291,
     "status": "ok",
     "timestamp": 1631344005269,
     "user": {
      "displayName": "ANDRE OMAR CHAVEZ PANDURO",
      "photoUrl": "https://lh3.googleusercontent.com/a-/AOh14GhhoQ1kbFXrI1LHS5aCbnzbQoTSVMlrpsL1-iED=s64",
      "userId": "14331399592622880507"
     },
     "user_tz": 300
    },
    "id": "Z5z34ktZrb8X"
   },
   "outputs": [],
   "source": [
    "pred1=model1.predict_proba(X_test)\n",
    "pred2=model2.predict_proba(X_test)\n",
    "pred3=model3.predict_proba(X_test)"
   ]
  },
  {
   "cell_type": "code",
   "execution_count": null,
   "metadata": {
    "executionInfo": {
     "elapsed": 262,
     "status": "ok",
     "timestamp": 1631344012288,
     "user": {
      "displayName": "ANDRE OMAR CHAVEZ PANDURO",
      "photoUrl": "https://lh3.googleusercontent.com/a-/AOh14GhhoQ1kbFXrI1LHS5aCbnzbQoTSVMlrpsL1-iED=s64",
      "userId": "14331399592622880507"
     },
     "user_tz": 300
    },
    "id": "6CRSrvVarb_O"
   },
   "outputs": [],
   "source": [
    "finalpred=(pred1+pred2+pred3)/3"
   ]
  },
  {
   "cell_type": "code",
   "execution_count": null,
   "metadata": {},
   "outputs": [],
   "source": [
    "finalpred"
   ]
  },
  {
   "cell_type": "code",
   "execution_count": null,
   "metadata": {},
   "outputs": [],
   "source": [
    "finalpredf = finalpred[:,0]>=0.5"
   ]
  },
  {
   "cell_type": "code",
   "execution_count": null,
   "metadata": {},
   "outputs": [],
   "source": [
    "#Cálculo de los indicadores mas relevantes!\n",
    "print(metrics.classification_report(y_test, finalpredf))"
   ]
  },
  {
   "cell_type": "markdown",
   "metadata": {
    "id": "LMHpgHBspMrt"
   },
   "source": [
    "### Weighted Average"
   ]
  },
  {
   "cell_type": "code",
   "execution_count": null,
   "metadata": {
    "executionInfo": {
     "elapsed": 293,
     "status": "ok",
     "timestamp": 1631344061843,
     "user": {
      "displayName": "ANDRE OMAR CHAVEZ PANDURO",
      "photoUrl": "https://lh3.googleusercontent.com/a-/AOh14GhhoQ1kbFXrI1LHS5aCbnzbQoTSVMlrpsL1-iED=s64",
      "userId": "14331399592622880507"
     },
     "user_tz": 300
    },
    "id": "sLoowrQUpM0D"
   },
   "outputs": [],
   "source": [
    "from sklearn.tree import DecisionTreeClassifier\n",
    "from sklearn.neighbors import KNeighborsClassifier\n",
    "from sklearn.linear_model import LogisticRegression\n",
    "\n",
    "model1 = DecisionTreeClassifier()\n",
    "model2 = KNeighborsClassifier()\n",
    "model3= LogisticRegression()\n",
    "\n",
    "model1.fit(X_train,y_train)\n",
    "model2.fit(X_train,y_train)\n",
    "model3.fit(X_train,y_train)\n",
    "\n",
    "pred1=model1.predict_proba(X_test)\n",
    "pred2=model2.predict_proba(X_test)\n",
    "pred3=model3.predict_proba(X_test)\n",
    "\n",
    "finalpred=(pred1*0.3+pred2*0.2+pred3*0.5)"
   ]
  },
  {
   "cell_type": "code",
   "execution_count": null,
   "metadata": {},
   "outputs": [],
   "source": [
    "finalpredf = finalpred[:,0]>=0.5"
   ]
  },
  {
   "cell_type": "code",
   "execution_count": null,
   "metadata": {
    "id": "pV0htT_d0-XG"
   },
   "outputs": [],
   "source": [
    "#Cálculo de los indicadores mas relevantes!\n",
    "print(metrics.classification_report(y_test, finalpredf))"
   ]
  },
  {
   "cell_type": "markdown",
   "metadata": {},
   "source": [
    "### 7. BAGGING"
   ]
  },
  {
   "cell_type": "code",
   "execution_count": null,
   "metadata": {
    "executionInfo": {
     "elapsed": 458,
     "status": "ok",
     "timestamp": 1631346791352,
     "user": {
      "displayName": "ANDRE OMAR CHAVEZ PANDURO",
      "photoUrl": "https://lh3.googleusercontent.com/a-/AOh14GhhoQ1kbFXrI1LHS5aCbnzbQoTSVMlrpsL1-iED=s64",
      "userId": "14331399592622880507"
     },
     "user_tz": 300
    },
    "id": "Bo1lv0CHS5Rh"
   },
   "outputs": [],
   "source": [
    "## Modelos Supervisados : Random Forest ##\n",
    "from sklearn.ensemble import RandomForestClassifier\n",
    "rf = RandomForestClassifier(n_estimators=500,\n",
    "                            max_features= 6,\n",
    "                            max_depth=4\n",
    "                            ) # Numero de obs por nodo hoja\n",
    "rf.fit(X_train, y_train) # Entrenando un algoritmo"
   ]
  },
  {
   "cell_type": "code",
   "execution_count": null,
   "metadata": {
    "id": "d6txUy2BS5Rm"
   },
   "outputs": [],
   "source": [
    "# Predecir con el algoritmo entrenado para validar\n",
    "y_pred_train=rf.predict(X_train) # Prediccion sobre el train\n",
    "y_pred_test= rf.predict(X_test) # Prediccion sobre el test"
   ]
  },
  {
   "cell_type": "code",
   "execution_count": null,
   "metadata": {
    "executionInfo": {
     "elapsed": 279,
     "status": "ok",
     "timestamp": 1631346799360,
     "user": {
      "displayName": "ANDRE OMAR CHAVEZ PANDURO",
      "photoUrl": "https://lh3.googleusercontent.com/a-/AOh14GhhoQ1kbFXrI1LHS5aCbnzbQoTSVMlrpsL1-iED=s64",
      "userId": "14331399592622880507"
     },
     "user_tz": 300
    },
    "id": "Gx2eqfr5S5Rs"
   },
   "outputs": [],
   "source": [
    "#Cálculo de los indicadores mas relevantes!\n",
    "metricas_confusion(y_train,y_pred_train,y_test,y_pred_test)"
   ]
  },
  {
   "cell_type": "markdown",
   "metadata": {},
   "source": [
    "### 8. BOOSTING"
   ]
  },
  {
   "cell_type": "markdown",
   "metadata": {},
   "source": [
    "### AdaBoost"
   ]
  },
  {
   "cell_type": "code",
   "execution_count": null,
   "metadata": {},
   "outputs": [],
   "source": [
    "## Modelos Supervisados : AdaBoost ##\n",
    "from sklearn.ensemble import AdaBoostClassifier  # Paso01: Instancio\n",
    "AdaBoost=AdaBoostClassifier(learning_rate=0.001, \n",
    "                            n_estimators=250) # Paso02: Especifico\n",
    "AdaBoost.fit(X_train, y_train)                   # Paso03: Entrenamiento algoritmo"
   ]
  },
  {
   "cell_type": "code",
   "execution_count": null,
   "metadata": {},
   "outputs": [],
   "source": [
    "# Predecir con el algoritmo entrenado para validar\n",
    "y_pred_train=AdaBoost.predict(X_train) # Prediccion sobre el train\n",
    "y_pred_test= AdaBoost.predict(X_test) # Prediccion sobre el test"
   ]
  },
  {
   "cell_type": "code",
   "execution_count": null,
   "metadata": {},
   "outputs": [],
   "source": [
    "#Cálculo de los indicadores mas relevantes!\n",
    "metricas_confusion(y_train,y_pred_train,y_test,y_pred_test)"
   ]
  },
  {
   "cell_type": "markdown",
   "metadata": {},
   "source": [
    "Más sobre modelos ensamblados: \n",
    "https://www.analyticsvidhya.com/blog/2018/06/comprehensive-guide-for-ensemble-models/"
   ]
  }
 ],
 "metadata": {
  "colab": {
   "collapsed_sections": [],
   "name": "S03_Modelamiento_EntrenamientoyValidacion.ipynb",
   "provenance": []
  },
  "kernelspec": {
   "display_name": "Python 3",
   "language": "python",
   "name": "python3"
  },
  "language_info": {
   "codemirror_mode": {
    "name": "ipython",
    "version": 3
   },
   "file_extension": ".py",
   "mimetype": "text/x-python",
   "name": "python",
   "nbconvert_exporter": "python",
   "pygments_lexer": "ipython3",
   "version": "3.7.5"
  },
  "toc": {
   "base_numbering": 1,
   "nav_menu": {},
   "number_sections": true,
   "sideBar": true,
   "skip_h1_title": false,
   "title_cell": "Table of Contents",
   "title_sidebar": "Contents",
   "toc_cell": false,
   "toc_position": {
    "height": "calc(100% - 180px)",
    "left": "10px",
    "top": "150px",
    "width": "165px"
   },
   "toc_section_display": true,
   "toc_window_display": false
  },
  "varInspector": {
   "cols": {
    "lenName": 16,
    "lenType": 16,
    "lenVar": 40
   },
   "kernels_config": {
    "python": {
     "delete_cmd_postfix": "",
     "delete_cmd_prefix": "del ",
     "library": "var_list.py",
     "varRefreshCmd": "print(var_dic_list())"
    },
    "r": {
     "delete_cmd_postfix": ") ",
     "delete_cmd_prefix": "rm(",
     "library": "var_list.r",
     "varRefreshCmd": "cat(var_dic_list()) "
    }
   },
   "types_to_exclude": [
    "module",
    "function",
    "builtin_function_or_method",
    "instance",
    "_Feature"
   ],
   "window_display": false
  }
 },
 "nbformat": 4,
 "nbformat_minor": 1
}
