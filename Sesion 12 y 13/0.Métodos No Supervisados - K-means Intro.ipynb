{
 "cells": [
  {
   "cell_type": "markdown",
   "metadata": {
    "id": "yfRx7euOm-Tv"
   },
   "source": [
    "# <u>Métodos No Supervisados - Intro K-means</u>"
   ]
  },
  {
   "cell_type": "code",
   "execution_count": null,
   "metadata": {
    "executionInfo": {
     "elapsed": 2479,
     "status": "ok",
     "timestamp": 1607394055005,
     "user": {
      "displayName": "Manuel Marino Montoya Gamio",
      "photoUrl": "https://lh3.googleusercontent.com/a-/AOh14Ggvwikw8yNTOrR63TADgIsw_qnmLKMoqjHZ_AxK=s64",
      "userId": "16723277136981296486"
     },
     "user_tz": 300
    },
    "id": "wr3k0rVmm-T2",
    "scrolled": true
   },
   "outputs": [],
   "source": [
    "import pandas as pd\n",
    "import numpy as np\n",
    "\n",
    "import seaborn as sns\n",
    "import matplotlib.pyplot as plt\n",
    "\n",
    "sns.set()"
   ]
  },
  {
   "cell_type": "markdown",
   "metadata": {
    "id": "rCdh25RZ40eR"
   },
   "source": [
    "## Lectura de datos"
   ]
  },
  {
   "cell_type": "markdown",
   "metadata": {
    "id": "EAV6rfPHm-T-"
   },
   "source": [
    "Mall Customer Data https://www.kaggle.com/vjchoudhary7/customer-segmentation-tutorial-in-python"
   ]
  },
  {
   "cell_type": "code",
   "execution_count": null,
   "metadata": {
    "colab": {
     "base_uri": "https://localhost:8080/",
     "height": 204
    },
    "executionInfo": {
     "elapsed": 1659,
     "status": "ok",
     "timestamp": 1607394083894,
     "user": {
      "displayName": "Manuel Marino Montoya Gamio",
      "photoUrl": "https://lh3.googleusercontent.com/a-/AOh14Ggvwikw8yNTOrR63TADgIsw_qnmLKMoqjHZ_AxK=s64",
      "userId": "16723277136981296486"
     },
     "user_tz": 300
    },
    "id": "dJCcIlP7m-T-",
    "outputId": "b5bee634-0558-404e-9b64-52b82d746fb8",
    "scrolled": true
   },
   "outputs": [],
   "source": [
    "df_customers = pd.read_csv(\"data/mall-customers.csv\")\n",
    "df_customers.head()"
   ]
  },
  {
   "cell_type": "code",
   "execution_count": null,
   "metadata": {
    "colab": {
     "base_uri": "https://localhost:8080/"
    },
    "executionInfo": {
     "elapsed": 1418,
     "status": "ok",
     "timestamp": 1607394123190,
     "user": {
      "displayName": "Manuel Marino Montoya Gamio",
      "photoUrl": "https://lh3.googleusercontent.com/a-/AOh14Ggvwikw8yNTOrR63TADgIsw_qnmLKMoqjHZ_AxK=s64",
      "userId": "16723277136981296486"
     },
     "user_tz": 300
    },
    "id": "ESSKxFMrGPFx",
    "outputId": "21456d2d-5755-4f53-effd-e1e8b0fbbf19",
    "scrolled": true
   },
   "outputs": [],
   "source": [
    "df_customers.info()"
   ]
  },
  {
   "cell_type": "code",
   "execution_count": null,
   "metadata": {
    "colab": {
     "base_uri": "https://localhost:8080/",
     "height": 297
    },
    "executionInfo": {
     "elapsed": 1156,
     "status": "ok",
     "timestamp": 1607394134306,
     "user": {
      "displayName": "Manuel Marino Montoya Gamio",
      "photoUrl": "https://lh3.googleusercontent.com/a-/AOh14Ggvwikw8yNTOrR63TADgIsw_qnmLKMoqjHZ_AxK=s64",
      "userId": "16723277136981296486"
     },
     "user_tz": 300
    },
    "id": "aLRP-T0bGRez",
    "outputId": "069509da-55f6-4ef6-8af2-b333ca4e39b0",
    "scrolled": true
   },
   "outputs": [],
   "source": [
    "df_customers.describe()"
   ]
  },
  {
   "cell_type": "code",
   "execution_count": null,
   "metadata": {
    "executionInfo": {
     "elapsed": 1383,
     "status": "ok",
     "timestamp": 1607394194459,
     "user": {
      "displayName": "Manuel Marino Montoya Gamio",
      "photoUrl": "https://lh3.googleusercontent.com/a-/AOh14Ggvwikw8yNTOrR63TADgIsw_qnmLKMoqjHZ_AxK=s64",
      "userId": "16723277136981296486"
     },
     "user_tz": 300
    },
    "id": "ujRJbtF7m-UG",
    "scrolled": true
   },
   "outputs": [],
   "source": [
    "mapping = {'Male': 0, 'Female':1}\n",
    "\n",
    "df_customers[\"Gender\"] = df_customers[\"Gender\"].map(mapping)"
   ]
  },
  {
   "cell_type": "code",
   "execution_count": null,
   "metadata": {
    "colab": {
     "base_uri": "https://localhost:8080/",
     "height": 204
    },
    "executionInfo": {
     "elapsed": 795,
     "status": "ok",
     "timestamp": 1607394194460,
     "user": {
      "displayName": "Manuel Marino Montoya Gamio",
      "photoUrl": "https://lh3.googleusercontent.com/a-/AOh14Ggvwikw8yNTOrR63TADgIsw_qnmLKMoqjHZ_AxK=s64",
      "userId": "16723277136981296486"
     },
     "user_tz": 300
    },
    "id": "uCW9gT8Am-UI",
    "outputId": "792d005b-62f5-4f45-9b20-47bb047cee57",
    "scrolled": true
   },
   "outputs": [],
   "source": [
    "df_customers.head()"
   ]
  },
  {
   "cell_type": "code",
   "execution_count": null,
   "metadata": {
    "scrolled": true
   },
   "outputs": [],
   "source": [
    "df_customers.columns = ['id', 'sexo', 'edad', 'ingreso', 'score']"
   ]
  },
  {
   "cell_type": "code",
   "execution_count": null,
   "metadata": {
    "scrolled": true
   },
   "outputs": [],
   "source": [
    "df_customers.head()"
   ]
  },
  {
   "cell_type": "markdown",
   "metadata": {
    "id": "sg3NbQiPGk4y"
   },
   "source": [
    "## Clustering con dos variables"
   ]
  },
  {
   "cell_type": "code",
   "execution_count": null,
   "metadata": {
    "colab": {
     "base_uri": "https://localhost:8080/",
     "height": 204
    },
    "executionInfo": {
     "elapsed": 1170,
     "status": "ok",
     "timestamp": 1607394242226,
     "user": {
      "displayName": "Manuel Marino Montoya Gamio",
      "photoUrl": "https://lh3.googleusercontent.com/a-/AOh14Ggvwikw8yNTOrR63TADgIsw_qnmLKMoqjHZ_AxK=s64",
      "userId": "16723277136981296486"
     },
     "user_tz": 300
    },
    "id": "dYVcYM1zGylQ",
    "outputId": "de262936-1e57-4552-df45-55d5d5ad6b6f",
    "scrolled": true
   },
   "outputs": [],
   "source": [
    "df_clustering = df_customers[['edad', 'score']]\n",
    "df_clustering.head()"
   ]
  },
  {
   "cell_type": "code",
   "execution_count": null,
   "metadata": {
    "scrolled": true
   },
   "outputs": [],
   "source": [
    "from sklearn.cluster import KMeans"
   ]
  },
  {
   "cell_type": "code",
   "execution_count": null,
   "metadata": {
    "executionInfo": {
     "elapsed": 1067,
     "status": "ok",
     "timestamp": 1607394444787,
     "user": {
      "displayName": "Manuel Marino Montoya Gamio",
      "photoUrl": "https://lh3.googleusercontent.com/a-/AOh14Ggvwikw8yNTOrR63TADgIsw_qnmLKMoqjHZ_AxK=s64",
      "userId": "16723277136981296486"
     },
     "user_tz": 300
    },
    "id": "2dcqz-WXm-UM",
    "scrolled": true
   },
   "outputs": [],
   "source": [
    "model = KMeans(n_clusters = 3)"
   ]
  },
  {
   "cell_type": "code",
   "execution_count": null,
   "metadata": {
    "colab": {
     "base_uri": "https://localhost:8080/"
    },
    "executionInfo": {
     "elapsed": 1651,
     "status": "ok",
     "timestamp": 1607394445382,
     "user": {
      "displayName": "Manuel Marino Montoya Gamio",
      "photoUrl": "https://lh3.googleusercontent.com/a-/AOh14Ggvwikw8yNTOrR63TADgIsw_qnmLKMoqjHZ_AxK=s64",
      "userId": "16723277136981296486"
     },
     "user_tz": 300
    },
    "id": "NC1upzbKGwvZ",
    "outputId": "6bfdb999-51a1-4bdd-f293-d3c0eea5b322",
    "scrolled": true
   },
   "outputs": [],
   "source": [
    "model.fit(df_clustering)"
   ]
  },
  {
   "cell_type": "code",
   "execution_count": null,
   "metadata": {
    "scrolled": true
   },
   "outputs": [],
   "source": [
    "model.predict(df_clustering)"
   ]
  },
  {
   "cell_type": "code",
   "execution_count": null,
   "metadata": {
    "colab": {
     "base_uri": "https://localhost:8080/",
     "height": 306
    },
    "executionInfo": {
     "elapsed": 1625,
     "status": "ok",
     "timestamp": 1607394445384,
     "user": {
      "displayName": "Manuel Marino Montoya Gamio",
      "photoUrl": "https://lh3.googleusercontent.com/a-/AOh14Ggvwikw8yNTOrR63TADgIsw_qnmLKMoqjHZ_AxK=s64",
      "userId": "16723277136981296486"
     },
     "user_tz": 300
    },
    "id": "X4_JY1m261IJ",
    "outputId": "44a9d48a-e252-40ea-fc9c-7216ae1c0e11",
    "scrolled": false
   },
   "outputs": [],
   "source": [
    "df_clustering['cluster'] = model.predict(df_clustering)\n",
    "df_clustering.head()"
   ]
  },
  {
   "cell_type": "code",
   "execution_count": null,
   "metadata": {
    "scrolled": true
   },
   "outputs": [],
   "source": [
    "df_clustering['cluster'].value_counts()"
   ]
  },
  {
   "cell_type": "code",
   "execution_count": null,
   "metadata": {
    "scrolled": true
   },
   "outputs": [],
   "source": [
    "sns.scatterplot(data = df_clustering, x = 'edad', y = 'score')\n",
    "plt.show()"
   ]
  },
  {
   "cell_type": "code",
   "execution_count": null,
   "metadata": {
    "scrolled": true
   },
   "outputs": [],
   "source": [
    "sns.scatterplot(data = df_clustering, x = 'edad', y = 'score', hue = 'cluster', palette = 'deep')\n",
    "plt.show()"
   ]
  },
  {
   "cell_type": "markdown",
   "metadata": {
    "id": "3Qw6pf8Cm-Ub"
   },
   "source": [
    "## Preprocesamiento de variables"
   ]
  },
  {
   "cell_type": "code",
   "execution_count": null,
   "metadata": {
    "scrolled": true
   },
   "outputs": [],
   "source": [
    "df_clustering = df_customers[['edad', 'score']]"
   ]
  },
  {
   "cell_type": "code",
   "execution_count": null,
   "metadata": {
    "scrolled": true
   },
   "outputs": [],
   "source": [
    "df_clustering.head()"
   ]
  },
  {
   "cell_type": "code",
   "execution_count": null,
   "metadata": {
    "scrolled": true
   },
   "outputs": [],
   "source": [
    "from sklearn.preprocessing import MinMaxScaler\n",
    "scaler = MinMaxScaler()"
   ]
  },
  {
   "cell_type": "code",
   "execution_count": null,
   "metadata": {
    "colab": {
     "base_uri": "https://localhost:8080/",
     "height": 204
    },
    "executionInfo": {
     "elapsed": 1225,
     "status": "ok",
     "timestamp": 1607394743207,
     "user": {
      "displayName": "Manuel Marino Montoya Gamio",
      "photoUrl": "https://lh3.googleusercontent.com/a-/AOh14Ggvwikw8yNTOrR63TADgIsw_qnmLKMoqjHZ_AxK=s64",
      "userId": "16723277136981296486"
     },
     "user_tz": 300
    },
    "id": "qIxxDmorm-Ud",
    "outputId": "8ff15623-2f50-4b94-c15c-6ecaac9d3c88",
    "scrolled": true
   },
   "outputs": [],
   "source": [
    "df_scaled = pd.DataFrame(scaler.fit_transform(df_clustering),columns = df_clustering.columns) \n",
    "df_scaled.head()"
   ]
  },
  {
   "cell_type": "markdown",
   "metadata": {
    "id": "9aXnmvRUm-Up"
   },
   "source": [
    "## clustering con variables escaladas"
   ]
  },
  {
   "cell_type": "code",
   "execution_count": null,
   "metadata": {
    "executionInfo": {
     "elapsed": 1205,
     "status": "ok",
     "timestamp": 1607394907486,
     "user": {
      "displayName": "Manuel Marino Montoya Gamio",
      "photoUrl": "https://lh3.googleusercontent.com/a-/AOh14Ggvwikw8yNTOrR63TADgIsw_qnmLKMoqjHZ_AxK=s64",
      "userId": "16723277136981296486"
     },
     "user_tz": 300
    },
    "id": "0-8SEBRhm-Uq",
    "scrolled": true
   },
   "outputs": [],
   "source": [
    "model = KMeans(n_clusters = 3)"
   ]
  },
  {
   "cell_type": "code",
   "execution_count": null,
   "metadata": {
    "colab": {
     "base_uri": "https://localhost:8080/"
    },
    "executionInfo": {
     "elapsed": 1364,
     "status": "ok",
     "timestamp": 1607394907960,
     "user": {
      "displayName": "Manuel Marino Montoya Gamio",
      "photoUrl": "https://lh3.googleusercontent.com/a-/AOh14Ggvwikw8yNTOrR63TADgIsw_qnmLKMoqjHZ_AxK=s64",
      "userId": "16723277136981296486"
     },
     "user_tz": 300
    },
    "id": "mc-Vv0Y_Hzlk",
    "outputId": "2e5d6631-54cc-413f-c114-6706e896c3be",
    "scrolled": true
   },
   "outputs": [],
   "source": [
    "model.fit(df_scaled)"
   ]
  },
  {
   "cell_type": "code",
   "execution_count": null,
   "metadata": {
    "executionInfo": {
     "elapsed": 1003,
     "status": "ok",
     "timestamp": 1607394933196,
     "user": {
      "displayName": "Manuel Marino Montoya Gamio",
      "photoUrl": "https://lh3.googleusercontent.com/a-/AOh14Ggvwikw8yNTOrR63TADgIsw_qnmLKMoqjHZ_AxK=s64",
      "userId": "16723277136981296486"
     },
     "user_tz": 300
    },
    "id": "D0ticdL_HzV6",
    "scrolled": true
   },
   "outputs": [],
   "source": [
    "model.predict(df_scaled)"
   ]
  },
  {
   "cell_type": "code",
   "execution_count": null,
   "metadata": {
    "colab": {
     "base_uri": "https://localhost:8080/",
     "height": 306
    },
    "executionInfo": {
     "elapsed": 1348,
     "status": "ok",
     "timestamp": 1607394948380,
     "user": {
      "displayName": "Manuel Marino Montoya Gamio",
      "photoUrl": "https://lh3.googleusercontent.com/a-/AOh14Ggvwikw8yNTOrR63TADgIsw_qnmLKMoqjHZ_AxK=s64",
      "userId": "16723277136981296486"
     },
     "user_tz": 300
    },
    "id": "60n6cFM1ILb0",
    "outputId": "63a6040a-5867-4b98-fe19-8a413122e03c",
    "scrolled": true
   },
   "outputs": [],
   "source": [
    "df_clustering['cluster'] = model.predict(df_scaled)\n",
    "df_clustering.head()"
   ]
  },
  {
   "cell_type": "code",
   "execution_count": null,
   "metadata": {
    "colab": {
     "base_uri": "https://localhost:8080/",
     "height": 296
    },
    "executionInfo": {
     "elapsed": 1324,
     "status": "ok",
     "timestamp": 1607394953583,
     "user": {
      "displayName": "Manuel Marino Montoya Gamio",
      "photoUrl": "https://lh3.googleusercontent.com/a-/AOh14Ggvwikw8yNTOrR63TADgIsw_qnmLKMoqjHZ_AxK=s64",
      "userId": "16723277136981296486"
     },
     "user_tz": 300
    },
    "id": "CBIUVanFm-Ur",
    "outputId": "9a33a233-3f7b-4d17-ca16-6fdb8a29ff11",
    "scrolled": false
   },
   "outputs": [],
   "source": [
    "sns.scatterplot(data = df_clustering, x = 'edad', y = 'score', hue = 'cluster', palette = 'deep')\n",
    "plt.show()"
   ]
  },
  {
   "cell_type": "markdown",
   "metadata": {
    "id": "RGI_1hriIEd-"
   },
   "source": [
    "## Descriptivos de clustering"
   ]
  },
  {
   "cell_type": "code",
   "execution_count": null,
   "metadata": {
    "colab": {
     "base_uri": "https://localhost:8080/",
     "height": 204
    },
    "executionInfo": {
     "elapsed": 1158,
     "status": "ok",
     "timestamp": 1607395114407,
     "user": {
      "displayName": "Manuel Marino Montoya Gamio",
      "photoUrl": "https://lh3.googleusercontent.com/a-/AOh14Ggvwikw8yNTOrR63TADgIsw_qnmLKMoqjHZ_AxK=s64",
      "userId": "16723277136981296486"
     },
     "user_tz": 300
    },
    "id": "daoHLaa5IPvI",
    "outputId": "e59e4af9-2fd7-44fe-d269-e75b2d9ba369",
    "scrolled": true
   },
   "outputs": [],
   "source": [
    "df_clustering.head()"
   ]
  },
  {
   "cell_type": "code",
   "execution_count": null,
   "metadata": {
    "colab": {
     "base_uri": "https://localhost:8080/"
    },
    "executionInfo": {
     "elapsed": 1068,
     "status": "ok",
     "timestamp": 1607395148730,
     "user": {
      "displayName": "Manuel Marino Montoya Gamio",
      "photoUrl": "https://lh3.googleusercontent.com/a-/AOh14Ggvwikw8yNTOrR63TADgIsw_qnmLKMoqjHZ_AxK=s64",
      "userId": "16723277136981296486"
     },
     "user_tz": 300
    },
    "id": "Fg2xmY6rI8vk",
    "outputId": "e420ee46-341d-40c8-d4e2-a66b383fdf2d",
    "scrolled": true
   },
   "outputs": [],
   "source": [
    "df_clustering['cluster'].value_counts()"
   ]
  },
  {
   "cell_type": "code",
   "execution_count": null,
   "metadata": {
    "colab": {
     "base_uri": "https://localhost:8080/",
     "height": 173
    },
    "executionInfo": {
     "elapsed": 1152,
     "status": "ok",
     "timestamp": 1607395171576,
     "user": {
      "displayName": "Manuel Marino Montoya Gamio",
      "photoUrl": "https://lh3.googleusercontent.com/a-/AOh14Ggvwikw8yNTOrR63TADgIsw_qnmLKMoqjHZ_AxK=s64",
      "userId": "16723277136981296486"
     },
     "user_tz": 300
    },
    "id": "9vDqL1yzm-Uu",
    "outputId": "7f2cfcd6-f0ba-4e83-b686-60873d9985d4",
    "scrolled": true
   },
   "outputs": [],
   "source": [
    "df_clustering.groupby('cluster').mean()"
   ]
  },
  {
   "cell_type": "code",
   "execution_count": null,
   "metadata": {
    "colab": {
     "base_uri": "https://localhost:8080/",
     "height": 471
    },
    "executionInfo": {
     "elapsed": 1217,
     "status": "ok",
     "timestamp": 1607395315493,
     "user": {
      "displayName": "Manuel Marino Montoya Gamio",
      "photoUrl": "https://lh3.googleusercontent.com/a-/AOh14Ggvwikw8yNTOrR63TADgIsw_qnmLKMoqjHZ_AxK=s64",
      "userId": "16723277136981296486"
     },
     "user_tz": 300
    },
    "id": "yVlwBs_oJYlQ",
    "outputId": "48b53f98-6d8e-4455-e9c5-391d44ccbba8",
    "scrolled": true
   },
   "outputs": [],
   "source": [
    "sns.boxplot(data = df_clustering, y = 'edad', x = 'cluster')\n",
    "plt.show()"
   ]
  },
  {
   "cell_type": "code",
   "execution_count": null,
   "metadata": {
    "scrolled": true
   },
   "outputs": [],
   "source": [
    "sns.boxplot(data = df_clustering, y = 'score', x = 'cluster')\n",
    "plt.show()"
   ]
  },
  {
   "cell_type": "markdown",
   "metadata": {
    "id": "ztpZmLCxWB-K"
   },
   "source": [
    "## Clustering con más variables"
   ]
  },
  {
   "cell_type": "code",
   "execution_count": null,
   "metadata": {
    "executionInfo": {
     "elapsed": 1021,
     "status": "ok",
     "timestamp": 1607395366363,
     "user": {
      "displayName": "Manuel Marino Montoya Gamio",
      "photoUrl": "https://lh3.googleusercontent.com/a-/AOh14Ggvwikw8yNTOrR63TADgIsw_qnmLKMoqjHZ_AxK=s64",
      "userId": "16723277136981296486"
     },
     "user_tz": 300
    },
    "id": "dDz4BvdhSDsa",
    "scrolled": true
   },
   "outputs": [],
   "source": [
    "df_customers.head()"
   ]
  },
  {
   "cell_type": "code",
   "execution_count": null,
   "metadata": {
    "scrolled": true
   },
   "outputs": [],
   "source": [
    "df_clustering = df_customers[['edad', 'ingreso', 'score']]\n",
    "df_clustering.head()"
   ]
  },
  {
   "cell_type": "code",
   "execution_count": null,
   "metadata": {
    "scrolled": true
   },
   "outputs": [],
   "source": [
    "scaler = MinMaxScaler()"
   ]
  },
  {
   "cell_type": "code",
   "execution_count": null,
   "metadata": {
    "colab": {
     "base_uri": "https://localhost:8080/",
     "height": 204
    },
    "executionInfo": {
     "elapsed": 1185,
     "status": "ok",
     "timestamp": 1607395368194,
     "user": {
      "displayName": "Manuel Marino Montoya Gamio",
      "photoUrl": "https://lh3.googleusercontent.com/a-/AOh14Ggvwikw8yNTOrR63TADgIsw_qnmLKMoqjHZ_AxK=s64",
      "userId": "16723277136981296486"
     },
     "user_tz": 300
    },
    "id": "MGLCATi0W8UD",
    "outputId": "42145d26-30aa-4d3d-f9a5-3b00fb2ddb0c",
    "scrolled": true
   },
   "outputs": [],
   "source": [
    "df_scaled = pd.DataFrame(scaler.fit_transform(df_clustering),columns = df_clustering.columns) \n",
    "df_scaled.head()"
   ]
  },
  {
   "cell_type": "code",
   "execution_count": null,
   "metadata": {
    "colab": {
     "base_uri": "https://localhost:8080/"
    },
    "executionInfo": {
     "elapsed": 1078,
     "status": "ok",
     "timestamp": 1607395376706,
     "user": {
      "displayName": "Manuel Marino Montoya Gamio",
      "photoUrl": "https://lh3.googleusercontent.com/a-/AOh14Ggvwikw8yNTOrR63TADgIsw_qnmLKMoqjHZ_AxK=s64",
      "userId": "16723277136981296486"
     },
     "user_tz": 300
    },
    "id": "jmKDguh0m-U4",
    "outputId": "228e4d82-cd1c-40c3-bcfb-be56fd407855",
    "scrolled": true
   },
   "outputs": [],
   "source": [
    "model = KMeans(n_clusters = 3)\n",
    "model.fit(df_scaled)"
   ]
  },
  {
   "cell_type": "code",
   "execution_count": null,
   "metadata": {
    "executionInfo": {
     "elapsed": 1047,
     "status": "ok",
     "timestamp": 1607395377812,
     "user": {
      "displayName": "Manuel Marino Montoya Gamio",
      "photoUrl": "https://lh3.googleusercontent.com/a-/AOh14Ggvwikw8yNTOrR63TADgIsw_qnmLKMoqjHZ_AxK=s64",
      "userId": "16723277136981296486"
     },
     "user_tz": 300
    },
    "id": "VEGf8bD6R994",
    "scrolled": true
   },
   "outputs": [],
   "source": [
    "df_customers['cluster'] = model.predict(df_scaled)"
   ]
  },
  {
   "cell_type": "code",
   "execution_count": null,
   "metadata": {
    "colab": {
     "base_uri": "https://localhost:8080/",
     "height": 204
    },
    "executionInfo": {
     "elapsed": 1110,
     "status": "ok",
     "timestamp": 1607395380378,
     "user": {
      "displayName": "Manuel Marino Montoya Gamio",
      "photoUrl": "https://lh3.googleusercontent.com/a-/AOh14Ggvwikw8yNTOrR63TADgIsw_qnmLKMoqjHZ_AxK=s64",
      "userId": "16723277136981296486"
     },
     "user_tz": 300
    },
    "id": "QyA4soxl2hx-",
    "outputId": "90c0d12d-729d-4d30-f754-f2c2bba2d087",
    "scrolled": true
   },
   "outputs": [],
   "source": [
    "df_customers.head()"
   ]
  },
  {
   "cell_type": "code",
   "execution_count": null,
   "metadata": {
    "scrolled": true
   },
   "outputs": [],
   "source": [
    "df_customers['cluster'].value_counts()"
   ]
  },
  {
   "cell_type": "code",
   "execution_count": null,
   "metadata": {
    "colab": {
     "base_uri": "https://localhost:8080/",
     "height": 204
    },
    "executionInfo": {
     "elapsed": 1168,
     "status": "ok",
     "timestamp": 1607395633168,
     "user": {
      "displayName": "Manuel Marino Montoya Gamio",
      "photoUrl": "https://lh3.googleusercontent.com/a-/AOh14Ggvwikw8yNTOrR63TADgIsw_qnmLKMoqjHZ_AxK=s64",
      "userId": "16723277136981296486"
     },
     "user_tz": 300
    },
    "id": "dXjjkBf5aRX-",
    "outputId": "5525def4-4504-42c0-81b5-3eb3f2f9f82a",
    "scrolled": true
   },
   "outputs": [],
   "source": [
    "df_customers.groupby('cluster').mean()"
   ]
  },
  {
   "cell_type": "code",
   "execution_count": null,
   "metadata": {
    "scrolled": true
   },
   "outputs": [],
   "source": [
    "sns.boxplot(data = df_customers, y = 'edad', x = 'cluster')\n",
    "plt.show()"
   ]
  },
  {
   "cell_type": "code",
   "execution_count": null,
   "metadata": {
    "scrolled": true
   },
   "outputs": [],
   "source": [
    "sns.boxplot(data = df_customers, y = 'score', x = 'cluster')\n",
    "plt.show()"
   ]
  },
  {
   "cell_type": "code",
   "execution_count": null,
   "metadata": {
    "scrolled": true
   },
   "outputs": [],
   "source": [
    "sns.boxplot(data = df_customers, y = 'ingreso', x = 'cluster')\n",
    "plt.show()"
   ]
  },
  {
   "cell_type": "code",
   "execution_count": null,
   "metadata": {
    "scrolled": true
   },
   "outputs": [],
   "source": [
    "sns.countplot(data = df_customers, x = 'cluster', hue = 'sexo')\n",
    "plt.show()"
   ]
  }
 ],
 "metadata": {
  "colab": {
   "collapsed_sections": [],
   "name": "mli-sesion-06-clustering-segmentacion.ipynb",
   "provenance": []
  },
  "kernelspec": {
   "display_name": "Python 3",
   "language": "python",
   "name": "python3"
  },
  "language_info": {
   "codemirror_mode": {
    "name": "ipython",
    "version": 3
   },
   "file_extension": ".py",
   "mimetype": "text/x-python",
   "name": "python",
   "nbconvert_exporter": "python",
   "pygments_lexer": "ipython3",
   "version": "3.7.5"
  }
 },
 "nbformat": 4,
 "nbformat_minor": 1
}
