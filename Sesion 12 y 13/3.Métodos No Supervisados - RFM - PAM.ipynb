{
 "cells": [
  {
   "cell_type": "markdown",
   "metadata": {},
   "source": [
    "# <u>Métodos No Supervisados - Parte 3</u>"
   ]
  },
  {
   "cell_type": "markdown",
   "metadata": {},
   "source": [
    "# Segmentación RFM y PAM"
   ]
  },
  {
   "cell_type": "markdown",
   "metadata": {},
   "source": [
    "[Caso] Consiste en conocer a tus clientes a traves de los consumos que realiza en los centros comerciales con su tarjeta de crédito, analice bajo la metodología RFM (experto - analítico) y proponga cuáles serían los segmentos comerciales."
   ]
  },
  {
   "cell_type": "markdown",
   "metadata": {},
   "source": [
    "### 1. Librerias:"
   ]
  },
  {
   "cell_type": "code",
   "execution_count": null,
   "metadata": {},
   "outputs": [],
   "source": [
    "import pandas as pd\n",
    "import numpy as np\n",
    "import matplotlib.pyplot as plt\n",
    "import datetime\n",
    "import calendar\n",
    "import seaborn as sns"
   ]
  },
  {
   "cell_type": "markdown",
   "metadata": {},
   "source": [
    "### 2. Funciones:"
   ]
  },
  {
   "cell_type": "markdown",
   "metadata": {},
   "source": [
    "Importante para el tratamiento de fechas"
   ]
  },
  {
   "cell_type": "code",
   "execution_count": null,
   "metadata": {},
   "outputs": [],
   "source": [
    "def convStrDate(cadena):\n",
    "    cadena = str(cadena)\n",
    "    fec = cadena[0:4]+'-'+cadena[4:7]+'-01'\n",
    "    return fec"
   ]
  },
  {
   "cell_type": "code",
   "execution_count": null,
   "metadata": {},
   "outputs": [],
   "source": [
    "def add_months(date, months):\n",
    "    month = date.month - 1 + months\n",
    "    year = date.year + month // 12\n",
    "    month = month % 12 + 1\n",
    "    day = min(date.day, calendar.monthrange(year,month)[1])\n",
    "    return datetime.date(year, month, day)"
   ]
  },
  {
   "cell_type": "markdown",
   "metadata": {},
   "source": [
    "### 3. Extracción Base de Datos:"
   ]
  },
  {
   "cell_type": "markdown",
   "metadata": {},
   "source": [
    "Extraemos la base de datos de consumo, en este caso no se considerarálos rubros, ya que, trataremos de aprovechar la esencia de las variables básicas como es la periodicidad y monto"
   ]
  },
  {
   "cell_type": "code",
   "execution_count": null,
   "metadata": {},
   "outputs": [],
   "source": [
    "dataFramePre = pd.read_csv(\"data/02dataBaseConsumo.txt\",delimiter='|', encoding='latin-1')\n",
    "dataFramePre = dataFramePre.drop(['grupoGiro'],axis=1)\n",
    "dataFramePre.head()"
   ]
  },
  {
   "cell_type": "markdown",
   "metadata": {},
   "source": [
    "Creamos la base de datos con todos los periodos (histórico) de consumo e incluimos una variable de índice (ind) para los posteriores tratamientos."
   ]
  },
  {
   "cell_type": "code",
   "execution_count": null,
   "metadata": {},
   "outputs": [],
   "source": [
    "# Creamos un campo de fecha para que nos ayudar a tratar la agregación i disminución de meses\n",
    "dataFrame = pd.DataFrame()\n",
    "dataFrame = dataFramePre.copy()\n",
    "\n",
    "dataFrame['fecha'] = dataFramePre['codmes'].apply(convStrDate)\n",
    "dataFrame['fecha'] = pd.to_datetime(dataFrame['fecha'])\n",
    "\n",
    "# Creamos Base de Datos con las variables de interés:\n",
    "dbGroup = dataFrame.groupby(['fecha','cliente']).agg({'trx':sum,'monto':sum})\n",
    "dbGroup['ind'] = 1\n",
    "dbGroup = dbGroup.reset_index()"
   ]
  },
  {
   "cell_type": "code",
   "execution_count": null,
   "metadata": {},
   "outputs": [],
   "source": [
    "dbGroup.head()"
   ]
  },
  {
   "cell_type": "markdown",
   "metadata": {},
   "source": [
    "### 4. Universo:"
   ]
  },
  {
   "cell_type": "markdown",
   "metadata": {},
   "source": [
    "Elegiremos una cosecha referente que servirá como nuestro universo de clientes el cual analizaremos su comportamiento, esta cosecha puede ser un mes o varios meses.\n",
    " - Recordar: tiene que ser a nivel de cliente"
   ]
  },
  {
   "cell_type": "code",
   "execution_count": null,
   "metadata": {},
   "outputs": [],
   "source": [
    "# Fecha mínima y máximo:\n",
    "print(dbGroup['fecha'].min())\n",
    "print(dbGroup['fecha'].max())\n",
    "\n",
    "# Filtramos la cosecha para el universo:\n",
    "dbUniv = dbGroup[dbGroup['fecha']=='2017-10-01']\n",
    "dbUniv = dbUniv.rename(columns={'fecha':'periodo'})\n",
    "dbUniv = dbUniv[['periodo','cliente']]\n",
    "dbUniv.head()"
   ]
  },
  {
   "cell_type": "markdown",
   "metadata": {},
   "source": [
    "Para poder relacionar nuestra base Universo con la base histórica de consumo, vamos agregar las fechas anteriores (-1, -2, -3) para que posteriormente podamos hacer merge"
   ]
  },
  {
   "cell_type": "code",
   "execution_count": null,
   "metadata": {},
   "outputs": [],
   "source": [
    "# Incluiremos fechas de los 3 últimos meses \n",
    "for i in range(3):\n",
    "    dbUniv['fec_'+str(i+1)] =\\\n",
    "    pd.to_datetime(dbUniv.apply(lambda x: add_months(x['periodo'],-(i+1)),axis=1))\n",
    "dbUniv.head()"
   ]
  },
  {
   "cell_type": "markdown",
   "metadata": {},
   "source": [
    "### 5. Desarrollo Base de Datos para el RFM:"
   ]
  },
  {
   "cell_type": "markdown",
   "metadata": {},
   "source": [
    "Pegamos la información de Tenencia y de consumo de los 3 últimos meses"
   ]
  },
  {
   "cell_type": "code",
   "execution_count": null,
   "metadata": {},
   "outputs": [],
   "source": [
    "dbFinal = pd.merge(dbUniv,dbGroup[['fecha','cliente','monto','trx','ind']], how='left',\n",
    "                   left_on=['fec_1','cliente'],right_on = ['fecha','cliente'])\n",
    "dbFinal = pd.merge(dbFinal,dbGroup[['fecha','cliente','monto','trx','ind']], how='left',\n",
    "                   left_on=['fec_2','cliente'],right_on = ['fecha','cliente'])\n",
    "dbFinal = pd.merge(dbFinal,dbGroup[['fecha','cliente','monto','trx','ind']], how='left',\n",
    "                   left_on=['fec_3','cliente'],right_on = ['fecha','cliente'])"
   ]
  },
  {
   "cell_type": "code",
   "execution_count": null,
   "metadata": {},
   "outputs": [],
   "source": [
    "dbFinal['M_1'] = dbFinal['ind_x'].apply(lambda x: 1 if x==1 else 0)\n",
    "dbFinal['monto_1'] = dbFinal['monto_x'].fillna(0)\n",
    "\n",
    "dbFinal['M_2'] = dbFinal['ind_y'].apply(lambda x: 1 if x==1 else 0)\n",
    "dbFinal['monto_2'] = dbFinal['monto_y'].fillna(0)\n",
    "\n",
    "dbFinal['M_3'] = dbFinal['ind'].apply(lambda x: 1 if x==1 else 0)\n",
    "dbFinal['monto_3'] = dbFinal['monto'].fillna(0)\n",
    "\n",
    "dbFinal = dbFinal[['periodo','cliente','M_1','M_2','M_3','monto_1','monto_2','monto_3']]"
   ]
  },
  {
   "cell_type": "code",
   "execution_count": null,
   "metadata": {},
   "outputs": [],
   "source": [
    "dbFinal.head()"
   ]
  },
  {
   "cell_type": "markdown",
   "metadata": {},
   "source": [
    "#### 5.1 Formando R + F + M"
   ]
  },
  {
   "cell_type": "markdown",
   "metadata": {},
   "source": [
    "A partir de la información de los 3 últimos meses damos forma a las variables R, F y M usando la libreria numpy para trabajar las condiciones"
   ]
  },
  {
   "cell_type": "code",
   "execution_count": null,
   "metadata": {},
   "outputs": [],
   "source": [
    "dbFinal['frec'] = dbFinal['M_1']+dbFinal['M_2']+dbFinal['M_3']\n",
    "dbFinal['rec'] = np.where(dbFinal['M_1']==1,3,np.where(dbFinal['M_2']==1,2,np.where(dbFinal['M_3']==1,1,0)))\n",
    "dbFinal['monto3um'] = np.where(dbFinal['frec']>0,\n",
    "                               (dbFinal['monto_1']+dbFinal['monto_2']+dbFinal['monto_3'])/dbFinal['frec'],0)"
   ]
  },
  {
   "cell_type": "markdown",
   "metadata": {},
   "source": [
    "Para el caso del Monto que es variable continua, existen varias formas de tratar los cortes, pueden ser por medio del clustering (kmeans), por deciles, la mediana o promedio, este paso tiene que ver con el negocio el cual podrian dar propuesta de cuantos niveles de mosnto es lo relevante"
   ]
  },
  {
   "cell_type": "code",
   "execution_count": null,
   "metadata": {},
   "outputs": [],
   "source": [
    "'''Analizando el valor de \"MONTO\"\n",
    "- Mediana\n",
    "- Clustering (kmeans)\n",
    "- Deciles\n",
    "- Promedio'''\n",
    "corte = dbFinal['monto3um'][dbFinal['monto3um']>0].median()\n",
    "print(f'La mediana de Monto es: {corte}')"
   ]
  },
  {
   "cell_type": "code",
   "execution_count": null,
   "metadata": {},
   "outputs": [],
   "source": [
    "### Realice el corte usando kmeans"
   ]
  },
  {
   "cell_type": "markdown",
   "metadata": {},
   "source": [
    "#### 5.2 Etiqueta de Monto y filtros"
   ]
  },
  {
   "cell_type": "markdown",
   "metadata": {},
   "source": [
    "Este paso es muy importante porque se hacen los últimos ajustes de la base de datos del RFM, suelen aparecer algunas anomalias, en caso sean mínimas podrian extraerse o corregir, en caso sea muy voluminoso habría que revisar la fuente de información "
   ]
  },
  {
   "cell_type": "code",
   "execution_count": null,
   "metadata": {},
   "outputs": [],
   "source": [
    "dbFinal['monto'] = np.where(dbFinal['monto3um']>=corte,'alto',np.where(dbFinal['monto3um']>0,'bajo','None'))\n",
    "dbFinal = dbFinal[['periodo','cliente','monto3um','rec','frec','monto']]\n",
    "# Limpiando\n",
    "# Alt+126 (~)\n",
    "dbFinal = dbFinal[~((dbFinal['frec']>0) & (dbFinal['monto3um']==0))]"
   ]
  },
  {
   "cell_type": "markdown",
   "metadata": {},
   "source": [
    "#### 5.3 Distribución RFM"
   ]
  },
  {
   "cell_type": "markdown",
   "metadata": {},
   "source": [
    "Este paso nos dará la propuesta de la primera distribución o los grupos propuestos donde nuestros clientes están almacenados, es aquí donde surge el debate y analizan cuales serían los grupos finales para el negocio."
   ]
  },
  {
   "cell_type": "code",
   "execution_count": null,
   "metadata": {},
   "outputs": [],
   "source": [
    "#nTotal = dbFinal.count()[0]\n",
    "#dbRfm = dbFinal.groupby(['rec','frec','monto']).agg({'cliente':'count'}).sort_values(by=['rec','frec'], ascending=False)\n",
    "nTotal = dbFinal[dbFinal['rec']>0].count()[0]\n",
    "resumRfm = dbFinal[dbFinal['rec']>0].groupby(['rec','frec','monto']).agg({'cliente':'count'})\\\n",
    "                                 .sort_values(by=['rec','frec'], ascending=False)\n",
    "\n",
    "resumRfm = resumRfm.reset_index()\n",
    "resumRfm['%'] = round(100*resumRfm['cliente']/nTotal,1)\n",
    "print(f'Clientes Total: {nTotal}\\n')\n",
    "print(resumRfm)"
   ]
  },
  {
   "cell_type": "markdown",
   "metadata": {},
   "source": [
    "# HASTA AQUI YA SE TIENE EL 70% DEL ESTUDIO !!!"
   ]
  },
  {
   "cell_type": "markdown",
   "metadata": {},
   "source": [
    "### 6. RFM método Clásico o Experto"
   ]
  },
  {
   "cell_type": "markdown",
   "metadata": {},
   "source": [
    "A partir de la base de datos construída, y luego de analizar las distribuciones, se concluirán los nombres de los grupos conjuntamente con las características de la frecuencia, recencia y monto."
   ]
  },
  {
   "cell_type": "markdown",
   "metadata": {},
   "source": [
    "Este análisis se realizó teniendo en cuenta la experiencia del analista en el negocio el cual puede identificar los grupos con la información dada y apuntando lo que necesita."
   ]
  },
  {
   "cell_type": "markdown",
   "metadata": {},
   "source": [
    "# Herramienta PAM\n",
    "- Partitioning Around Medoids"
   ]
  },
  {
   "cell_type": "markdown",
   "metadata": {},
   "source": [
    "### 1. Librerias:"
   ]
  },
  {
   "cell_type": "code",
   "execution_count": null,
   "metadata": {},
   "outputs": [],
   "source": [
    "# pip install kmodes\n",
    "from kmodes.kmodes import KModes\n",
    "from sklearn import preprocessing"
   ]
  },
  {
   "cell_type": "markdown",
   "metadata": {},
   "source": [
    "### 2. Base de Datos y etiquetado:"
   ]
  },
  {
   "cell_type": "markdown",
   "metadata": {},
   "source": [
    "Al preparar la base de datos, es necesario que las variables categóricas tengan una etiqueta, para ello haremos uso del LabelEncoder()"
   ]
  },
  {
   "cell_type": "code",
   "execution_count": null,
   "metadata": {},
   "outputs": [],
   "source": [
    "dbRfm = pd.DataFrame()\n",
    "dbRfm = dbFinal[dbFinal['rec']>0].copy()\n",
    "\n",
    "dbKmodes = pd.DataFrame()\n",
    "dbKmodes = dbRfm.copy()\n",
    "\n",
    "cod = preprocessing.LabelEncoder()\n",
    "dbKmodes = dbKmodes[['rec','frec','monto']].apply(cod.fit_transform)"
   ]
  },
  {
   "cell_type": "markdown",
   "metadata": {},
   "source": [
    "### 3. Modelo Clustering:"
   ]
  },
  {
   "cell_type": "markdown",
   "metadata": {},
   "source": [
    "Realizamos varias pruebas de clustering con el algorimo KMedois, cuyo algoritmo trabaja con variables categóricas."
   ]
  },
  {
   "cell_type": "code",
   "execution_count": null,
   "metadata": {},
   "outputs": [],
   "source": [
    "cost=[]\n",
    "cluster=[]\n",
    "\n",
    "for i in list(range(1,9)):\n",
    "    model = KModes(n_clusters=i, init='Cao', n_init=1, verbose=1)\n",
    "    cluster.append(model.fit_predict(dbKmodes))\n",
    "    cost.append(model.cost_)\n",
    "print(model.cluster_centroids_)"
   ]
  },
  {
   "cell_type": "markdown",
   "metadata": {},
   "source": [
    "### 4. Evolución de Cluster Vs Costo:"
   ]
  },
  {
   "cell_type": "markdown",
   "metadata": {},
   "source": [
    "Este gráfico nos ayudará a analizar la evolución de los valores del costo cada vez que sugiere cierto número de cluster, lo ideal es tomar aquellos costos menores"
   ]
  },
  {
   "cell_type": "code",
   "execution_count": null,
   "metadata": {},
   "outputs": [],
   "source": [
    "rango=np.array(range(1,len(cost)+1))\n",
    "plt.plot(rango,cost)\n",
    "plt.title('Evolución de Cluster Vs Costo')\n",
    "plt.xlabel('nro de clusters')\n",
    "plt.show()"
   ]
  },
  {
   "cell_type": "markdown",
   "metadata": {},
   "source": [
    "### 5. Análisis de Clusters:"
   ]
  },
  {
   "cell_type": "code",
   "execution_count": null,
   "metadata": {},
   "outputs": [],
   "source": [
    "numClus=[2,3,4,5,6,7]"
   ]
  },
  {
   "cell_type": "code",
   "execution_count": null,
   "metadata": {},
   "outputs": [],
   "source": [
    "copy =  pd.DataFrame()\n",
    "for i in numClus:\n",
    "    # Distribución de los grupos por clúster:\n",
    "    copy['cluster'] = cluster[i-1]\n",
    "    ctdGrupo =  pd.DataFrame()\n",
    "    ctdGrupo['ctdCliente']=copy.groupby('cluster').size()\n",
    "    ctdGrupo['pctCliente']=np.round(100*ctdGrupo['ctdCliente']/ctdGrupo['ctdCliente'].sum(),2)\n",
    "   \n",
    "    # gráfico de los grupos según su distribución:\n",
    "    plt.pie(ctdGrupo['pctCliente'], labels=ctdGrupo.index, autopct='%1.1f%%')\n",
    "    plt.title('Clúster '+str(i))\n",
    "    plt.legend()\n",
    "    plt.show()\n",
    "    print(ctdGrupo)      \n",
    "    print('\\n')"
   ]
  },
  {
   "cell_type": "markdown",
   "metadata": {},
   "source": [
    "### 6. Base Final - Cluster"
   ]
  },
  {
   "cell_type": "markdown",
   "metadata": {},
   "source": [
    "Una vez analizado el conjunto de cluster, procedemos a elegir el que mas se ajusta a nuestros propósitos y luego agregamos esas etiquetas en nuestra base oficial para continuar con la asignación de nombres de segmentos."
   ]
  },
  {
   "cell_type": "code",
   "execution_count": null,
   "metadata": {},
   "outputs": [],
   "source": [
    "nCluster = int(input('Ingrese la cantidad de cluster: '))"
   ]
  },
  {
   "cell_type": "code",
   "execution_count": null,
   "metadata": {},
   "outputs": [],
   "source": [
    "df = pd.DataFrame()\n",
    "df = dbRfm.copy()\n",
    "# Agregamos la etiqueta de los clusters:\n",
    "df['cluster'] = cluster[nCluster-1]"
   ]
  },
  {
   "cell_type": "markdown",
   "metadata": {},
   "source": [
    "### 7. RFM Método Analítico:"
   ]
  },
  {
   "cell_type": "markdown",
   "metadata": {},
   "source": [
    "#### 7.1 Características de los clusters:"
   ]
  },
  {
   "cell_type": "markdown",
   "metadata": {},
   "source": [
    "A partir de las carcterísticas agrupados por los cluster, procedemos a analizar quienes son y con ello llegar a la conclusión."
   ]
  },
  {
   "cell_type": "code",
   "execution_count": null,
   "metadata": {},
   "outputs": [],
   "source": [
    "resClus = df.groupby('cluster').agg({'cliente':'count','rec':'mean','frec':'mean','monto3um':'mean'})\\\n",
    "                                 .sort_values(by='cluster')\n",
    "resClus = resClus.reset_index()\n",
    "resClus['%'] = round(100*resClus['cliente']/dbRfm.count()[0],1)\n",
    "print(f'Clientes Total: {dbRfm.count()[0]}\\n')\n",
    "print(resClus)"
   ]
  }
 ],
 "metadata": {
  "kernelspec": {
   "display_name": "Python 3",
   "language": "python",
   "name": "python3"
  },
  "language_info": {
   "codemirror_mode": {
    "name": "ipython",
    "version": 3
   },
   "file_extension": ".py",
   "mimetype": "text/x-python",
   "name": "python",
   "nbconvert_exporter": "python",
   "pygments_lexer": "ipython3",
   "version": "3.7.5"
  }
 },
 "nbformat": 4,
 "nbformat_minor": 4
}
